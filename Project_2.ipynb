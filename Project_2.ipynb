{
 "cells": [
  {
   "cell_type": "markdown",
   "metadata": {},
   "source": [
    "<div style=\"border:solid green 2px; padding: 20px\"> \n",
    "    \n",
    "**Комментарий ревьюера**\n",
    "\n",
    "Привет! Меня зовут Сысоева Вера.\n",
    "    \n",
    "Далее в файле мои комментарии ты сможешь найти в ячейках, аналогичных данной ( если рамки комментария зелёные и отмечены **#ок** - всё сделано правильно; жёлтые и отмечены **#можно лучше** - есть замечания, но не критично; красные с пометкой **#ошибка** - нужно переделать). Не удаляй эти комментарии и постарайся учесть их в ходе выполнения проекта.\n",
    "    \n",
    "Я буду поддерживать версионность комментариев, и при следующих итерациях комментарии будут выделены, как \"Комментраии ревьюера - 2 (3 и.т.д.)\"\n",
    "    \n",
    "Если у тебя есть замечания, возражения и вопросы, ты можешь писать свои комментарии, по возможности выделяй их так же цветом (например, синим), чтоб их можно было легко отделить от текста проекта. \n",
    "    \n",
    "Кстати, предлагаю сразу общаться на \"ты\".\n",
    "    \n",
    "Увидев у тебя ошибку, в первый раз я лишь укажу на ее наличие и дам тебе возможность самостоятельно найти и исправить ее. На реальной работе твой начальник будет поступать так же, а я пытаюсь подготовить тебя именно к работе аналитиком. Но если ты пока не справишься с такой задачей - при следующей проверке я дам более точную подсказку.\n",
    "    \n",
    "</div>\n",
    "\n",
    "<div class=\"alert alert-info\">\n",
    "<b> Комментарий от студента - 2 </b>\n",
    "    \n",
    "Привет! Все замечания поправил. Появилось несколько небольших вопросов, буду рад получить ответы на них!)\n",
    "</div>"
   ]
  },
  {
   "cell_type": "markdown",
   "metadata": {},
   "source": [
    "# Исследование надежности заемщиков.\n",
    "\n",
    "\n",
    "**Описание проекта**\n",
    "\n",
    "Заказчик — кредитный отдел банка. Нужно разобраться, влияет ли семейное положение и количество детей клиента на факт погашения кредита в срок. Входные данные от банка — статистика о платёжеспособности клиентов.\n",
    "Результаты исследования будут учтены при построении модели кредитного скоринга — специальной системы, которая оценивает способность потенциального заёмщика вернуть кредит банку.\n",
    "\n",
    "**Цель исследования** — проверка следующих гипотез:\n",
    "\n",
    "- Есть ли зависимость между количеством детей и возвратом кредита в срок?\n",
    "- Есть ли зависимость между семейным положением и возвратом кредита в срок?\n",
    "- Есть ли зависимость между уровнем дохода и возвратом кредита в срок?\n",
    "- Как разные цели кредита влияют на его возврат в срок?"
   ]
  },
  {
   "cell_type": "markdown",
   "metadata": {},
   "source": [
    "# Шаг 1. Обзор данных\n",
    "\n",
    "<div class=\"alert alert-info\">\n",
    "<b> Комментарий от студента </b>\n",
    "    \n",
    "Вопрос: в прошлом проекте упоминалось, что вывод таблиц с помощью print() лучше заменить на display() для более корректного отображения данных в JN. Есть ли необходимость загонять, например, df.head(10) внутрь display(), если и без этого она отображается корректно.\n",
    "</div>"
   ]
  },
  {
   "cell_type": "markdown",
   "metadata": {},
   "source": [
    "<div style=\"border:solid green 2px; padding: 20px\"> \n",
    "    \n",
    "**Комментарий ревьюера**\n",
    "\n",
    "display используется в jupiter автоматически для последней строки кода в ячейке. Дополнительно его писать не нужно. Но, если мы хотим вывести не последнюю строку (часто это в цикле используется), то для вывода таблиц стоит использовать display, а не print\n",
    "</div>"
   ]
  },
  {
   "cell_type": "code",
   "execution_count": 140,
   "metadata": {},
   "outputs": [],
   "source": [
    "# импорт библиотеки pandas и math\n",
    "\n",
    "import pandas as pd\n",
    "import math"
   ]
  },
  {
   "cell_type": "markdown",
   "metadata": {},
   "source": [
    "<div style=\"border:solid green 2px; padding: 20px\"> \n",
    "    \n",
    "**Комментарий ревьюера**\n",
    "\n",
    "Правильно, что ты подгружаешь библиотеки в отдельной первой ячейке\n",
    "</div>"
   ]
  },
  {
   "cell_type": "code",
   "execution_count": 141,
   "metadata": {},
   "outputs": [],
   "source": [
    "# чтение данных из файла .csv и сохранение в df\n",
    "\n",
    "df = pd.read_csv('/datasets/data.csv')"
   ]
  },
  {
   "cell_type": "markdown",
   "metadata": {},
   "source": [
    "<div style=\"border:solid green 2px; padding: 20px\"> \n",
    "    \n",
    "**Комментарий ревьюера**\n",
    "\n",
    "**#ок**\n",
    "\n",
    "Отлично, все верно подгружено. \n",
    "    \n",
    "Также при работе с проектами тебе может понадобится работать на своей машине локально. Но в итоге сдать его можно только с сервера. Чтобы данные подгружались и локально и глобально можно использовать конструкцию try-except или if-else\n",
    "\n",
    "Также в таких случаях стоит применять библиотеку ``os``:\n",
    "\n",
    "    import os\n",
    "\n",
    "    pth1 = '/folder_1/data.csv' # Локальный путь\n",
    "    pth2 = '/folder_2/data.csv' # Серверный путь\n",
    "    \n",
    "    if os.path.exists(pth1):\n",
    "        data = pd.read_csv(pth1)\n",
    "    elif os.path.exists(pth2):\n",
    "        data = pd.read_csv(pth2)\n",
    "    else:\n",
    "        print('Something is wrong)  \n",
    "    \n",
    "Т.е. программа пытается подгрузить файл локально, и если не удается, то подгружает с сервера, если и это не удается, то пишет об ошибке\n",
    "    \n",
    "</div>"
   ]
  },
  {
   "cell_type": "code",
   "execution_count": 142,
   "metadata": {
    "scrolled": false
   },
   "outputs": [
    {
     "data": {
      "text/html": [
       "<div>\n",
       "<style scoped>\n",
       "    .dataframe tbody tr th:only-of-type {\n",
       "        vertical-align: middle;\n",
       "    }\n",
       "\n",
       "    .dataframe tbody tr th {\n",
       "        vertical-align: top;\n",
       "    }\n",
       "\n",
       "    .dataframe thead th {\n",
       "        text-align: right;\n",
       "    }\n",
       "</style>\n",
       "<table border=\"1\" class=\"dataframe\">\n",
       "  <thead>\n",
       "    <tr style=\"text-align: right;\">\n",
       "      <th></th>\n",
       "      <th>children</th>\n",
       "      <th>days_employed</th>\n",
       "      <th>dob_years</th>\n",
       "      <th>education</th>\n",
       "      <th>education_id</th>\n",
       "      <th>family_status</th>\n",
       "      <th>family_status_id</th>\n",
       "      <th>gender</th>\n",
       "      <th>income_type</th>\n",
       "      <th>debt</th>\n",
       "      <th>total_income</th>\n",
       "      <th>purpose</th>\n",
       "    </tr>\n",
       "  </thead>\n",
       "  <tbody>\n",
       "    <tr>\n",
       "      <td>0</td>\n",
       "      <td>1</td>\n",
       "      <td>-8437.673028</td>\n",
       "      <td>42</td>\n",
       "      <td>высшее</td>\n",
       "      <td>0</td>\n",
       "      <td>женат / замужем</td>\n",
       "      <td>0</td>\n",
       "      <td>F</td>\n",
       "      <td>сотрудник</td>\n",
       "      <td>0</td>\n",
       "      <td>253875.639453</td>\n",
       "      <td>покупка жилья</td>\n",
       "    </tr>\n",
       "    <tr>\n",
       "      <td>1</td>\n",
       "      <td>1</td>\n",
       "      <td>-4024.803754</td>\n",
       "      <td>36</td>\n",
       "      <td>среднее</td>\n",
       "      <td>1</td>\n",
       "      <td>женат / замужем</td>\n",
       "      <td>0</td>\n",
       "      <td>F</td>\n",
       "      <td>сотрудник</td>\n",
       "      <td>0</td>\n",
       "      <td>112080.014102</td>\n",
       "      <td>приобретение автомобиля</td>\n",
       "    </tr>\n",
       "    <tr>\n",
       "      <td>2</td>\n",
       "      <td>0</td>\n",
       "      <td>-5623.422610</td>\n",
       "      <td>33</td>\n",
       "      <td>Среднее</td>\n",
       "      <td>1</td>\n",
       "      <td>женат / замужем</td>\n",
       "      <td>0</td>\n",
       "      <td>M</td>\n",
       "      <td>сотрудник</td>\n",
       "      <td>0</td>\n",
       "      <td>145885.952297</td>\n",
       "      <td>покупка жилья</td>\n",
       "    </tr>\n",
       "    <tr>\n",
       "      <td>3</td>\n",
       "      <td>3</td>\n",
       "      <td>-4124.747207</td>\n",
       "      <td>32</td>\n",
       "      <td>среднее</td>\n",
       "      <td>1</td>\n",
       "      <td>женат / замужем</td>\n",
       "      <td>0</td>\n",
       "      <td>M</td>\n",
       "      <td>сотрудник</td>\n",
       "      <td>0</td>\n",
       "      <td>267628.550329</td>\n",
       "      <td>дополнительное образование</td>\n",
       "    </tr>\n",
       "    <tr>\n",
       "      <td>4</td>\n",
       "      <td>0</td>\n",
       "      <td>340266.072047</td>\n",
       "      <td>53</td>\n",
       "      <td>среднее</td>\n",
       "      <td>1</td>\n",
       "      <td>гражданский брак</td>\n",
       "      <td>1</td>\n",
       "      <td>F</td>\n",
       "      <td>пенсионер</td>\n",
       "      <td>0</td>\n",
       "      <td>158616.077870</td>\n",
       "      <td>сыграть свадьбу</td>\n",
       "    </tr>\n",
       "    <tr>\n",
       "      <td>5</td>\n",
       "      <td>0</td>\n",
       "      <td>-926.185831</td>\n",
       "      <td>27</td>\n",
       "      <td>высшее</td>\n",
       "      <td>0</td>\n",
       "      <td>гражданский брак</td>\n",
       "      <td>1</td>\n",
       "      <td>M</td>\n",
       "      <td>компаньон</td>\n",
       "      <td>0</td>\n",
       "      <td>255763.565419</td>\n",
       "      <td>покупка жилья</td>\n",
       "    </tr>\n",
       "    <tr>\n",
       "      <td>6</td>\n",
       "      <td>0</td>\n",
       "      <td>-2879.202052</td>\n",
       "      <td>43</td>\n",
       "      <td>высшее</td>\n",
       "      <td>0</td>\n",
       "      <td>женат / замужем</td>\n",
       "      <td>0</td>\n",
       "      <td>F</td>\n",
       "      <td>компаньон</td>\n",
       "      <td>0</td>\n",
       "      <td>240525.971920</td>\n",
       "      <td>операции с жильем</td>\n",
       "    </tr>\n",
       "    <tr>\n",
       "      <td>7</td>\n",
       "      <td>0</td>\n",
       "      <td>-152.779569</td>\n",
       "      <td>50</td>\n",
       "      <td>СРЕДНЕЕ</td>\n",
       "      <td>1</td>\n",
       "      <td>женат / замужем</td>\n",
       "      <td>0</td>\n",
       "      <td>M</td>\n",
       "      <td>сотрудник</td>\n",
       "      <td>0</td>\n",
       "      <td>135823.934197</td>\n",
       "      <td>образование</td>\n",
       "    </tr>\n",
       "    <tr>\n",
       "      <td>8</td>\n",
       "      <td>2</td>\n",
       "      <td>-6929.865299</td>\n",
       "      <td>35</td>\n",
       "      <td>ВЫСШЕЕ</td>\n",
       "      <td>0</td>\n",
       "      <td>гражданский брак</td>\n",
       "      <td>1</td>\n",
       "      <td>F</td>\n",
       "      <td>сотрудник</td>\n",
       "      <td>0</td>\n",
       "      <td>95856.832424</td>\n",
       "      <td>на проведение свадьбы</td>\n",
       "    </tr>\n",
       "    <tr>\n",
       "      <td>9</td>\n",
       "      <td>0</td>\n",
       "      <td>-2188.756445</td>\n",
       "      <td>41</td>\n",
       "      <td>среднее</td>\n",
       "      <td>1</td>\n",
       "      <td>женат / замужем</td>\n",
       "      <td>0</td>\n",
       "      <td>M</td>\n",
       "      <td>сотрудник</td>\n",
       "      <td>0</td>\n",
       "      <td>144425.938277</td>\n",
       "      <td>покупка жилья для семьи</td>\n",
       "    </tr>\n",
       "  </tbody>\n",
       "</table>\n",
       "</div>"
      ],
      "text/plain": [
       "   children  days_employed  dob_years education  education_id  \\\n",
       "0         1   -8437.673028         42    высшее             0   \n",
       "1         1   -4024.803754         36   среднее             1   \n",
       "2         0   -5623.422610         33   Среднее             1   \n",
       "3         3   -4124.747207         32   среднее             1   \n",
       "4         0  340266.072047         53   среднее             1   \n",
       "5         0    -926.185831         27    высшее             0   \n",
       "6         0   -2879.202052         43    высшее             0   \n",
       "7         0    -152.779569         50   СРЕДНЕЕ             1   \n",
       "8         2   -6929.865299         35    ВЫСШЕЕ             0   \n",
       "9         0   -2188.756445         41   среднее             1   \n",
       "\n",
       "      family_status  family_status_id gender income_type  debt   total_income  \\\n",
       "0   женат / замужем                 0      F   сотрудник     0  253875.639453   \n",
       "1   женат / замужем                 0      F   сотрудник     0  112080.014102   \n",
       "2   женат / замужем                 0      M   сотрудник     0  145885.952297   \n",
       "3   женат / замужем                 0      M   сотрудник     0  267628.550329   \n",
       "4  гражданский брак                 1      F   пенсионер     0  158616.077870   \n",
       "5  гражданский брак                 1      M   компаньон     0  255763.565419   \n",
       "6   женат / замужем                 0      F   компаньон     0  240525.971920   \n",
       "7   женат / замужем                 0      M   сотрудник     0  135823.934197   \n",
       "8  гражданский брак                 1      F   сотрудник     0   95856.832424   \n",
       "9   женат / замужем                 0      M   сотрудник     0  144425.938277   \n",
       "\n",
       "                      purpose  \n",
       "0               покупка жилья  \n",
       "1     приобретение автомобиля  \n",
       "2               покупка жилья  \n",
       "3  дополнительное образование  \n",
       "4             сыграть свадьбу  \n",
       "5               покупка жилья  \n",
       "6           операции с жильем  \n",
       "7                 образование  \n",
       "8       на проведение свадьбы  \n",
       "9     покупка жилья для семьи  "
      ]
     },
     "execution_count": 142,
     "metadata": {},
     "output_type": "execute_result"
    }
   ],
   "source": [
    "# получение первых 10 строк таблицы df\n",
    "\n",
    "df.head(10)"
   ]
  },
  {
   "cell_type": "code",
   "execution_count": 143,
   "metadata": {
    "scrolled": false
   },
   "outputs": [
    {
     "name": "stdout",
     "output_type": "stream",
     "text": [
      "<class 'pandas.core.frame.DataFrame'>\n",
      "RangeIndex: 21525 entries, 0 to 21524\n",
      "Data columns (total 12 columns):\n",
      "children            21525 non-null int64\n",
      "days_employed       19351 non-null float64\n",
      "dob_years           21525 non-null int64\n",
      "education           21525 non-null object\n",
      "education_id        21525 non-null int64\n",
      "family_status       21525 non-null object\n",
      "family_status_id    21525 non-null int64\n",
      "gender              21525 non-null object\n",
      "income_type         21525 non-null object\n",
      "debt                21525 non-null int64\n",
      "total_income        19351 non-null float64\n",
      "purpose             21525 non-null object\n",
      "dtypes: float64(2), int64(5), object(5)\n",
      "memory usage: 2.0+ MB\n"
     ]
    }
   ],
   "source": [
    "# вывод общей информации по таблице df\n",
    "\n",
    "df.info()"
   ]
  },
  {
   "cell_type": "markdown",
   "metadata": {},
   "source": [
    "Согласно полученной информации, в таблице 12 столбцов. Тип данных в столбцам int, float и object.\n",
    "\n",
    "Согласно полученной документации:\n",
    "* `children` — количество детей в семье\n",
    "* `days_employed` — общий трудовой стаж в днях\n",
    "* `dob_years` — возраст клиента в годах\n",
    "* `education` — уровень образования клиента\n",
    "* `education_id` — идентификатор уровня образования\n",
    "* `family_status` — семейное положение\n",
    "* `family_status_id` — идентификатор семейного положения\n",
    "* `gender` — пол клиента\n",
    "* `income_type` — тип занятости\n",
    "* `debt` — имел ли задолженность по возврату кредитов\n",
    "* `total_income` — ежемесячный доход\n",
    "* `purpose` — цель получения кредита\n",
    "\n",
    "В названиях колонок отсутствует нарушения стиля.\n",
    "\n",
    "Количество значений в столбцах `days_employed` и `total_income` отличается от остальных столбцов. Следовательно, в данных есть пропущенные значения.\n",
    "\n",
    "Также в данных присутствуют аномалии, такие как отрицательный трудовой стаж клиента."
   ]
  },
  {
   "cell_type": "markdown",
   "metadata": {},
   "source": [
    "<div style=\"border:solid green 2px; padding: 20px\"> \n",
    "    \n",
    "**Комментарий ревьюера**\n",
    "\n",
    "**#ок**\n",
    "\n",
    "Данные верно загружены, правильно просмотрена общая информация. Верные методы использованы, молодец\n",
    "\n",
    "</div>"
   ]
  },
  {
   "cell_type": "markdown",
   "metadata": {},
   "source": [
    "**Выводы**\n",
    "\n",
    "В каждой строке таблицы — данные о клиентах банка. Колонки рассказывают о клиенте: количество детей, трудовой стаж, семейное положение, уровень дохода и пр.\n",
    "\n",
    "Предварительно можно утверждать, что данных достаточно для проверки обозначенных гипотез. Однако в данных встречаются пропуски. Также необходимо проверить полученные данные на наличие аномалий, явных и неявных дубликатов.\n",
    "\n",
    "Чтобы двигаться дальше необходимо устранить проблемы в данных."
   ]
  },
  {
   "cell_type": "markdown",
   "metadata": {},
   "source": [
    "# Шаг 2.1 Заполнение пропусков"
   ]
  },
  {
   "cell_type": "code",
   "execution_count": 144,
   "metadata": {
    "scrolled": true
   },
   "outputs": [
    {
     "data": {
      "text/plain": [
       "children               0\n",
       "days_employed       2174\n",
       "dob_years              0\n",
       "education              0\n",
       "education_id           0\n",
       "family_status          0\n",
       "family_status_id       0\n",
       "gender                 0\n",
       "income_type            0\n",
       "debt                   0\n",
       "total_income        2174\n",
       "purpose                0\n",
       "dtype: int64"
      ]
     },
     "execution_count": 144,
     "metadata": {},
     "output_type": "execute_result"
    }
   ],
   "source": [
    "# Посчитаем число пропущенных значений в таблице\n",
    "\n",
    "df.isna().sum()"
   ]
  },
  {
   "cell_type": "code",
   "execution_count": 145,
   "metadata": {
    "scrolled": false
   },
   "outputs": [
    {
     "data": {
      "text/html": [
       "<div>\n",
       "<style scoped>\n",
       "    .dataframe tbody tr th:only-of-type {\n",
       "        vertical-align: middle;\n",
       "    }\n",
       "\n",
       "    .dataframe tbody tr th {\n",
       "        vertical-align: top;\n",
       "    }\n",
       "\n",
       "    .dataframe thead th {\n",
       "        text-align: right;\n",
       "    }\n",
       "</style>\n",
       "<table border=\"1\" class=\"dataframe\">\n",
       "  <thead>\n",
       "    <tr style=\"text-align: right;\">\n",
       "      <th></th>\n",
       "      <th>children</th>\n",
       "      <th>days_employed</th>\n",
       "      <th>dob_years</th>\n",
       "      <th>education</th>\n",
       "      <th>education_id</th>\n",
       "      <th>family_status</th>\n",
       "      <th>family_status_id</th>\n",
       "      <th>gender</th>\n",
       "      <th>income_type</th>\n",
       "      <th>debt</th>\n",
       "      <th>total_income</th>\n",
       "      <th>purpose</th>\n",
       "    </tr>\n",
       "  </thead>\n",
       "  <tbody>\n",
       "    <tr>\n",
       "      <td>12</td>\n",
       "      <td>0</td>\n",
       "      <td>NaN</td>\n",
       "      <td>65</td>\n",
       "      <td>среднее</td>\n",
       "      <td>1</td>\n",
       "      <td>гражданский брак</td>\n",
       "      <td>1</td>\n",
       "      <td>M</td>\n",
       "      <td>пенсионер</td>\n",
       "      <td>0</td>\n",
       "      <td>NaN</td>\n",
       "      <td>сыграть свадьбу</td>\n",
       "    </tr>\n",
       "    <tr>\n",
       "      <td>26</td>\n",
       "      <td>0</td>\n",
       "      <td>NaN</td>\n",
       "      <td>41</td>\n",
       "      <td>среднее</td>\n",
       "      <td>1</td>\n",
       "      <td>женат / замужем</td>\n",
       "      <td>0</td>\n",
       "      <td>M</td>\n",
       "      <td>госслужащий</td>\n",
       "      <td>0</td>\n",
       "      <td>NaN</td>\n",
       "      <td>образование</td>\n",
       "    </tr>\n",
       "    <tr>\n",
       "      <td>29</td>\n",
       "      <td>0</td>\n",
       "      <td>NaN</td>\n",
       "      <td>63</td>\n",
       "      <td>среднее</td>\n",
       "      <td>1</td>\n",
       "      <td>Не женат / не замужем</td>\n",
       "      <td>4</td>\n",
       "      <td>F</td>\n",
       "      <td>пенсионер</td>\n",
       "      <td>0</td>\n",
       "      <td>NaN</td>\n",
       "      <td>строительство жилой недвижимости</td>\n",
       "    </tr>\n",
       "    <tr>\n",
       "      <td>41</td>\n",
       "      <td>0</td>\n",
       "      <td>NaN</td>\n",
       "      <td>50</td>\n",
       "      <td>среднее</td>\n",
       "      <td>1</td>\n",
       "      <td>женат / замужем</td>\n",
       "      <td>0</td>\n",
       "      <td>F</td>\n",
       "      <td>госслужащий</td>\n",
       "      <td>0</td>\n",
       "      <td>NaN</td>\n",
       "      <td>сделка с подержанным автомобилем</td>\n",
       "    </tr>\n",
       "    <tr>\n",
       "      <td>55</td>\n",
       "      <td>0</td>\n",
       "      <td>NaN</td>\n",
       "      <td>54</td>\n",
       "      <td>среднее</td>\n",
       "      <td>1</td>\n",
       "      <td>гражданский брак</td>\n",
       "      <td>1</td>\n",
       "      <td>F</td>\n",
       "      <td>пенсионер</td>\n",
       "      <td>1</td>\n",
       "      <td>NaN</td>\n",
       "      <td>сыграть свадьбу</td>\n",
       "    </tr>\n",
       "    <tr>\n",
       "      <td>65</td>\n",
       "      <td>0</td>\n",
       "      <td>NaN</td>\n",
       "      <td>21</td>\n",
       "      <td>среднее</td>\n",
       "      <td>1</td>\n",
       "      <td>Не женат / не замужем</td>\n",
       "      <td>4</td>\n",
       "      <td>M</td>\n",
       "      <td>компаньон</td>\n",
       "      <td>0</td>\n",
       "      <td>NaN</td>\n",
       "      <td>операции с коммерческой недвижимостью</td>\n",
       "    </tr>\n",
       "    <tr>\n",
       "      <td>67</td>\n",
       "      <td>0</td>\n",
       "      <td>NaN</td>\n",
       "      <td>52</td>\n",
       "      <td>высшее</td>\n",
       "      <td>0</td>\n",
       "      <td>женат / замужем</td>\n",
       "      <td>0</td>\n",
       "      <td>F</td>\n",
       "      <td>пенсионер</td>\n",
       "      <td>0</td>\n",
       "      <td>NaN</td>\n",
       "      <td>покупка жилья для семьи</td>\n",
       "    </tr>\n",
       "    <tr>\n",
       "      <td>72</td>\n",
       "      <td>1</td>\n",
       "      <td>NaN</td>\n",
       "      <td>32</td>\n",
       "      <td>высшее</td>\n",
       "      <td>0</td>\n",
       "      <td>женат / замужем</td>\n",
       "      <td>0</td>\n",
       "      <td>M</td>\n",
       "      <td>госслужащий</td>\n",
       "      <td>0</td>\n",
       "      <td>NaN</td>\n",
       "      <td>операции с коммерческой недвижимостью</td>\n",
       "    </tr>\n",
       "    <tr>\n",
       "      <td>82</td>\n",
       "      <td>2</td>\n",
       "      <td>NaN</td>\n",
       "      <td>50</td>\n",
       "      <td>высшее</td>\n",
       "      <td>0</td>\n",
       "      <td>женат / замужем</td>\n",
       "      <td>0</td>\n",
       "      <td>F</td>\n",
       "      <td>сотрудник</td>\n",
       "      <td>0</td>\n",
       "      <td>NaN</td>\n",
       "      <td>жилье</td>\n",
       "    </tr>\n",
       "    <tr>\n",
       "      <td>83</td>\n",
       "      <td>0</td>\n",
       "      <td>NaN</td>\n",
       "      <td>52</td>\n",
       "      <td>среднее</td>\n",
       "      <td>1</td>\n",
       "      <td>женат / замужем</td>\n",
       "      <td>0</td>\n",
       "      <td>M</td>\n",
       "      <td>сотрудник</td>\n",
       "      <td>0</td>\n",
       "      <td>NaN</td>\n",
       "      <td>жилье</td>\n",
       "    </tr>\n",
       "  </tbody>\n",
       "</table>\n",
       "</div>"
      ],
      "text/plain": [
       "    children  days_employed  dob_years education  education_id  \\\n",
       "12         0            NaN         65   среднее             1   \n",
       "26         0            NaN         41   среднее             1   \n",
       "29         0            NaN         63   среднее             1   \n",
       "41         0            NaN         50   среднее             1   \n",
       "55         0            NaN         54   среднее             1   \n",
       "65         0            NaN         21   среднее             1   \n",
       "67         0            NaN         52    высшее             0   \n",
       "72         1            NaN         32    высшее             0   \n",
       "82         2            NaN         50    высшее             0   \n",
       "83         0            NaN         52   среднее             1   \n",
       "\n",
       "            family_status  family_status_id gender  income_type  debt  \\\n",
       "12       гражданский брак                 1      M    пенсионер     0   \n",
       "26        женат / замужем                 0      M  госслужащий     0   \n",
       "29  Не женат / не замужем                 4      F    пенсионер     0   \n",
       "41        женат / замужем                 0      F  госслужащий     0   \n",
       "55       гражданский брак                 1      F    пенсионер     1   \n",
       "65  Не женат / не замужем                 4      M    компаньон     0   \n",
       "67        женат / замужем                 0      F    пенсионер     0   \n",
       "72        женат / замужем                 0      M  госслужащий     0   \n",
       "82        женат / замужем                 0      F    сотрудник     0   \n",
       "83        женат / замужем                 0      M    сотрудник     0   \n",
       "\n",
       "    total_income                                purpose  \n",
       "12           NaN                        сыграть свадьбу  \n",
       "26           NaN                            образование  \n",
       "29           NaN       строительство жилой недвижимости  \n",
       "41           NaN       сделка с подержанным автомобилем  \n",
       "55           NaN                        сыграть свадьбу  \n",
       "65           NaN  операции с коммерческой недвижимостью  \n",
       "67           NaN                покупка жилья для семьи  \n",
       "72           NaN  операции с коммерческой недвижимостью  \n",
       "82           NaN                                  жилье  \n",
       "83           NaN                                  жилье  "
      ]
     },
     "execution_count": 145,
     "metadata": {},
     "output_type": "execute_result"
    }
   ],
   "source": [
    "# Находим все строки с пропусками в столбце days_employed и выводим первые десять\n",
    "\n",
    "df[df['days_employed'].isna()].head(10)"
   ]
  },
  {
   "cell_type": "markdown",
   "metadata": {},
   "source": [
    "Можно заметить, что в столбцах `days_employed` и `total_income` присутствуют значения NaN. "
   ]
  },
  {
   "cell_type": "code",
   "execution_count": 146,
   "metadata": {
    "scrolled": true
   },
   "outputs": [
    {
     "name": "stdout",
     "output_type": "stream",
     "text": [
      "Доля пропущенных значений в столбце days_employed составляет: 10.1%\n",
      "Доля пропущенных значений в столбце total_income составляет: 10.1%\n"
     ]
    }
   ],
   "source": [
    "# Найдем долю пропущенных значений в столбцах days_employed и total_income\n",
    "\n",
    "days_employed_miss = len(df[df['days_employed'].isna()])\n",
    "total_income_miss = len(df[df['total_income'].isna()])\n",
    "total_row_count = df.shape[0]\n",
    "\n",
    "print(f'Доля пропущенных значений в столбце days_employed составляет: {round(days_employed_miss / total_row_count * 100, 1)}%')\n",
    "print(f'Доля пропущенных значений в столбце total_income составляет: {round(total_income_miss / total_row_count * 100, 1)}%')"
   ]
  },
  {
   "cell_type": "markdown",
   "metadata": {},
   "source": [
    "Доля пропущенных значений составляет приблизительно 10%. Данные в столбцах `days_employed` и `total_income` являются количественными, следовательно, в сложившейся ситуации для недопущения потери ценных данных решено заменить пропущенные значения на медианное значение по каждому из стоблцов. \n",
    "\n",
    "Медианное значение выбирается с целью более качественной характеристики данных, т.к. среднее значение не всегда корректно характеризует данные, когда некоторые значения исходного пула сильно выделяются среди большинства.\n",
    "\n",
    "Причиной появления пропусков данных может быть связана с различной формой сбора данных, либо ошибке при их выгрузке. В поддержку данной гипотезы выступает тот факт, что число пропущенных строк в двух столбцах одинаковы."
   ]
  },
  {
   "cell_type": "code",
   "execution_count": 147,
   "metadata": {
    "scrolled": true
   },
   "outputs": [
    {
     "name": "stdout",
     "output_type": "stream",
     "text": [
      "Медианное значение для трудового стажа: -1203.369528770489\n",
      "Медианное значение для заработка: 145017.93753253992\n"
     ]
    }
   ],
   "source": [
    "# Заменим пропущенные значения в столбцах days_employed и total_income\n",
    "\n",
    "days_avg = df['days_employed'].median()\n",
    "income_avg = df['total_income'].median()\n",
    "\n",
    "print('Медианное значение для трудового стажа:', days_avg)\n",
    "print('Медианное значение для заработка:', income_avg)\n",
    "\n",
    "df['days_employed'] = df['days_employed'].fillna(value=days_avg)\n",
    "df['total_income'] = df['total_income'].fillna(value=income_avg)"
   ]
  },
  {
   "cell_type": "markdown",
   "metadata": {},
   "source": [
    "<div style=\"border:solid green 2px; padding: 20px\"> \n",
    "    \n",
    "**Комментарий ревьюера**\n",
    "\n",
    "**#ок**\n",
    "\n",
    "Заполнение медианой - правильное решение. В данных есть выбросы, а медиана наименее чувствительна к ним\n",
    "\n",
    "</div>"
   ]
  },
  {
   "cell_type": "code",
   "execution_count": 148,
   "metadata": {},
   "outputs": [
    {
     "name": "stdout",
     "output_type": "stream",
     "text": [
      "<class 'pandas.core.frame.DataFrame'>\n",
      "RangeIndex: 21525 entries, 0 to 21524\n",
      "Data columns (total 12 columns):\n",
      "children            21525 non-null int64\n",
      "days_employed       21525 non-null float64\n",
      "dob_years           21525 non-null int64\n",
      "education           21525 non-null object\n",
      "education_id        21525 non-null int64\n",
      "family_status       21525 non-null object\n",
      "family_status_id    21525 non-null int64\n",
      "gender              21525 non-null object\n",
      "income_type         21525 non-null object\n",
      "debt                21525 non-null int64\n",
      "total_income        21525 non-null float64\n",
      "purpose             21525 non-null object\n",
      "dtypes: float64(2), int64(5), object(5)\n",
      "memory usage: 2.0+ MB\n"
     ]
    }
   ],
   "source": [
    "# Проверим результат замены NaN пропусков\n",
    "\n",
    "df.info()"
   ]
  },
  {
   "cell_type": "markdown",
   "metadata": {},
   "source": [
    "Как мы видим, пропуски значений заменились нашими медианными значениями. Следовательно, мы готовы к дальнейшей предобработке данных."
   ]
  },
  {
   "cell_type": "markdown",
   "metadata": {},
   "source": [
    "# Шаг 2.2 Проверка данных на аномалии и исправления."
   ]
  },
  {
   "cell_type": "markdown",
   "metadata": {},
   "source": [
    "Обратим внимание, что медианное значение по столбцу `days_employed` - отрицательное. Это аномалия. Большинство значений в столбце `days_employed` представлено отрицательными значениями или значениями, выпадающими из возможного пула (например, в строчке 4: 340266.072047). Согласно данному значению общий трудовой стаж человека составил 932 года. Возможно, при заполнении данных трудовой стаж был указан в часах, а не днях, как заявлено в сопроводительной документации. Либо была допущена ошибка при заполнении данных. Также большая часть трудового стажа указана с отрицательным знаком. Вероятнее всего, это технологическая ошибка и стоит доложить о ней разработчику, который прислал исходный файл для уточнения корректности данных.\n",
    "\n",
    "Однако, согласно требованиям заказчика, работ со столбцом `days_employed` не предвидится и необходимости в разборе аномалий по данном столбцу нету. Поэтому в дальнейших исследованиях будем иметь ввиду некорректность столбца `days_employed`, но тратить время на его обработку не будем."
   ]
  },
  {
   "cell_type": "code",
   "execution_count": 149,
   "metadata": {
    "scrolled": false
   },
   "outputs": [
    {
     "data": {
      "text/html": [
       "<div>\n",
       "<style scoped>\n",
       "    .dataframe tbody tr th:only-of-type {\n",
       "        vertical-align: middle;\n",
       "    }\n",
       "\n",
       "    .dataframe tbody tr th {\n",
       "        vertical-align: top;\n",
       "    }\n",
       "\n",
       "    .dataframe thead th {\n",
       "        text-align: right;\n",
       "    }\n",
       "</style>\n",
       "<table border=\"1\" class=\"dataframe\">\n",
       "  <thead>\n",
       "    <tr style=\"text-align: right;\">\n",
       "      <th></th>\n",
       "      <th>children</th>\n",
       "      <th>days_employed</th>\n",
       "      <th>dob_years</th>\n",
       "      <th>education</th>\n",
       "      <th>education_id</th>\n",
       "      <th>family_status</th>\n",
       "      <th>family_status_id</th>\n",
       "      <th>gender</th>\n",
       "      <th>income_type</th>\n",
       "      <th>debt</th>\n",
       "      <th>total_income</th>\n",
       "      <th>purpose</th>\n",
       "    </tr>\n",
       "  </thead>\n",
       "  <tbody>\n",
       "    <tr>\n",
       "      <td>0</td>\n",
       "      <td>1</td>\n",
       "      <td>-8437.673028</td>\n",
       "      <td>42</td>\n",
       "      <td>высшее</td>\n",
       "      <td>0</td>\n",
       "      <td>женат / замужем</td>\n",
       "      <td>0</td>\n",
       "      <td>F</td>\n",
       "      <td>сотрудник</td>\n",
       "      <td>0</td>\n",
       "      <td>253875.639453</td>\n",
       "      <td>покупка жилья</td>\n",
       "    </tr>\n",
       "    <tr>\n",
       "      <td>1</td>\n",
       "      <td>1</td>\n",
       "      <td>-4024.803754</td>\n",
       "      <td>36</td>\n",
       "      <td>среднее</td>\n",
       "      <td>1</td>\n",
       "      <td>женат / замужем</td>\n",
       "      <td>0</td>\n",
       "      <td>F</td>\n",
       "      <td>сотрудник</td>\n",
       "      <td>0</td>\n",
       "      <td>112080.014102</td>\n",
       "      <td>приобретение автомобиля</td>\n",
       "    </tr>\n",
       "    <tr>\n",
       "      <td>2</td>\n",
       "      <td>0</td>\n",
       "      <td>-5623.422610</td>\n",
       "      <td>33</td>\n",
       "      <td>Среднее</td>\n",
       "      <td>1</td>\n",
       "      <td>женат / замужем</td>\n",
       "      <td>0</td>\n",
       "      <td>M</td>\n",
       "      <td>сотрудник</td>\n",
       "      <td>0</td>\n",
       "      <td>145885.952297</td>\n",
       "      <td>покупка жилья</td>\n",
       "    </tr>\n",
       "    <tr>\n",
       "      <td>3</td>\n",
       "      <td>3</td>\n",
       "      <td>-4124.747207</td>\n",
       "      <td>32</td>\n",
       "      <td>среднее</td>\n",
       "      <td>1</td>\n",
       "      <td>женат / замужем</td>\n",
       "      <td>0</td>\n",
       "      <td>M</td>\n",
       "      <td>сотрудник</td>\n",
       "      <td>0</td>\n",
       "      <td>267628.550329</td>\n",
       "      <td>дополнительное образование</td>\n",
       "    </tr>\n",
       "    <tr>\n",
       "      <td>4</td>\n",
       "      <td>0</td>\n",
       "      <td>340266.072047</td>\n",
       "      <td>53</td>\n",
       "      <td>среднее</td>\n",
       "      <td>1</td>\n",
       "      <td>гражданский брак</td>\n",
       "      <td>1</td>\n",
       "      <td>F</td>\n",
       "      <td>пенсионер</td>\n",
       "      <td>0</td>\n",
       "      <td>158616.077870</td>\n",
       "      <td>сыграть свадьбу</td>\n",
       "    </tr>\n",
       "    <tr>\n",
       "      <td>5</td>\n",
       "      <td>0</td>\n",
       "      <td>-926.185831</td>\n",
       "      <td>27</td>\n",
       "      <td>высшее</td>\n",
       "      <td>0</td>\n",
       "      <td>гражданский брак</td>\n",
       "      <td>1</td>\n",
       "      <td>M</td>\n",
       "      <td>компаньон</td>\n",
       "      <td>0</td>\n",
       "      <td>255763.565419</td>\n",
       "      <td>покупка жилья</td>\n",
       "    </tr>\n",
       "    <tr>\n",
       "      <td>6</td>\n",
       "      <td>0</td>\n",
       "      <td>-2879.202052</td>\n",
       "      <td>43</td>\n",
       "      <td>высшее</td>\n",
       "      <td>0</td>\n",
       "      <td>женат / замужем</td>\n",
       "      <td>0</td>\n",
       "      <td>F</td>\n",
       "      <td>компаньон</td>\n",
       "      <td>0</td>\n",
       "      <td>240525.971920</td>\n",
       "      <td>операции с жильем</td>\n",
       "    </tr>\n",
       "    <tr>\n",
       "      <td>7</td>\n",
       "      <td>0</td>\n",
       "      <td>-152.779569</td>\n",
       "      <td>50</td>\n",
       "      <td>СРЕДНЕЕ</td>\n",
       "      <td>1</td>\n",
       "      <td>женат / замужем</td>\n",
       "      <td>0</td>\n",
       "      <td>M</td>\n",
       "      <td>сотрудник</td>\n",
       "      <td>0</td>\n",
       "      <td>135823.934197</td>\n",
       "      <td>образование</td>\n",
       "    </tr>\n",
       "    <tr>\n",
       "      <td>8</td>\n",
       "      <td>2</td>\n",
       "      <td>-6929.865299</td>\n",
       "      <td>35</td>\n",
       "      <td>ВЫСШЕЕ</td>\n",
       "      <td>0</td>\n",
       "      <td>гражданский брак</td>\n",
       "      <td>1</td>\n",
       "      <td>F</td>\n",
       "      <td>сотрудник</td>\n",
       "      <td>0</td>\n",
       "      <td>95856.832424</td>\n",
       "      <td>на проведение свадьбы</td>\n",
       "    </tr>\n",
       "    <tr>\n",
       "      <td>9</td>\n",
       "      <td>0</td>\n",
       "      <td>-2188.756445</td>\n",
       "      <td>41</td>\n",
       "      <td>среднее</td>\n",
       "      <td>1</td>\n",
       "      <td>женат / замужем</td>\n",
       "      <td>0</td>\n",
       "      <td>M</td>\n",
       "      <td>сотрудник</td>\n",
       "      <td>0</td>\n",
       "      <td>144425.938277</td>\n",
       "      <td>покупка жилья для семьи</td>\n",
       "    </tr>\n",
       "    <tr>\n",
       "      <td>10</td>\n",
       "      <td>2</td>\n",
       "      <td>-4171.483647</td>\n",
       "      <td>36</td>\n",
       "      <td>высшее</td>\n",
       "      <td>0</td>\n",
       "      <td>женат / замужем</td>\n",
       "      <td>0</td>\n",
       "      <td>M</td>\n",
       "      <td>компаньон</td>\n",
       "      <td>0</td>\n",
       "      <td>113943.491460</td>\n",
       "      <td>покупка недвижимости</td>\n",
       "    </tr>\n",
       "    <tr>\n",
       "      <td>11</td>\n",
       "      <td>0</td>\n",
       "      <td>-792.701887</td>\n",
       "      <td>40</td>\n",
       "      <td>среднее</td>\n",
       "      <td>1</td>\n",
       "      <td>женат / замужем</td>\n",
       "      <td>0</td>\n",
       "      <td>F</td>\n",
       "      <td>сотрудник</td>\n",
       "      <td>0</td>\n",
       "      <td>77069.234271</td>\n",
       "      <td>покупка коммерческой недвижимости</td>\n",
       "    </tr>\n",
       "    <tr>\n",
       "      <td>12</td>\n",
       "      <td>0</td>\n",
       "      <td>-1203.369529</td>\n",
       "      <td>65</td>\n",
       "      <td>среднее</td>\n",
       "      <td>1</td>\n",
       "      <td>гражданский брак</td>\n",
       "      <td>1</td>\n",
       "      <td>M</td>\n",
       "      <td>пенсионер</td>\n",
       "      <td>0</td>\n",
       "      <td>145017.937533</td>\n",
       "      <td>сыграть свадьбу</td>\n",
       "    </tr>\n",
       "    <tr>\n",
       "      <td>13</td>\n",
       "      <td>0</td>\n",
       "      <td>-1846.641941</td>\n",
       "      <td>54</td>\n",
       "      <td>неоконченное высшее</td>\n",
       "      <td>2</td>\n",
       "      <td>женат / замужем</td>\n",
       "      <td>0</td>\n",
       "      <td>F</td>\n",
       "      <td>сотрудник</td>\n",
       "      <td>0</td>\n",
       "      <td>130458.228857</td>\n",
       "      <td>приобретение автомобиля</td>\n",
       "    </tr>\n",
       "    <tr>\n",
       "      <td>14</td>\n",
       "      <td>0</td>\n",
       "      <td>-1844.956182</td>\n",
       "      <td>56</td>\n",
       "      <td>высшее</td>\n",
       "      <td>0</td>\n",
       "      <td>гражданский брак</td>\n",
       "      <td>1</td>\n",
       "      <td>F</td>\n",
       "      <td>компаньон</td>\n",
       "      <td>1</td>\n",
       "      <td>165127.911772</td>\n",
       "      <td>покупка жилой недвижимости</td>\n",
       "    </tr>\n",
       "    <tr>\n",
       "      <td>15</td>\n",
       "      <td>1</td>\n",
       "      <td>-972.364419</td>\n",
       "      <td>26</td>\n",
       "      <td>среднее</td>\n",
       "      <td>1</td>\n",
       "      <td>женат / замужем</td>\n",
       "      <td>0</td>\n",
       "      <td>F</td>\n",
       "      <td>сотрудник</td>\n",
       "      <td>0</td>\n",
       "      <td>116820.904450</td>\n",
       "      <td>строительство собственной недвижимости</td>\n",
       "    </tr>\n",
       "    <tr>\n",
       "      <td>16</td>\n",
       "      <td>0</td>\n",
       "      <td>-1719.934226</td>\n",
       "      <td>35</td>\n",
       "      <td>среднее</td>\n",
       "      <td>1</td>\n",
       "      <td>женат / замужем</td>\n",
       "      <td>0</td>\n",
       "      <td>F</td>\n",
       "      <td>сотрудник</td>\n",
       "      <td>0</td>\n",
       "      <td>289202.704229</td>\n",
       "      <td>недвижимость</td>\n",
       "    </tr>\n",
       "    <tr>\n",
       "      <td>17</td>\n",
       "      <td>0</td>\n",
       "      <td>-2369.999720</td>\n",
       "      <td>33</td>\n",
       "      <td>высшее</td>\n",
       "      <td>0</td>\n",
       "      <td>гражданский брак</td>\n",
       "      <td>1</td>\n",
       "      <td>M</td>\n",
       "      <td>сотрудник</td>\n",
       "      <td>0</td>\n",
       "      <td>90410.586745</td>\n",
       "      <td>строительство недвижимости</td>\n",
       "    </tr>\n",
       "    <tr>\n",
       "      <td>18</td>\n",
       "      <td>0</td>\n",
       "      <td>400281.136913</td>\n",
       "      <td>53</td>\n",
       "      <td>среднее</td>\n",
       "      <td>1</td>\n",
       "      <td>вдовец / вдова</td>\n",
       "      <td>2</td>\n",
       "      <td>F</td>\n",
       "      <td>пенсионер</td>\n",
       "      <td>0</td>\n",
       "      <td>56823.777243</td>\n",
       "      <td>на покупку подержанного автомобиля</td>\n",
       "    </tr>\n",
       "    <tr>\n",
       "      <td>19</td>\n",
       "      <td>0</td>\n",
       "      <td>-10038.818549</td>\n",
       "      <td>48</td>\n",
       "      <td>СРЕДНЕЕ</td>\n",
       "      <td>1</td>\n",
       "      <td>в разводе</td>\n",
       "      <td>3</td>\n",
       "      <td>F</td>\n",
       "      <td>сотрудник</td>\n",
       "      <td>0</td>\n",
       "      <td>242831.107982</td>\n",
       "      <td>на покупку своего автомобиля</td>\n",
       "    </tr>\n",
       "  </tbody>\n",
       "</table>\n",
       "</div>"
      ],
      "text/plain": [
       "    children  days_employed  dob_years            education  education_id  \\\n",
       "0          1   -8437.673028         42               высшее             0   \n",
       "1          1   -4024.803754         36              среднее             1   \n",
       "2          0   -5623.422610         33              Среднее             1   \n",
       "3          3   -4124.747207         32              среднее             1   \n",
       "4          0  340266.072047         53              среднее             1   \n",
       "5          0    -926.185831         27               высшее             0   \n",
       "6          0   -2879.202052         43               высшее             0   \n",
       "7          0    -152.779569         50              СРЕДНЕЕ             1   \n",
       "8          2   -6929.865299         35               ВЫСШЕЕ             0   \n",
       "9          0   -2188.756445         41              среднее             1   \n",
       "10         2   -4171.483647         36               высшее             0   \n",
       "11         0    -792.701887         40              среднее             1   \n",
       "12         0   -1203.369529         65              среднее             1   \n",
       "13         0   -1846.641941         54  неоконченное высшее             2   \n",
       "14         0   -1844.956182         56               высшее             0   \n",
       "15         1    -972.364419         26              среднее             1   \n",
       "16         0   -1719.934226         35              среднее             1   \n",
       "17         0   -2369.999720         33               высшее             0   \n",
       "18         0  400281.136913         53              среднее             1   \n",
       "19         0  -10038.818549         48              СРЕДНЕЕ             1   \n",
       "\n",
       "       family_status  family_status_id gender income_type  debt  \\\n",
       "0    женат / замужем                 0      F   сотрудник     0   \n",
       "1    женат / замужем                 0      F   сотрудник     0   \n",
       "2    женат / замужем                 0      M   сотрудник     0   \n",
       "3    женат / замужем                 0      M   сотрудник     0   \n",
       "4   гражданский брак                 1      F   пенсионер     0   \n",
       "5   гражданский брак                 1      M   компаньон     0   \n",
       "6    женат / замужем                 0      F   компаньон     0   \n",
       "7    женат / замужем                 0      M   сотрудник     0   \n",
       "8   гражданский брак                 1      F   сотрудник     0   \n",
       "9    женат / замужем                 0      M   сотрудник     0   \n",
       "10   женат / замужем                 0      M   компаньон     0   \n",
       "11   женат / замужем                 0      F   сотрудник     0   \n",
       "12  гражданский брак                 1      M   пенсионер     0   \n",
       "13   женат / замужем                 0      F   сотрудник     0   \n",
       "14  гражданский брак                 1      F   компаньон     1   \n",
       "15   женат / замужем                 0      F   сотрудник     0   \n",
       "16   женат / замужем                 0      F   сотрудник     0   \n",
       "17  гражданский брак                 1      M   сотрудник     0   \n",
       "18    вдовец / вдова                 2      F   пенсионер     0   \n",
       "19         в разводе                 3      F   сотрудник     0   \n",
       "\n",
       "     total_income                                 purpose  \n",
       "0   253875.639453                           покупка жилья  \n",
       "1   112080.014102                 приобретение автомобиля  \n",
       "2   145885.952297                           покупка жилья  \n",
       "3   267628.550329              дополнительное образование  \n",
       "4   158616.077870                         сыграть свадьбу  \n",
       "5   255763.565419                           покупка жилья  \n",
       "6   240525.971920                       операции с жильем  \n",
       "7   135823.934197                             образование  \n",
       "8    95856.832424                   на проведение свадьбы  \n",
       "9   144425.938277                 покупка жилья для семьи  \n",
       "10  113943.491460                    покупка недвижимости  \n",
       "11   77069.234271       покупка коммерческой недвижимости  \n",
       "12  145017.937533                         сыграть свадьбу  \n",
       "13  130458.228857                 приобретение автомобиля  \n",
       "14  165127.911772              покупка жилой недвижимости  \n",
       "15  116820.904450  строительство собственной недвижимости  \n",
       "16  289202.704229                            недвижимость  \n",
       "17   90410.586745              строительство недвижимости  \n",
       "18   56823.777243      на покупку подержанного автомобиля  \n",
       "19  242831.107982            на покупку своего автомобиля  "
      ]
     },
     "execution_count": 149,
     "metadata": {},
     "output_type": "execute_result"
    }
   ],
   "source": [
    "# Выведем первые 20 строчек таблицы для визуальной проверки замены и контроля аномальных значений в столбцах\n",
    "\n",
    "df.head(20)"
   ]
  },
  {
   "cell_type": "markdown",
   "metadata": {},
   "source": [
    "Сразу обратим внимание, что в таблице присутствует большое количество дубликатов:\n",
    "- разный регистр в столбце `education`;\n",
    "- дубликаты категорий в столбце `purpose`;\n",
    "- некорректный тип данных в столбце `total_income`.\n",
    "\n",
    "Разберемся с этими проблемами далее."
   ]
  },
  {
   "cell_type": "markdown",
   "metadata": {},
   "source": [
    "<div style=\"border:solid gold 2px; padding: 20px\"> \n",
    "    \n",
    "**Комментарий ревьюера**\n",
    "\n",
    "**#можно лучше**\n",
    "\n",
    "Для поиска ошибок стоило прямо в этом разделе использовать `value_counts` для категориальных переменных и `describe` для получения информации о количественных переменных.\n",
    "\n",
    "Ты делаешь это ниже вполне правильно, но стоило именно здесь искать так ошибки. Сейчас кажется, что ты хочешь найти ошибки, посмотрев первые 20 строк, а это принципиально не верно. Никакие 20, 50 или даже 100 первых строк не могут служить проверкой наличия или исправления ошибок. Нужно использовать другие методы: смотреть подвыборки, считать количества. В общем надо точно показывать сколько у нас строк был с такой-то ошибкой и сколько стало (должно быть соответственно 0)\n",
    "</div>\n",
    "\n",
    "<div class=\"alert alert-info\">\n",
    "<b> Комментарий от студента - 2</b>\n",
    "    \n",
    "Я хотел визуально оценить то, как выглядят данные в таблице. Но теперь осознаю, что это может случайно исказить реальную картину и так лучше не делать. Блок удалять не буду, но ошибку понял.\n",
    "</div>"
   ]
  },
  {
   "cell_type": "markdown",
   "metadata": {},
   "source": [
    "<div style=\"border:solid green 2px; padding: 20px\"> \n",
    "    \n",
    "**Комментарий ревьюера - 2**\n",
    "\n",
    "👍\n",
    "    \n",
    "</div>"
   ]
  },
  {
   "cell_type": "markdown",
   "metadata": {},
   "source": [
    "# Шаг 2.3. Изменение типов данных."
   ]
  },
  {
   "cell_type": "code",
   "execution_count": 150,
   "metadata": {},
   "outputs": [
    {
     "name": "stdout",
     "output_type": "stream",
     "text": [
      "<class 'pandas.core.frame.DataFrame'>\n",
      "RangeIndex: 21525 entries, 0 to 21524\n",
      "Data columns (total 12 columns):\n",
      "children            21525 non-null int64\n",
      "days_employed       21525 non-null int64\n",
      "dob_years           21525 non-null int64\n",
      "education           21525 non-null object\n",
      "education_id        21525 non-null int64\n",
      "family_status       21525 non-null object\n",
      "family_status_id    21525 non-null int64\n",
      "gender              21525 non-null object\n",
      "income_type         21525 non-null object\n",
      "debt                21525 non-null bool\n",
      "total_income        21525 non-null int64\n",
      "purpose             21525 non-null object\n",
      "dtypes: bool(1), int64(6), object(5)\n",
      "memory usage: 1.8+ MB\n"
     ]
    }
   ],
   "source": [
    "# Переведем все значения столбца `total_income` в тип int и убедимся в корретности замены\n",
    "\n",
    "df['total_income'] = df['total_income'].astype('int')\n",
    "df['days_employed'] = df['days_employed'].astype('int')\n",
    "df['debt'] = df['debt'].astype('bool')\n",
    "df.info()"
   ]
  },
  {
   "cell_type": "markdown",
   "metadata": {},
   "source": [
    "<div style=\"border:solid red 2px; padding: 20px\"> \n",
    "    \n",
    "**Комментарий ревьюера**\n",
    "\n",
    "**#ошибка**\n",
    "\n",
    "Также нужно стаж (days_employed) сделать Int и debt сделать bool, тогда типы данных будут соответствовать содержимому и станут оптимальны\n",
    "</div>\n",
    "\n",
    "<div class=\"alert alert-info\">\n",
    "<b> Комментарий от студента - 2</b>\n",
    "    \n",
    "Проглядел эти моменты. Исправил.\n",
    "</div>"
   ]
  },
  {
   "cell_type": "markdown",
   "metadata": {},
   "source": [
    "<div style=\"border:solid green 2px; padding: 20px\"> \n",
    "    \n",
    "**Комментарий ревьюера - 2**\n",
    "\n",
    "+\n",
    "    \n",
    "</div>"
   ]
  },
  {
   "cell_type": "markdown",
   "metadata": {},
   "source": [
    "# Шаг 2.4. Удаление дубликатов."
   ]
  },
  {
   "cell_type": "code",
   "execution_count": 151,
   "metadata": {},
   "outputs": [],
   "source": [
    "# Посчитаем количество дубликатов в таблице\n",
    "\n",
    "#print('Дубликатов в таблице:', df.duplicated().sum())"
   ]
  },
  {
   "cell_type": "code",
   "execution_count": 152,
   "metadata": {},
   "outputs": [],
   "source": [
    "# Удаляем все дубликаты в таблице\n",
    "\n",
    "#df = df.drop_duplicates().reset_index(drop=True)"
   ]
  },
  {
   "cell_type": "code",
   "execution_count": 153,
   "metadata": {},
   "outputs": [],
   "source": [
    "# Проверяем число дубликатов после удаления\n",
    "\n",
    "#print('Дубликатов в таблице после обработки:', df.duplicated().sum())"
   ]
  },
  {
   "cell_type": "markdown",
   "metadata": {},
   "source": [
    "<div style=\"border:solid red 2px; padding: 20px\"> \n",
    "    \n",
    "**Комментарий ревьюера**\n",
    "\n",
    "**#ошибка**\n",
    "\n",
    "Технически ты верно поработал с дубликатами. Только явные дубликаты нужно считать и удалять уже после всех преобразований, т.к. исправление ошибок может привести к увеличению числа дубликатов.\n",
    "    \n",
    "Перенеси эту часть в самый конец данного раздела и посмотри сколько тогда будет дублей\n",
    "</div>\n",
    "\n",
    "<div class=\"alert alert-info\">\n",
    "<b> Комментарий от студента - 2</b>\n",
    "    \n",
    "Да, ты оказалась права. Количество явных дубликатов после процедур предобработки данных стало на несколько десятков больше. Закомменил предыдущие шаги, чтобы не нарушать ход проверки. Содержимое перенес в конец раздела. Спасибо, важное замечание!\n",
    "</div>"
   ]
  },
  {
   "cell_type": "markdown",
   "metadata": {},
   "source": [
    "Вспоминаем, что на прошлом шаге мы заметили, что в таблице присутствуют неявные дуликаты. Пройдемся по всем нужным нам столбцам для поиска неявных дубликатов и заменим их значения."
   ]
  },
  {
   "cell_type": "code",
   "execution_count": 154,
   "metadata": {},
   "outputs": [
    {
     "data": {
      "text/plain": [
       "array([ 0, 19, 20, 21, 22, 23, 24, 25, 26, 27, 28, 29, 30, 31, 32, 33, 34,\n",
       "       35, 36, 37, 38, 39, 40, 41, 42, 43, 44, 45, 46, 47, 48, 49, 50, 51,\n",
       "       52, 53, 54, 55, 56, 57, 58, 59, 60, 61, 62, 63, 64, 65, 66, 67, 68,\n",
       "       69, 70, 71, 72, 73, 74, 75])"
      ]
     },
     "execution_count": 154,
     "metadata": {},
     "output_type": "execute_result"
    }
   ],
   "source": [
    "# Выводим все уникальные значения по столбцу `dob_years`\n",
    "\n",
    "df_sorted = df.sort_values(by='dob_years')\n",
    "df_sorted['dob_years'].unique()"
   ]
  },
  {
   "cell_type": "markdown",
   "metadata": {},
   "source": [
    "Обращаем внимание на первое значение в списке значений. Возвраст заемщика - 0 лет. Найдем все строки таблицы, где возраст заемщика 0 лет."
   ]
  },
  {
   "cell_type": "code",
   "execution_count": 155,
   "metadata": {
    "scrolled": false
   },
   "outputs": [
    {
     "data": {
      "text/html": [
       "<div>\n",
       "<style scoped>\n",
       "    .dataframe tbody tr th:only-of-type {\n",
       "        vertical-align: middle;\n",
       "    }\n",
       "\n",
       "    .dataframe tbody tr th {\n",
       "        vertical-align: top;\n",
       "    }\n",
       "\n",
       "    .dataframe thead th {\n",
       "        text-align: right;\n",
       "    }\n",
       "</style>\n",
       "<table border=\"1\" class=\"dataframe\">\n",
       "  <thead>\n",
       "    <tr style=\"text-align: right;\">\n",
       "      <th></th>\n",
       "      <th>children</th>\n",
       "      <th>days_employed</th>\n",
       "      <th>dob_years</th>\n",
       "      <th>education</th>\n",
       "      <th>education_id</th>\n",
       "      <th>family_status</th>\n",
       "      <th>family_status_id</th>\n",
       "      <th>gender</th>\n",
       "      <th>income_type</th>\n",
       "      <th>debt</th>\n",
       "      <th>total_income</th>\n",
       "      <th>purpose</th>\n",
       "    </tr>\n",
       "  </thead>\n",
       "  <tbody>\n",
       "    <tr>\n",
       "      <td>99</td>\n",
       "      <td>0</td>\n",
       "      <td>346541</td>\n",
       "      <td>0</td>\n",
       "      <td>Среднее</td>\n",
       "      <td>1</td>\n",
       "      <td>женат / замужем</td>\n",
       "      <td>0</td>\n",
       "      <td>F</td>\n",
       "      <td>пенсионер</td>\n",
       "      <td>False</td>\n",
       "      <td>71291</td>\n",
       "      <td>автомобиль</td>\n",
       "    </tr>\n",
       "    <tr>\n",
       "      <td>149</td>\n",
       "      <td>0</td>\n",
       "      <td>-2664</td>\n",
       "      <td>0</td>\n",
       "      <td>среднее</td>\n",
       "      <td>1</td>\n",
       "      <td>в разводе</td>\n",
       "      <td>3</td>\n",
       "      <td>F</td>\n",
       "      <td>сотрудник</td>\n",
       "      <td>False</td>\n",
       "      <td>70176</td>\n",
       "      <td>операции с жильем</td>\n",
       "    </tr>\n",
       "    <tr>\n",
       "      <td>270</td>\n",
       "      <td>3</td>\n",
       "      <td>-1872</td>\n",
       "      <td>0</td>\n",
       "      <td>среднее</td>\n",
       "      <td>1</td>\n",
       "      <td>женат / замужем</td>\n",
       "      <td>0</td>\n",
       "      <td>F</td>\n",
       "      <td>сотрудник</td>\n",
       "      <td>False</td>\n",
       "      <td>102166</td>\n",
       "      <td>ремонт жилью</td>\n",
       "    </tr>\n",
       "    <tr>\n",
       "      <td>578</td>\n",
       "      <td>0</td>\n",
       "      <td>397856</td>\n",
       "      <td>0</td>\n",
       "      <td>среднее</td>\n",
       "      <td>1</td>\n",
       "      <td>женат / замужем</td>\n",
       "      <td>0</td>\n",
       "      <td>F</td>\n",
       "      <td>пенсионер</td>\n",
       "      <td>False</td>\n",
       "      <td>97620</td>\n",
       "      <td>строительство собственной недвижимости</td>\n",
       "    </tr>\n",
       "    <tr>\n",
       "      <td>1040</td>\n",
       "      <td>0</td>\n",
       "      <td>-1158</td>\n",
       "      <td>0</td>\n",
       "      <td>высшее</td>\n",
       "      <td>0</td>\n",
       "      <td>в разводе</td>\n",
       "      <td>3</td>\n",
       "      <td>F</td>\n",
       "      <td>компаньон</td>\n",
       "      <td>False</td>\n",
       "      <td>303994</td>\n",
       "      <td>свой автомобиль</td>\n",
       "    </tr>\n",
       "    <tr>\n",
       "      <td>...</td>\n",
       "      <td>...</td>\n",
       "      <td>...</td>\n",
       "      <td>...</td>\n",
       "      <td>...</td>\n",
       "      <td>...</td>\n",
       "      <td>...</td>\n",
       "      <td>...</td>\n",
       "      <td>...</td>\n",
       "      <td>...</td>\n",
       "      <td>...</td>\n",
       "      <td>...</td>\n",
       "      <td>...</td>\n",
       "    </tr>\n",
       "    <tr>\n",
       "      <td>19829</td>\n",
       "      <td>0</td>\n",
       "      <td>-1203</td>\n",
       "      <td>0</td>\n",
       "      <td>среднее</td>\n",
       "      <td>1</td>\n",
       "      <td>женат / замужем</td>\n",
       "      <td>0</td>\n",
       "      <td>F</td>\n",
       "      <td>сотрудник</td>\n",
       "      <td>False</td>\n",
       "      <td>145017</td>\n",
       "      <td>жилье</td>\n",
       "    </tr>\n",
       "    <tr>\n",
       "      <td>20462</td>\n",
       "      <td>0</td>\n",
       "      <td>338734</td>\n",
       "      <td>0</td>\n",
       "      <td>среднее</td>\n",
       "      <td>1</td>\n",
       "      <td>женат / замужем</td>\n",
       "      <td>0</td>\n",
       "      <td>F</td>\n",
       "      <td>пенсионер</td>\n",
       "      <td>False</td>\n",
       "      <td>259193</td>\n",
       "      <td>покупка своего жилья</td>\n",
       "    </tr>\n",
       "    <tr>\n",
       "      <td>20577</td>\n",
       "      <td>0</td>\n",
       "      <td>331741</td>\n",
       "      <td>0</td>\n",
       "      <td>среднее</td>\n",
       "      <td>1</td>\n",
       "      <td>Не женат / не замужем</td>\n",
       "      <td>4</td>\n",
       "      <td>F</td>\n",
       "      <td>пенсионер</td>\n",
       "      <td>False</td>\n",
       "      <td>129788</td>\n",
       "      <td>недвижимость</td>\n",
       "    </tr>\n",
       "    <tr>\n",
       "      <td>21179</td>\n",
       "      <td>2</td>\n",
       "      <td>-108</td>\n",
       "      <td>0</td>\n",
       "      <td>высшее</td>\n",
       "      <td>0</td>\n",
       "      <td>женат / замужем</td>\n",
       "      <td>0</td>\n",
       "      <td>M</td>\n",
       "      <td>компаньон</td>\n",
       "      <td>False</td>\n",
       "      <td>240702</td>\n",
       "      <td>строительство жилой недвижимости</td>\n",
       "    </tr>\n",
       "    <tr>\n",
       "      <td>21313</td>\n",
       "      <td>0</td>\n",
       "      <td>-1268</td>\n",
       "      <td>0</td>\n",
       "      <td>среднее</td>\n",
       "      <td>1</td>\n",
       "      <td>Не женат / не замужем</td>\n",
       "      <td>4</td>\n",
       "      <td>M</td>\n",
       "      <td>сотрудник</td>\n",
       "      <td>False</td>\n",
       "      <td>152419</td>\n",
       "      <td>операции с жильем</td>\n",
       "    </tr>\n",
       "  </tbody>\n",
       "</table>\n",
       "<p>101 rows × 12 columns</p>\n",
       "</div>"
      ],
      "text/plain": [
       "       children  days_employed  dob_years education  education_id  \\\n",
       "99            0         346541          0   Среднее             1   \n",
       "149           0          -2664          0   среднее             1   \n",
       "270           3          -1872          0   среднее             1   \n",
       "578           0         397856          0   среднее             1   \n",
       "1040          0          -1158          0    высшее             0   \n",
       "...         ...            ...        ...       ...           ...   \n",
       "19829         0          -1203          0   среднее             1   \n",
       "20462         0         338734          0   среднее             1   \n",
       "20577         0         331741          0   среднее             1   \n",
       "21179         2           -108          0    высшее             0   \n",
       "21313         0          -1268          0   среднее             1   \n",
       "\n",
       "               family_status  family_status_id gender income_type   debt  \\\n",
       "99           женат / замужем                 0      F   пенсионер  False   \n",
       "149                в разводе                 3      F   сотрудник  False   \n",
       "270          женат / замужем                 0      F   сотрудник  False   \n",
       "578          женат / замужем                 0      F   пенсионер  False   \n",
       "1040               в разводе                 3      F   компаньон  False   \n",
       "...                      ...               ...    ...         ...    ...   \n",
       "19829        женат / замужем                 0      F   сотрудник  False   \n",
       "20462        женат / замужем                 0      F   пенсионер  False   \n",
       "20577  Не женат / не замужем                 4      F   пенсионер  False   \n",
       "21179        женат / замужем                 0      M   компаньон  False   \n",
       "21313  Не женат / не замужем                 4      M   сотрудник  False   \n",
       "\n",
       "       total_income                                 purpose  \n",
       "99            71291                              автомобиль  \n",
       "149           70176                       операции с жильем  \n",
       "270          102166                            ремонт жилью  \n",
       "578           97620  строительство собственной недвижимости  \n",
       "1040         303994                         свой автомобиль  \n",
       "...             ...                                     ...  \n",
       "19829        145017                                   жилье  \n",
       "20462        259193                    покупка своего жилья  \n",
       "20577        129788                            недвижимость  \n",
       "21179        240702        строительство жилой недвижимости  \n",
       "21313        152419                       операции с жильем  \n",
       "\n",
       "[101 rows x 12 columns]"
      ]
     },
     "metadata": {},
     "output_type": "display_data"
    }
   ],
   "source": [
    "display(df.loc[df.loc[:,'dob_years'] == 0])"
   ]
  },
  {
   "cell_type": "markdown",
   "metadata": {},
   "source": [
    "Всего строк со значением возраста заёмщика 0 лет - 101 штука. Данные этих строк могут быть полезны для наших исследований, т.к. в исследованиях не учитывается возраст заёмщика. Найдем среднее значение возраста заёмщиков и заменим нулевые значения на среднее."
   ]
  },
  {
   "cell_type": "code",
   "execution_count": 156,
   "metadata": {
    "scrolled": true
   },
   "outputs": [
    {
     "name": "stdout",
     "output_type": "stream",
     "text": [
      "Среднее значение для возраста заемщика: 43\n"
     ]
    }
   ],
   "source": [
    "# Находим среднее значение возраста заемщика и заменяем значения 0 на среднее значение\n",
    "\n",
    "dob_years_avg = int(df['dob_years'].mean())\n",
    "print('Среднее значение для возраста заемщика:', dob_years_avg)\n",
    "\n",
    "df['dob_years'] = df['dob_years'].replace(0, dob_years_avg)"
   ]
  },
  {
   "cell_type": "markdown",
   "metadata": {},
   "source": [
    "<div style=\"border:solid green 2px; padding: 20px\"> \n",
    "    \n",
    "**Комментарий ревьюера**\n",
    "\n",
    "**#ок**\n",
    "\n",
    "Отлично, с 0-ми верно разобрались\n",
    "</div>"
   ]
  },
  {
   "cell_type": "code",
   "execution_count": 157,
   "metadata": {},
   "outputs": [
    {
     "data": {
      "text/plain": [
       "array([19, 20, 21, 22, 23, 24, 25, 26, 27, 28, 29, 30, 31, 32, 33, 34, 35,\n",
       "       36, 37, 38, 39, 40, 41, 42, 43, 44, 45, 46, 47, 48, 49, 50, 51, 52,\n",
       "       53, 54, 55, 56, 57, 58, 59, 60, 61, 62, 63, 64, 65, 66, 67, 68, 69,\n",
       "       70, 71, 72, 73, 74, 75])"
      ]
     },
     "execution_count": 157,
     "metadata": {},
     "output_type": "execute_result"
    }
   ],
   "source": [
    "# Проверим результат замены 0 на средний возраст\n",
    "\n",
    "df_sorted = df.sort_values(by='dob_years')\n",
    "df_sorted['dob_years'].unique()"
   ]
  },
  {
   "cell_type": "markdown",
   "metadata": {},
   "source": [
    "Столбец `dob_years` приведен в соответствие."
   ]
  },
  {
   "cell_type": "code",
   "execution_count": 158,
   "metadata": {},
   "outputs": [
    {
     "data": {
      "text/plain": [
       "array([-1,  0,  1,  2,  3,  4,  5, 20])"
      ]
     },
     "execution_count": 158,
     "metadata": {},
     "output_type": "execute_result"
    }
   ],
   "source": [
    "# Выводим все уникальные значения по столбцу `children`\n",
    "\n",
    "df_sorted = df.sort_values(by='children')\n",
    "df_sorted['children'].unique()"
   ]
  },
  {
   "cell_type": "markdown",
   "metadata": {},
   "source": [
    "Обращаем внимание на первое значение в списке. Количество детей — \"-1\". Найдем все строки, где количество детей -1."
   ]
  },
  {
   "cell_type": "code",
   "execution_count": 159,
   "metadata": {
    "scrolled": true
   },
   "outputs": [
    {
     "data": {
      "text/html": [
       "<div>\n",
       "<style scoped>\n",
       "    .dataframe tbody tr th:only-of-type {\n",
       "        vertical-align: middle;\n",
       "    }\n",
       "\n",
       "    .dataframe tbody tr th {\n",
       "        vertical-align: top;\n",
       "    }\n",
       "\n",
       "    .dataframe thead th {\n",
       "        text-align: right;\n",
       "    }\n",
       "</style>\n",
       "<table border=\"1\" class=\"dataframe\">\n",
       "  <thead>\n",
       "    <tr style=\"text-align: right;\">\n",
       "      <th></th>\n",
       "      <th>children</th>\n",
       "      <th>days_employed</th>\n",
       "      <th>dob_years</th>\n",
       "      <th>education</th>\n",
       "      <th>education_id</th>\n",
       "      <th>family_status</th>\n",
       "      <th>family_status_id</th>\n",
       "      <th>gender</th>\n",
       "      <th>income_type</th>\n",
       "      <th>debt</th>\n",
       "      <th>total_income</th>\n",
       "      <th>purpose</th>\n",
       "    </tr>\n",
       "  </thead>\n",
       "  <tbody>\n",
       "    <tr>\n",
       "      <td>291</td>\n",
       "      <td>-1</td>\n",
       "      <td>-4417</td>\n",
       "      <td>46</td>\n",
       "      <td>среднее</td>\n",
       "      <td>1</td>\n",
       "      <td>гражданский брак</td>\n",
       "      <td>1</td>\n",
       "      <td>F</td>\n",
       "      <td>сотрудник</td>\n",
       "      <td>False</td>\n",
       "      <td>102816</td>\n",
       "      <td>профильное образование</td>\n",
       "    </tr>\n",
       "    <tr>\n",
       "      <td>705</td>\n",
       "      <td>-1</td>\n",
       "      <td>-902</td>\n",
       "      <td>50</td>\n",
       "      <td>среднее</td>\n",
       "      <td>1</td>\n",
       "      <td>женат / замужем</td>\n",
       "      <td>0</td>\n",
       "      <td>F</td>\n",
       "      <td>госслужащий</td>\n",
       "      <td>False</td>\n",
       "      <td>137882</td>\n",
       "      <td>приобретение автомобиля</td>\n",
       "    </tr>\n",
       "    <tr>\n",
       "      <td>742</td>\n",
       "      <td>-1</td>\n",
       "      <td>-3174</td>\n",
       "      <td>57</td>\n",
       "      <td>среднее</td>\n",
       "      <td>1</td>\n",
       "      <td>женат / замужем</td>\n",
       "      <td>0</td>\n",
       "      <td>F</td>\n",
       "      <td>сотрудник</td>\n",
       "      <td>False</td>\n",
       "      <td>64268</td>\n",
       "      <td>дополнительное образование</td>\n",
       "    </tr>\n",
       "    <tr>\n",
       "      <td>800</td>\n",
       "      <td>-1</td>\n",
       "      <td>349987</td>\n",
       "      <td>54</td>\n",
       "      <td>среднее</td>\n",
       "      <td>1</td>\n",
       "      <td>Не женат / не замужем</td>\n",
       "      <td>4</td>\n",
       "      <td>F</td>\n",
       "      <td>пенсионер</td>\n",
       "      <td>False</td>\n",
       "      <td>86293</td>\n",
       "      <td>дополнительное образование</td>\n",
       "    </tr>\n",
       "    <tr>\n",
       "      <td>941</td>\n",
       "      <td>-1</td>\n",
       "      <td>-1203</td>\n",
       "      <td>57</td>\n",
       "      <td>Среднее</td>\n",
       "      <td>1</td>\n",
       "      <td>женат / замужем</td>\n",
       "      <td>0</td>\n",
       "      <td>F</td>\n",
       "      <td>пенсионер</td>\n",
       "      <td>False</td>\n",
       "      <td>145017</td>\n",
       "      <td>на покупку своего автомобиля</td>\n",
       "    </tr>\n",
       "    <tr>\n",
       "      <td>1363</td>\n",
       "      <td>-1</td>\n",
       "      <td>-1195</td>\n",
       "      <td>55</td>\n",
       "      <td>СРЕДНЕЕ</td>\n",
       "      <td>1</td>\n",
       "      <td>женат / замужем</td>\n",
       "      <td>0</td>\n",
       "      <td>F</td>\n",
       "      <td>компаньон</td>\n",
       "      <td>False</td>\n",
       "      <td>69550</td>\n",
       "      <td>профильное образование</td>\n",
       "    </tr>\n",
       "    <tr>\n",
       "      <td>1929</td>\n",
       "      <td>-1</td>\n",
       "      <td>-1461</td>\n",
       "      <td>38</td>\n",
       "      <td>среднее</td>\n",
       "      <td>1</td>\n",
       "      <td>Не женат / не замужем</td>\n",
       "      <td>4</td>\n",
       "      <td>M</td>\n",
       "      <td>сотрудник</td>\n",
       "      <td>False</td>\n",
       "      <td>109121</td>\n",
       "      <td>покупка жилья</td>\n",
       "    </tr>\n",
       "    <tr>\n",
       "      <td>2073</td>\n",
       "      <td>-1</td>\n",
       "      <td>-2539</td>\n",
       "      <td>42</td>\n",
       "      <td>среднее</td>\n",
       "      <td>1</td>\n",
       "      <td>в разводе</td>\n",
       "      <td>3</td>\n",
       "      <td>F</td>\n",
       "      <td>компаньон</td>\n",
       "      <td>False</td>\n",
       "      <td>162638</td>\n",
       "      <td>покупка жилья</td>\n",
       "    </tr>\n",
       "    <tr>\n",
       "      <td>3814</td>\n",
       "      <td>-1</td>\n",
       "      <td>-3045</td>\n",
       "      <td>26</td>\n",
       "      <td>Среднее</td>\n",
       "      <td>1</td>\n",
       "      <td>гражданский брак</td>\n",
       "      <td>1</td>\n",
       "      <td>F</td>\n",
       "      <td>госслужащий</td>\n",
       "      <td>False</td>\n",
       "      <td>131892</td>\n",
       "      <td>на проведение свадьбы</td>\n",
       "    </tr>\n",
       "    <tr>\n",
       "      <td>4201</td>\n",
       "      <td>-1</td>\n",
       "      <td>-901</td>\n",
       "      <td>41</td>\n",
       "      <td>среднее</td>\n",
       "      <td>1</td>\n",
       "      <td>женат / замужем</td>\n",
       "      <td>0</td>\n",
       "      <td>F</td>\n",
       "      <td>госслужащий</td>\n",
       "      <td>False</td>\n",
       "      <td>226375</td>\n",
       "      <td>операции со своей недвижимостью</td>\n",
       "    </tr>\n",
       "    <tr>\n",
       "      <td>4402</td>\n",
       "      <td>-1</td>\n",
       "      <td>398001</td>\n",
       "      <td>64</td>\n",
       "      <td>СРЕДНЕЕ</td>\n",
       "      <td>1</td>\n",
       "      <td>женат / замужем</td>\n",
       "      <td>0</td>\n",
       "      <td>F</td>\n",
       "      <td>пенсионер</td>\n",
       "      <td>False</td>\n",
       "      <td>163264</td>\n",
       "      <td>покупка недвижимости</td>\n",
       "    </tr>\n",
       "    <tr>\n",
       "      <td>4542</td>\n",
       "      <td>-1</td>\n",
       "      <td>-1811</td>\n",
       "      <td>32</td>\n",
       "      <td>среднее</td>\n",
       "      <td>1</td>\n",
       "      <td>женат / замужем</td>\n",
       "      <td>0</td>\n",
       "      <td>F</td>\n",
       "      <td>сотрудник</td>\n",
       "      <td>False</td>\n",
       "      <td>160544</td>\n",
       "      <td>образование</td>\n",
       "    </tr>\n",
       "    <tr>\n",
       "      <td>5272</td>\n",
       "      <td>-1</td>\n",
       "      <td>-1143</td>\n",
       "      <td>46</td>\n",
       "      <td>среднее</td>\n",
       "      <td>1</td>\n",
       "      <td>вдовец / вдова</td>\n",
       "      <td>2</td>\n",
       "      <td>F</td>\n",
       "      <td>сотрудник</td>\n",
       "      <td>False</td>\n",
       "      <td>278708</td>\n",
       "      <td>покупка недвижимости</td>\n",
       "    </tr>\n",
       "    <tr>\n",
       "      <td>6013</td>\n",
       "      <td>-1</td>\n",
       "      <td>-1361</td>\n",
       "      <td>46</td>\n",
       "      <td>высшее</td>\n",
       "      <td>0</td>\n",
       "      <td>женат / замужем</td>\n",
       "      <td>0</td>\n",
       "      <td>F</td>\n",
       "      <td>сотрудник</td>\n",
       "      <td>False</td>\n",
       "      <td>143008</td>\n",
       "      <td>строительство собственной недвижимости</td>\n",
       "    </tr>\n",
       "    <tr>\n",
       "      <td>6385</td>\n",
       "      <td>-1</td>\n",
       "      <td>370215</td>\n",
       "      <td>48</td>\n",
       "      <td>среднее</td>\n",
       "      <td>1</td>\n",
       "      <td>вдовец / вдова</td>\n",
       "      <td>2</td>\n",
       "      <td>F</td>\n",
       "      <td>пенсионер</td>\n",
       "      <td>False</td>\n",
       "      <td>36052</td>\n",
       "      <td>образование</td>\n",
       "    </tr>\n",
       "    <tr>\n",
       "      <td>7190</td>\n",
       "      <td>-1</td>\n",
       "      <td>-5928</td>\n",
       "      <td>34</td>\n",
       "      <td>СРЕДНЕЕ</td>\n",
       "      <td>1</td>\n",
       "      <td>женат / замужем</td>\n",
       "      <td>0</td>\n",
       "      <td>M</td>\n",
       "      <td>сотрудник</td>\n",
       "      <td>False</td>\n",
       "      <td>184315</td>\n",
       "      <td>приобретение автомобиля</td>\n",
       "    </tr>\n",
       "    <tr>\n",
       "      <td>7278</td>\n",
       "      <td>-1</td>\n",
       "      <td>-526</td>\n",
       "      <td>51</td>\n",
       "      <td>среднее</td>\n",
       "      <td>1</td>\n",
       "      <td>женат / замужем</td>\n",
       "      <td>0</td>\n",
       "      <td>F</td>\n",
       "      <td>сотрудник</td>\n",
       "      <td>False</td>\n",
       "      <td>146928</td>\n",
       "      <td>операции с коммерческой недвижимостью</td>\n",
       "    </tr>\n",
       "    <tr>\n",
       "      <td>7615</td>\n",
       "      <td>-1</td>\n",
       "      <td>-1203</td>\n",
       "      <td>35</td>\n",
       "      <td>среднее</td>\n",
       "      <td>1</td>\n",
       "      <td>женат / замужем</td>\n",
       "      <td>0</td>\n",
       "      <td>M</td>\n",
       "      <td>сотрудник</td>\n",
       "      <td>False</td>\n",
       "      <td>145017</td>\n",
       "      <td>образование</td>\n",
       "    </tr>\n",
       "    <tr>\n",
       "      <td>7685</td>\n",
       "      <td>-1</td>\n",
       "      <td>-3237</td>\n",
       "      <td>53</td>\n",
       "      <td>среднее</td>\n",
       "      <td>1</td>\n",
       "      <td>вдовец / вдова</td>\n",
       "      <td>2</td>\n",
       "      <td>F</td>\n",
       "      <td>сотрудник</td>\n",
       "      <td>False</td>\n",
       "      <td>159676</td>\n",
       "      <td>строительство жилой недвижимости</td>\n",
       "    </tr>\n",
       "    <tr>\n",
       "      <td>8229</td>\n",
       "      <td>-1</td>\n",
       "      <td>-1803</td>\n",
       "      <td>54</td>\n",
       "      <td>высшее</td>\n",
       "      <td>0</td>\n",
       "      <td>женат / замужем</td>\n",
       "      <td>0</td>\n",
       "      <td>F</td>\n",
       "      <td>компаньон</td>\n",
       "      <td>False</td>\n",
       "      <td>138809</td>\n",
       "      <td>покупка недвижимости</td>\n",
       "    </tr>\n",
       "    <tr>\n",
       "      <td>8251</td>\n",
       "      <td>-1</td>\n",
       "      <td>-3113</td>\n",
       "      <td>31</td>\n",
       "      <td>среднее</td>\n",
       "      <td>1</td>\n",
       "      <td>гражданский брак</td>\n",
       "      <td>1</td>\n",
       "      <td>F</td>\n",
       "      <td>сотрудник</td>\n",
       "      <td>False</td>\n",
       "      <td>54412</td>\n",
       "      <td>свой автомобиль</td>\n",
       "    </tr>\n",
       "    <tr>\n",
       "      <td>8561</td>\n",
       "      <td>-1</td>\n",
       "      <td>-195</td>\n",
       "      <td>31</td>\n",
       "      <td>среднее</td>\n",
       "      <td>1</td>\n",
       "      <td>женат / замужем</td>\n",
       "      <td>0</td>\n",
       "      <td>F</td>\n",
       "      <td>сотрудник</td>\n",
       "      <td>False</td>\n",
       "      <td>145577</td>\n",
       "      <td>ремонт жилью</td>\n",
       "    </tr>\n",
       "    <tr>\n",
       "      <td>9565</td>\n",
       "      <td>-1</td>\n",
       "      <td>-2896</td>\n",
       "      <td>34</td>\n",
       "      <td>высшее</td>\n",
       "      <td>0</td>\n",
       "      <td>женат / замужем</td>\n",
       "      <td>0</td>\n",
       "      <td>M</td>\n",
       "      <td>сотрудник</td>\n",
       "      <td>False</td>\n",
       "      <td>126754</td>\n",
       "      <td>операции с недвижимостью</td>\n",
       "    </tr>\n",
       "    <tr>\n",
       "      <td>9574</td>\n",
       "      <td>-1</td>\n",
       "      <td>-2710</td>\n",
       "      <td>28</td>\n",
       "      <td>высшее</td>\n",
       "      <td>0</td>\n",
       "      <td>женат / замужем</td>\n",
       "      <td>0</td>\n",
       "      <td>M</td>\n",
       "      <td>госслужащий</td>\n",
       "      <td>False</td>\n",
       "      <td>303137</td>\n",
       "      <td>получение дополнительного образования</td>\n",
       "    </tr>\n",
       "    <tr>\n",
       "      <td>10177</td>\n",
       "      <td>-1</td>\n",
       "      <td>-1743</td>\n",
       "      <td>37</td>\n",
       "      <td>среднее</td>\n",
       "      <td>1</td>\n",
       "      <td>женат / замужем</td>\n",
       "      <td>0</td>\n",
       "      <td>M</td>\n",
       "      <td>сотрудник</td>\n",
       "      <td>False</td>\n",
       "      <td>310367</td>\n",
       "      <td>получение образования</td>\n",
       "    </tr>\n",
       "    <tr>\n",
       "      <td>10365</td>\n",
       "      <td>-1</td>\n",
       "      <td>345774</td>\n",
       "      <td>63</td>\n",
       "      <td>ВЫСШЕЕ</td>\n",
       "      <td>0</td>\n",
       "      <td>вдовец / вдова</td>\n",
       "      <td>2</td>\n",
       "      <td>F</td>\n",
       "      <td>пенсионер</td>\n",
       "      <td>False</td>\n",
       "      <td>170762</td>\n",
       "      <td>строительство жилой недвижимости</td>\n",
       "    </tr>\n",
       "    <tr>\n",
       "      <td>10918</td>\n",
       "      <td>-1</td>\n",
       "      <td>340499</td>\n",
       "      <td>50</td>\n",
       "      <td>среднее</td>\n",
       "      <td>1</td>\n",
       "      <td>женат / замужем</td>\n",
       "      <td>0</td>\n",
       "      <td>M</td>\n",
       "      <td>пенсионер</td>\n",
       "      <td>False</td>\n",
       "      <td>170762</td>\n",
       "      <td>покупка своего жилья</td>\n",
       "    </tr>\n",
       "    <tr>\n",
       "      <td>11109</td>\n",
       "      <td>-1</td>\n",
       "      <td>-3438</td>\n",
       "      <td>59</td>\n",
       "      <td>среднее</td>\n",
       "      <td>1</td>\n",
       "      <td>женат / замужем</td>\n",
       "      <td>0</td>\n",
       "      <td>F</td>\n",
       "      <td>сотрудник</td>\n",
       "      <td>False</td>\n",
       "      <td>219874</td>\n",
       "      <td>операции с жильем</td>\n",
       "    </tr>\n",
       "    <tr>\n",
       "      <td>11268</td>\n",
       "      <td>-1</td>\n",
       "      <td>-1048</td>\n",
       "      <td>30</td>\n",
       "      <td>высшее</td>\n",
       "      <td>0</td>\n",
       "      <td>гражданский брак</td>\n",
       "      <td>1</td>\n",
       "      <td>F</td>\n",
       "      <td>компаньон</td>\n",
       "      <td>False</td>\n",
       "      <td>321603</td>\n",
       "      <td>на покупку автомобиля</td>\n",
       "    </tr>\n",
       "    <tr>\n",
       "      <td>11617</td>\n",
       "      <td>-1</td>\n",
       "      <td>-370</td>\n",
       "      <td>27</td>\n",
       "      <td>среднее</td>\n",
       "      <td>1</td>\n",
       "      <td>женат / замужем</td>\n",
       "      <td>0</td>\n",
       "      <td>F</td>\n",
       "      <td>компаньон</td>\n",
       "      <td>False</td>\n",
       "      <td>164591</td>\n",
       "      <td>покупка жилья для сдачи</td>\n",
       "    </tr>\n",
       "    <tr>\n",
       "      <td>12304</td>\n",
       "      <td>-1</td>\n",
       "      <td>-8493</td>\n",
       "      <td>61</td>\n",
       "      <td>неоконченное высшее</td>\n",
       "      <td>2</td>\n",
       "      <td>женат / замужем</td>\n",
       "      <td>0</td>\n",
       "      <td>M</td>\n",
       "      <td>сотрудник</td>\n",
       "      <td>False</td>\n",
       "      <td>315006</td>\n",
       "      <td>недвижимость</td>\n",
       "    </tr>\n",
       "    <tr>\n",
       "      <td>13786</td>\n",
       "      <td>-1</td>\n",
       "      <td>-1203</td>\n",
       "      <td>42</td>\n",
       "      <td>среднее</td>\n",
       "      <td>1</td>\n",
       "      <td>Не женат / не замужем</td>\n",
       "      <td>4</td>\n",
       "      <td>M</td>\n",
       "      <td>компаньон</td>\n",
       "      <td>False</td>\n",
       "      <td>145017</td>\n",
       "      <td>автомобиль</td>\n",
       "    </tr>\n",
       "    <tr>\n",
       "      <td>14357</td>\n",
       "      <td>-1</td>\n",
       "      <td>-268</td>\n",
       "      <td>23</td>\n",
       "      <td>среднее</td>\n",
       "      <td>1</td>\n",
       "      <td>в разводе</td>\n",
       "      <td>3</td>\n",
       "      <td>F</td>\n",
       "      <td>компаньон</td>\n",
       "      <td>False</td>\n",
       "      <td>92257</td>\n",
       "      <td>покупка жилой недвижимости</td>\n",
       "    </tr>\n",
       "    <tr>\n",
       "      <td>15147</td>\n",
       "      <td>-1</td>\n",
       "      <td>-9851</td>\n",
       "      <td>44</td>\n",
       "      <td>среднее</td>\n",
       "      <td>1</td>\n",
       "      <td>в разводе</td>\n",
       "      <td>3</td>\n",
       "      <td>F</td>\n",
       "      <td>сотрудник</td>\n",
       "      <td>False</td>\n",
       "      <td>110990</td>\n",
       "      <td>свой автомобиль</td>\n",
       "    </tr>\n",
       "    <tr>\n",
       "      <td>15435</td>\n",
       "      <td>-1</td>\n",
       "      <td>-3614</td>\n",
       "      <td>40</td>\n",
       "      <td>высшее</td>\n",
       "      <td>0</td>\n",
       "      <td>гражданский брак</td>\n",
       "      <td>1</td>\n",
       "      <td>F</td>\n",
       "      <td>сотрудник</td>\n",
       "      <td>False</td>\n",
       "      <td>98127</td>\n",
       "      <td>сыграть свадьбу</td>\n",
       "    </tr>\n",
       "    <tr>\n",
       "      <td>16129</td>\n",
       "      <td>-1</td>\n",
       "      <td>-457</td>\n",
       "      <td>33</td>\n",
       "      <td>среднее</td>\n",
       "      <td>1</td>\n",
       "      <td>женат / замужем</td>\n",
       "      <td>0</td>\n",
       "      <td>F</td>\n",
       "      <td>сотрудник</td>\n",
       "      <td>True</td>\n",
       "      <td>149641</td>\n",
       "      <td>автомобиль</td>\n",
       "    </tr>\n",
       "    <tr>\n",
       "      <td>16265</td>\n",
       "      <td>-1</td>\n",
       "      <td>-2802</td>\n",
       "      <td>40</td>\n",
       "      <td>высшее</td>\n",
       "      <td>0</td>\n",
       "      <td>женат / замужем</td>\n",
       "      <td>0</td>\n",
       "      <td>M</td>\n",
       "      <td>сотрудник</td>\n",
       "      <td>False</td>\n",
       "      <td>111984</td>\n",
       "      <td>покупка жилья</td>\n",
       "    </tr>\n",
       "    <tr>\n",
       "      <td>17095</td>\n",
       "      <td>-1</td>\n",
       "      <td>-2809</td>\n",
       "      <td>34</td>\n",
       "      <td>среднее</td>\n",
       "      <td>1</td>\n",
       "      <td>женат / замужем</td>\n",
       "      <td>0</td>\n",
       "      <td>F</td>\n",
       "      <td>сотрудник</td>\n",
       "      <td>False</td>\n",
       "      <td>182543</td>\n",
       "      <td>на покупку подержанного автомобиля</td>\n",
       "    </tr>\n",
       "    <tr>\n",
       "      <td>17429</td>\n",
       "      <td>-1</td>\n",
       "      <td>-895</td>\n",
       "      <td>37</td>\n",
       "      <td>среднее</td>\n",
       "      <td>1</td>\n",
       "      <td>женат / замужем</td>\n",
       "      <td>0</td>\n",
       "      <td>F</td>\n",
       "      <td>компаньон</td>\n",
       "      <td>False</td>\n",
       "      <td>214814</td>\n",
       "      <td>жилье</td>\n",
       "    </tr>\n",
       "    <tr>\n",
       "      <td>17657</td>\n",
       "      <td>-1</td>\n",
       "      <td>-4571</td>\n",
       "      <td>41</td>\n",
       "      <td>среднее</td>\n",
       "      <td>1</td>\n",
       "      <td>женат / замужем</td>\n",
       "      <td>0</td>\n",
       "      <td>F</td>\n",
       "      <td>сотрудник</td>\n",
       "      <td>False</td>\n",
       "      <td>122105</td>\n",
       "      <td>операции со своей недвижимостью</td>\n",
       "    </tr>\n",
       "    <tr>\n",
       "      <td>18219</td>\n",
       "      <td>-1</td>\n",
       "      <td>-3575</td>\n",
       "      <td>33</td>\n",
       "      <td>среднее</td>\n",
       "      <td>1</td>\n",
       "      <td>женат / замужем</td>\n",
       "      <td>0</td>\n",
       "      <td>F</td>\n",
       "      <td>сотрудник</td>\n",
       "      <td>False</td>\n",
       "      <td>128362</td>\n",
       "      <td>высшее образование</td>\n",
       "    </tr>\n",
       "    <tr>\n",
       "      <td>19100</td>\n",
       "      <td>-1</td>\n",
       "      <td>-617</td>\n",
       "      <td>38</td>\n",
       "      <td>среднее</td>\n",
       "      <td>1</td>\n",
       "      <td>Не женат / не замужем</td>\n",
       "      <td>4</td>\n",
       "      <td>M</td>\n",
       "      <td>сотрудник</td>\n",
       "      <td>False</td>\n",
       "      <td>122205</td>\n",
       "      <td>строительство жилой недвижимости</td>\n",
       "    </tr>\n",
       "    <tr>\n",
       "      <td>19366</td>\n",
       "      <td>-1</td>\n",
       "      <td>-372</td>\n",
       "      <td>43</td>\n",
       "      <td>СРЕДНЕЕ</td>\n",
       "      <td>1</td>\n",
       "      <td>женат / замужем</td>\n",
       "      <td>0</td>\n",
       "      <td>M</td>\n",
       "      <td>сотрудник</td>\n",
       "      <td>False</td>\n",
       "      <td>155588</td>\n",
       "      <td>сделка с подержанным автомобилем</td>\n",
       "    </tr>\n",
       "    <tr>\n",
       "      <td>19417</td>\n",
       "      <td>-1</td>\n",
       "      <td>350340</td>\n",
       "      <td>28</td>\n",
       "      <td>среднее</td>\n",
       "      <td>1</td>\n",
       "      <td>в разводе</td>\n",
       "      <td>3</td>\n",
       "      <td>F</td>\n",
       "      <td>пенсионер</td>\n",
       "      <td>False</td>\n",
       "      <td>52872</td>\n",
       "      <td>автомобили</td>\n",
       "    </tr>\n",
       "    <tr>\n",
       "      <td>20393</td>\n",
       "      <td>-1</td>\n",
       "      <td>355157</td>\n",
       "      <td>69</td>\n",
       "      <td>среднее</td>\n",
       "      <td>1</td>\n",
       "      <td>Не женат / не замужем</td>\n",
       "      <td>4</td>\n",
       "      <td>F</td>\n",
       "      <td>пенсионер</td>\n",
       "      <td>False</td>\n",
       "      <td>116521</td>\n",
       "      <td>операции с недвижимостью</td>\n",
       "    </tr>\n",
       "    <tr>\n",
       "      <td>20717</td>\n",
       "      <td>-1</td>\n",
       "      <td>-661</td>\n",
       "      <td>32</td>\n",
       "      <td>высшее</td>\n",
       "      <td>0</td>\n",
       "      <td>женат / замужем</td>\n",
       "      <td>0</td>\n",
       "      <td>F</td>\n",
       "      <td>сотрудник</td>\n",
       "      <td>False</td>\n",
       "      <td>137405</td>\n",
       "      <td>покупка жилой недвижимости</td>\n",
       "    </tr>\n",
       "    <tr>\n",
       "      <td>21140</td>\n",
       "      <td>-1</td>\n",
       "      <td>-1422</td>\n",
       "      <td>44</td>\n",
       "      <td>среднее</td>\n",
       "      <td>1</td>\n",
       "      <td>женат / замужем</td>\n",
       "      <td>0</td>\n",
       "      <td>F</td>\n",
       "      <td>компаньон</td>\n",
       "      <td>False</td>\n",
       "      <td>169562</td>\n",
       "      <td>операции со своей недвижимостью</td>\n",
       "    </tr>\n",
       "  </tbody>\n",
       "</table>\n",
       "</div>"
      ],
      "text/plain": [
       "       children  days_employed  dob_years            education  education_id  \\\n",
       "291          -1          -4417         46              среднее             1   \n",
       "705          -1           -902         50              среднее             1   \n",
       "742          -1          -3174         57              среднее             1   \n",
       "800          -1         349987         54              среднее             1   \n",
       "941          -1          -1203         57              Среднее             1   \n",
       "1363         -1          -1195         55              СРЕДНЕЕ             1   \n",
       "1929         -1          -1461         38              среднее             1   \n",
       "2073         -1          -2539         42              среднее             1   \n",
       "3814         -1          -3045         26              Среднее             1   \n",
       "4201         -1           -901         41              среднее             1   \n",
       "4402         -1         398001         64              СРЕДНЕЕ             1   \n",
       "4542         -1          -1811         32              среднее             1   \n",
       "5272         -1          -1143         46              среднее             1   \n",
       "6013         -1          -1361         46               высшее             0   \n",
       "6385         -1         370215         48              среднее             1   \n",
       "7190         -1          -5928         34              СРЕДНЕЕ             1   \n",
       "7278         -1           -526         51              среднее             1   \n",
       "7615         -1          -1203         35              среднее             1   \n",
       "7685         -1          -3237         53              среднее             1   \n",
       "8229         -1          -1803         54               высшее             0   \n",
       "8251         -1          -3113         31              среднее             1   \n",
       "8561         -1           -195         31              среднее             1   \n",
       "9565         -1          -2896         34               высшее             0   \n",
       "9574         -1          -2710         28               высшее             0   \n",
       "10177        -1          -1743         37              среднее             1   \n",
       "10365        -1         345774         63               ВЫСШЕЕ             0   \n",
       "10918        -1         340499         50              среднее             1   \n",
       "11109        -1          -3438         59              среднее             1   \n",
       "11268        -1          -1048         30               высшее             0   \n",
       "11617        -1           -370         27              среднее             1   \n",
       "12304        -1          -8493         61  неоконченное высшее             2   \n",
       "13786        -1          -1203         42              среднее             1   \n",
       "14357        -1           -268         23              среднее             1   \n",
       "15147        -1          -9851         44              среднее             1   \n",
       "15435        -1          -3614         40               высшее             0   \n",
       "16129        -1           -457         33              среднее             1   \n",
       "16265        -1          -2802         40               высшее             0   \n",
       "17095        -1          -2809         34              среднее             1   \n",
       "17429        -1           -895         37              среднее             1   \n",
       "17657        -1          -4571         41              среднее             1   \n",
       "18219        -1          -3575         33              среднее             1   \n",
       "19100        -1           -617         38              среднее             1   \n",
       "19366        -1           -372         43              СРЕДНЕЕ             1   \n",
       "19417        -1         350340         28              среднее             1   \n",
       "20393        -1         355157         69              среднее             1   \n",
       "20717        -1           -661         32               высшее             0   \n",
       "21140        -1          -1422         44              среднее             1   \n",
       "\n",
       "               family_status  family_status_id gender  income_type   debt  \\\n",
       "291         гражданский брак                 1      F    сотрудник  False   \n",
       "705          женат / замужем                 0      F  госслужащий  False   \n",
       "742          женат / замужем                 0      F    сотрудник  False   \n",
       "800    Не женат / не замужем                 4      F    пенсионер  False   \n",
       "941          женат / замужем                 0      F    пенсионер  False   \n",
       "1363         женат / замужем                 0      F    компаньон  False   \n",
       "1929   Не женат / не замужем                 4      M    сотрудник  False   \n",
       "2073               в разводе                 3      F    компаньон  False   \n",
       "3814        гражданский брак                 1      F  госслужащий  False   \n",
       "4201         женат / замужем                 0      F  госслужащий  False   \n",
       "4402         женат / замужем                 0      F    пенсионер  False   \n",
       "4542         женат / замужем                 0      F    сотрудник  False   \n",
       "5272          вдовец / вдова                 2      F    сотрудник  False   \n",
       "6013         женат / замужем                 0      F    сотрудник  False   \n",
       "6385          вдовец / вдова                 2      F    пенсионер  False   \n",
       "7190         женат / замужем                 0      M    сотрудник  False   \n",
       "7278         женат / замужем                 0      F    сотрудник  False   \n",
       "7615         женат / замужем                 0      M    сотрудник  False   \n",
       "7685          вдовец / вдова                 2      F    сотрудник  False   \n",
       "8229         женат / замужем                 0      F    компаньон  False   \n",
       "8251        гражданский брак                 1      F    сотрудник  False   \n",
       "8561         женат / замужем                 0      F    сотрудник  False   \n",
       "9565         женат / замужем                 0      M    сотрудник  False   \n",
       "9574         женат / замужем                 0      M  госслужащий  False   \n",
       "10177        женат / замужем                 0      M    сотрудник  False   \n",
       "10365         вдовец / вдова                 2      F    пенсионер  False   \n",
       "10918        женат / замужем                 0      M    пенсионер  False   \n",
       "11109        женат / замужем                 0      F    сотрудник  False   \n",
       "11268       гражданский брак                 1      F    компаньон  False   \n",
       "11617        женат / замужем                 0      F    компаньон  False   \n",
       "12304        женат / замужем                 0      M    сотрудник  False   \n",
       "13786  Не женат / не замужем                 4      M    компаньон  False   \n",
       "14357              в разводе                 3      F    компаньон  False   \n",
       "15147              в разводе                 3      F    сотрудник  False   \n",
       "15435       гражданский брак                 1      F    сотрудник  False   \n",
       "16129        женат / замужем                 0      F    сотрудник   True   \n",
       "16265        женат / замужем                 0      M    сотрудник  False   \n",
       "17095        женат / замужем                 0      F    сотрудник  False   \n",
       "17429        женат / замужем                 0      F    компаньон  False   \n",
       "17657        женат / замужем                 0      F    сотрудник  False   \n",
       "18219        женат / замужем                 0      F    сотрудник  False   \n",
       "19100  Не женат / не замужем                 4      M    сотрудник  False   \n",
       "19366        женат / замужем                 0      M    сотрудник  False   \n",
       "19417              в разводе                 3      F    пенсионер  False   \n",
       "20393  Не женат / не замужем                 4      F    пенсионер  False   \n",
       "20717        женат / замужем                 0      F    сотрудник  False   \n",
       "21140        женат / замужем                 0      F    компаньон  False   \n",
       "\n",
       "       total_income                                 purpose  \n",
       "291          102816                  профильное образование  \n",
       "705          137882                 приобретение автомобиля  \n",
       "742           64268              дополнительное образование  \n",
       "800           86293              дополнительное образование  \n",
       "941          145017            на покупку своего автомобиля  \n",
       "1363          69550                  профильное образование  \n",
       "1929         109121                           покупка жилья  \n",
       "2073         162638                           покупка жилья  \n",
       "3814         131892                   на проведение свадьбы  \n",
       "4201         226375         операции со своей недвижимостью  \n",
       "4402         163264                    покупка недвижимости  \n",
       "4542         160544                             образование  \n",
       "5272         278708                    покупка недвижимости  \n",
       "6013         143008  строительство собственной недвижимости  \n",
       "6385          36052                             образование  \n",
       "7190         184315                 приобретение автомобиля  \n",
       "7278         146928   операции с коммерческой недвижимостью  \n",
       "7615         145017                             образование  \n",
       "7685         159676        строительство жилой недвижимости  \n",
       "8229         138809                    покупка недвижимости  \n",
       "8251          54412                         свой автомобиль  \n",
       "8561         145577                            ремонт жилью  \n",
       "9565         126754                операции с недвижимостью  \n",
       "9574         303137   получение дополнительного образования  \n",
       "10177        310367                   получение образования  \n",
       "10365        170762        строительство жилой недвижимости  \n",
       "10918        170762                    покупка своего жилья  \n",
       "11109        219874                       операции с жильем  \n",
       "11268        321603                   на покупку автомобиля  \n",
       "11617        164591                 покупка жилья для сдачи  \n",
       "12304        315006                            недвижимость  \n",
       "13786        145017                              автомобиль  \n",
       "14357         92257              покупка жилой недвижимости  \n",
       "15147        110990                         свой автомобиль  \n",
       "15435         98127                         сыграть свадьбу  \n",
       "16129        149641                              автомобиль  \n",
       "16265        111984                           покупка жилья  \n",
       "17095        182543      на покупку подержанного автомобиля  \n",
       "17429        214814                                   жилье  \n",
       "17657        122105         операции со своей недвижимостью  \n",
       "18219        128362                      высшее образование  \n",
       "19100        122205        строительство жилой недвижимости  \n",
       "19366        155588        сделка с подержанным автомобилем  \n",
       "19417         52872                              автомобили  \n",
       "20393        116521                операции с недвижимостью  \n",
       "20717        137405              покупка жилой недвижимости  \n",
       "21140        169562         операции со своей недвижимостью  "
      ]
     },
     "metadata": {},
     "output_type": "display_data"
    }
   ],
   "source": [
    "# Найдем все строки, где количество детей -1.\n",
    "\n",
    "display(df.loc[df.loc[:,'children'] == -1])"
   ]
  },
  {
   "cell_type": "code",
   "execution_count": 160,
   "metadata": {},
   "outputs": [
    {
     "data": {
      "text/plain": [
       "children            47\n",
       "days_employed       47\n",
       "dob_years           47\n",
       "education           47\n",
       "education_id        47\n",
       "family_status       47\n",
       "family_status_id    47\n",
       "gender              47\n",
       "income_type         47\n",
       "debt                47\n",
       "total_income        47\n",
       "purpose             47\n",
       "dtype: int64"
      ]
     },
     "metadata": {},
     "output_type": "display_data"
    }
   ],
   "source": [
    "# Посчитаем количество строк со значением \"-1\" в столбце с количеством детей\n",
    "\n",
    "display(df.loc[df.loc[:,'children'] == -1].count())"
   ]
  },
  {
   "cell_type": "markdown",
   "metadata": {},
   "source": [
    "Мы видим, что число строк с некорретным значением всего 47 штук. Ввиду отсутствия возможности в рамках данной работы уточнить у разработчика расшифровку значения \"-1\" в столбце с количеством детей принимает решение о удалении строк с некорректным значением для сохранения целостности итоговых результатов.\n",
    "\n",
    "<div class=\"alert alert-info\">\n",
    "<b> Комментарий от студента </b>\n",
    "    \n",
    "Этот момент мне бы хотелось, чтобы Вы разъяснили правильно ли я сделал, что принял решение об удалении этих данных с целью не внесения погрешности в общий пул результатов. Спасибо!\n",
    "</div>"
   ]
  },
  {
   "cell_type": "markdown",
   "metadata": {},
   "source": [
    "<div style=\"border:solid green 2px; padding: 20px\"> \n",
    "    \n",
    "**Комментарий ревьюера**\n",
    "\n",
    "**#ок**\n",
    "\n",
    "Удалить -1 в данном случае возможное решение, их достаточно мало (в таких случаях хорошо показать процент строк).\n",
    "\n",
    "</div>"
   ]
  },
  {
   "cell_type": "code",
   "execution_count": 161,
   "metadata": {},
   "outputs": [
    {
     "data": {
      "text/html": [
       "<div>\n",
       "<style scoped>\n",
       "    .dataframe tbody tr th:only-of-type {\n",
       "        vertical-align: middle;\n",
       "    }\n",
       "\n",
       "    .dataframe tbody tr th {\n",
       "        vertical-align: top;\n",
       "    }\n",
       "\n",
       "    .dataframe thead th {\n",
       "        text-align: right;\n",
       "    }\n",
       "</style>\n",
       "<table border=\"1\" class=\"dataframe\">\n",
       "  <thead>\n",
       "    <tr style=\"text-align: right;\">\n",
       "      <th></th>\n",
       "      <th>children</th>\n",
       "      <th>days_employed</th>\n",
       "      <th>dob_years</th>\n",
       "      <th>education</th>\n",
       "      <th>education_id</th>\n",
       "      <th>family_status</th>\n",
       "      <th>family_status_id</th>\n",
       "      <th>gender</th>\n",
       "      <th>income_type</th>\n",
       "      <th>debt</th>\n",
       "      <th>total_income</th>\n",
       "      <th>purpose</th>\n",
       "    </tr>\n",
       "  </thead>\n",
       "  <tbody>\n",
       "    <tr>\n",
       "      <td>0</td>\n",
       "      <td>1</td>\n",
       "      <td>-8437</td>\n",
       "      <td>42</td>\n",
       "      <td>высшее</td>\n",
       "      <td>0</td>\n",
       "      <td>женат / замужем</td>\n",
       "      <td>0</td>\n",
       "      <td>F</td>\n",
       "      <td>сотрудник</td>\n",
       "      <td>False</td>\n",
       "      <td>253875</td>\n",
       "      <td>покупка жилья</td>\n",
       "    </tr>\n",
       "    <tr>\n",
       "      <td>1</td>\n",
       "      <td>1</td>\n",
       "      <td>-4024</td>\n",
       "      <td>36</td>\n",
       "      <td>среднее</td>\n",
       "      <td>1</td>\n",
       "      <td>женат / замужем</td>\n",
       "      <td>0</td>\n",
       "      <td>F</td>\n",
       "      <td>сотрудник</td>\n",
       "      <td>False</td>\n",
       "      <td>112080</td>\n",
       "      <td>приобретение автомобиля</td>\n",
       "    </tr>\n",
       "    <tr>\n",
       "      <td>2</td>\n",
       "      <td>0</td>\n",
       "      <td>-5623</td>\n",
       "      <td>33</td>\n",
       "      <td>Среднее</td>\n",
       "      <td>1</td>\n",
       "      <td>женат / замужем</td>\n",
       "      <td>0</td>\n",
       "      <td>M</td>\n",
       "      <td>сотрудник</td>\n",
       "      <td>False</td>\n",
       "      <td>145885</td>\n",
       "      <td>покупка жилья</td>\n",
       "    </tr>\n",
       "    <tr>\n",
       "      <td>3</td>\n",
       "      <td>3</td>\n",
       "      <td>-4124</td>\n",
       "      <td>32</td>\n",
       "      <td>среднее</td>\n",
       "      <td>1</td>\n",
       "      <td>женат / замужем</td>\n",
       "      <td>0</td>\n",
       "      <td>M</td>\n",
       "      <td>сотрудник</td>\n",
       "      <td>False</td>\n",
       "      <td>267628</td>\n",
       "      <td>дополнительное образование</td>\n",
       "    </tr>\n",
       "    <tr>\n",
       "      <td>4</td>\n",
       "      <td>0</td>\n",
       "      <td>340266</td>\n",
       "      <td>53</td>\n",
       "      <td>среднее</td>\n",
       "      <td>1</td>\n",
       "      <td>гражданский брак</td>\n",
       "      <td>1</td>\n",
       "      <td>F</td>\n",
       "      <td>пенсионер</td>\n",
       "      <td>False</td>\n",
       "      <td>158616</td>\n",
       "      <td>сыграть свадьбу</td>\n",
       "    </tr>\n",
       "    <tr>\n",
       "      <td>...</td>\n",
       "      <td>...</td>\n",
       "      <td>...</td>\n",
       "      <td>...</td>\n",
       "      <td>...</td>\n",
       "      <td>...</td>\n",
       "      <td>...</td>\n",
       "      <td>...</td>\n",
       "      <td>...</td>\n",
       "      <td>...</td>\n",
       "      <td>...</td>\n",
       "      <td>...</td>\n",
       "      <td>...</td>\n",
       "    </tr>\n",
       "    <tr>\n",
       "      <td>21473</td>\n",
       "      <td>1</td>\n",
       "      <td>-4529</td>\n",
       "      <td>43</td>\n",
       "      <td>среднее</td>\n",
       "      <td>1</td>\n",
       "      <td>гражданский брак</td>\n",
       "      <td>1</td>\n",
       "      <td>F</td>\n",
       "      <td>компаньон</td>\n",
       "      <td>False</td>\n",
       "      <td>224791</td>\n",
       "      <td>операции с жильем</td>\n",
       "    </tr>\n",
       "    <tr>\n",
       "      <td>21474</td>\n",
       "      <td>0</td>\n",
       "      <td>343937</td>\n",
       "      <td>67</td>\n",
       "      <td>среднее</td>\n",
       "      <td>1</td>\n",
       "      <td>женат / замужем</td>\n",
       "      <td>0</td>\n",
       "      <td>F</td>\n",
       "      <td>пенсионер</td>\n",
       "      <td>False</td>\n",
       "      <td>155999</td>\n",
       "      <td>сделка с автомобилем</td>\n",
       "    </tr>\n",
       "    <tr>\n",
       "      <td>21475</td>\n",
       "      <td>1</td>\n",
       "      <td>-2113</td>\n",
       "      <td>38</td>\n",
       "      <td>среднее</td>\n",
       "      <td>1</td>\n",
       "      <td>гражданский брак</td>\n",
       "      <td>1</td>\n",
       "      <td>M</td>\n",
       "      <td>сотрудник</td>\n",
       "      <td>True</td>\n",
       "      <td>89672</td>\n",
       "      <td>недвижимость</td>\n",
       "    </tr>\n",
       "    <tr>\n",
       "      <td>21476</td>\n",
       "      <td>3</td>\n",
       "      <td>-3112</td>\n",
       "      <td>38</td>\n",
       "      <td>среднее</td>\n",
       "      <td>1</td>\n",
       "      <td>женат / замужем</td>\n",
       "      <td>0</td>\n",
       "      <td>M</td>\n",
       "      <td>сотрудник</td>\n",
       "      <td>True</td>\n",
       "      <td>244093</td>\n",
       "      <td>на покупку своего автомобиля</td>\n",
       "    </tr>\n",
       "    <tr>\n",
       "      <td>21477</td>\n",
       "      <td>2</td>\n",
       "      <td>-1984</td>\n",
       "      <td>40</td>\n",
       "      <td>среднее</td>\n",
       "      <td>1</td>\n",
       "      <td>женат / замужем</td>\n",
       "      <td>0</td>\n",
       "      <td>F</td>\n",
       "      <td>сотрудник</td>\n",
       "      <td>False</td>\n",
       "      <td>82047</td>\n",
       "      <td>на покупку автомобиля</td>\n",
       "    </tr>\n",
       "  </tbody>\n",
       "</table>\n",
       "<p>21478 rows × 12 columns</p>\n",
       "</div>"
      ],
      "text/plain": [
       "       children  days_employed  dob_years education  education_id  \\\n",
       "0             1          -8437         42    высшее             0   \n",
       "1             1          -4024         36   среднее             1   \n",
       "2             0          -5623         33   Среднее             1   \n",
       "3             3          -4124         32   среднее             1   \n",
       "4             0         340266         53   среднее             1   \n",
       "...         ...            ...        ...       ...           ...   \n",
       "21473         1          -4529         43   среднее             1   \n",
       "21474         0         343937         67   среднее             1   \n",
       "21475         1          -2113         38   среднее             1   \n",
       "21476         3          -3112         38   среднее             1   \n",
       "21477         2          -1984         40   среднее             1   \n",
       "\n",
       "          family_status  family_status_id gender income_type   debt  \\\n",
       "0       женат / замужем                 0      F   сотрудник  False   \n",
       "1       женат / замужем                 0      F   сотрудник  False   \n",
       "2       женат / замужем                 0      M   сотрудник  False   \n",
       "3       женат / замужем                 0      M   сотрудник  False   \n",
       "4      гражданский брак                 1      F   пенсионер  False   \n",
       "...                 ...               ...    ...         ...    ...   \n",
       "21473  гражданский брак                 1      F   компаньон  False   \n",
       "21474   женат / замужем                 0      F   пенсионер  False   \n",
       "21475  гражданский брак                 1      M   сотрудник   True   \n",
       "21476   женат / замужем                 0      M   сотрудник   True   \n",
       "21477   женат / замужем                 0      F   сотрудник  False   \n",
       "\n",
       "       total_income                       purpose  \n",
       "0            253875                 покупка жилья  \n",
       "1            112080       приобретение автомобиля  \n",
       "2            145885                 покупка жилья  \n",
       "3            267628    дополнительное образование  \n",
       "4            158616               сыграть свадьбу  \n",
       "...             ...                           ...  \n",
       "21473        224791             операции с жильем  \n",
       "21474        155999          сделка с автомобилем  \n",
       "21475         89672                  недвижимость  \n",
       "21476        244093  на покупку своего автомобиля  \n",
       "21477         82047         на покупку автомобиля  \n",
       "\n",
       "[21478 rows x 12 columns]"
      ]
     },
     "metadata": {},
     "output_type": "display_data"
    }
   ],
   "source": [
    "# Удалим из df строки, в которых количество детей равно -1\n",
    "\n",
    "df = df.loc[df['children'] != -1].reset_index(drop=True)\n",
    "display(df)"
   ]
  },
  {
   "cell_type": "code",
   "execution_count": 162,
   "metadata": {},
   "outputs": [
    {
     "data": {
      "text/plain": [
       "array([ 0,  1,  2,  3,  4,  5, 20])"
      ]
     },
     "execution_count": 162,
     "metadata": {},
     "output_type": "execute_result"
    }
   ],
   "source": [
    "# Убедимся в отсутствии строк со значением количества детей \"-1\"\n",
    "\n",
    "df_sorted = df.sort_values(by='children')\n",
    "df_sorted['children'].unique()"
   ]
  },
  {
   "cell_type": "markdown",
   "metadata": {},
   "source": [
    "Столбец `childern` приведен в соответствие."
   ]
  },
  {
   "cell_type": "code",
   "execution_count": 163,
   "metadata": {},
   "outputs": [
    {
     "name": "stdout",
     "output_type": "stream",
     "text": [
      "среднее                13719\n",
      "высшее                  4710\n",
      "СРЕДНЕЕ                  768\n",
      "Среднее                  709\n",
      "неоконченное высшее      667\n",
      "ВЫСШЕЕ                   273\n",
      "Высшее                   268\n",
      "начальное                250\n",
      "Неоконченное высшее       47\n",
      "НЕОКОНЧЕННОЕ ВЫСШЕЕ       29\n",
      "НАЧАЛЬНОЕ                 17\n",
      "Начальное                 15\n",
      "ученая степень             4\n",
      "УЧЕНАЯ СТЕПЕНЬ             1\n",
      "Ученая степень             1\n",
      "Name: education, dtype: int64\n"
     ]
    }
   ],
   "source": [
    "# Выводим все уникальные значения по столбцу `education`\n",
    "\n",
    "print(df['education'].value_counts()) "
   ]
  },
  {
   "cell_type": "code",
   "execution_count": 164,
   "metadata": {},
   "outputs": [
    {
     "data": {
      "text/plain": [
       "среднее                15196\n",
       "высшее                  5251\n",
       "неоконченное высшее      743\n",
       "начальное                282\n",
       "ученая степень             6\n",
       "Name: education, dtype: int64"
      ]
     },
     "metadata": {},
     "output_type": "display_data"
    }
   ],
   "source": [
    "# Устраним дубликаты из-за разниц регистра\n",
    "\n",
    "df['education'] = df['education'].str.lower()\n",
    "display(df['education'].value_counts()) "
   ]
  },
  {
   "cell_type": "markdown",
   "metadata": {},
   "source": [
    "В данном случае с помощью .str.lower() мы однострочно устранили все неявные дубликаты, связанные с разным написанием регистра. Причина его возникновения, скорее всего, связана с отсутствие дополнительной обработки данных после форм, заполняемых заемщиком. Об этом стоит сообщить команде разработчиков для устранения этой проблемы."
   ]
  },
  {
   "cell_type": "code",
   "execution_count": 165,
   "metadata": {},
   "outputs": [
    {
     "name": "stdout",
     "output_type": "stream",
     "text": [
      "1    15196\n",
      "0     5251\n",
      "2      743\n",
      "3      282\n",
      "4        6\n",
      "Name: education_id, dtype: int64\n"
     ]
    }
   ],
   "source": [
    "# Выводим все уникальные значения по столбцу `education_id`\n",
    "\n",
    "print(df['education_id'].value_counts()) "
   ]
  },
  {
   "cell_type": "markdown",
   "metadata": {},
   "source": [
    "Дополнительная обработка значений в данном столбце не требуется. Значения соответствуют столбцу `education`. В дальнейшем будет составлен словарь, а столбец `education` будет удален. "
   ]
  },
  {
   "cell_type": "code",
   "execution_count": 166,
   "metadata": {
    "scrolled": true
   },
   "outputs": [
    {
     "name": "stdout",
     "output_type": "stream",
     "text": [
      "женат / замужем          12351\n",
      "гражданский брак          4172\n",
      "Не женат / не замужем     2808\n",
      "в разводе                 1191\n",
      "вдовец / вдова             956\n",
      "Name: family_status, dtype: int64\n"
     ]
    }
   ],
   "source": [
    "# Выводим все уникальные значения по столбцу `family_status`\n",
    "\n",
    "print(df['family_status'].value_counts())"
   ]
  },
  {
   "cell_type": "code",
   "execution_count": 167,
   "metadata": {},
   "outputs": [
    {
     "data": {
      "text/plain": [
       "женат / замужем          12351\n",
       "гражданский брак          4172\n",
       "не женат / не замужем     2808\n",
       "в разводе                 1191\n",
       "вдовец / вдова             956\n",
       "Name: family_status, dtype: int64"
      ]
     },
     "metadata": {},
     "output_type": "display_data"
    }
   ],
   "source": [
    "# Приведем значения столбца `family_status` к нижнему регистру\n",
    "\n",
    "df['family_status'] = df['family_status'].str.lower()\n",
    "display(df['family_status'].value_counts()) "
   ]
  },
  {
   "cell_type": "code",
   "execution_count": 168,
   "metadata": {},
   "outputs": [
    {
     "name": "stdout",
     "output_type": "stream",
     "text": [
      "0    12351\n",
      "1     4172\n",
      "4     2808\n",
      "3     1191\n",
      "2      956\n",
      "Name: family_status_id, dtype: int64\n"
     ]
    }
   ],
   "source": [
    "# Выводим все уникальные значения по столбцу `family_status_id`\n",
    "\n",
    "print(df['family_status_id'].value_counts())"
   ]
  },
  {
   "cell_type": "markdown",
   "metadata": {},
   "source": [
    "Дополнительная обработка значений в данном столбце не требуется. Значения соответствуют столбцу `family_status`. В дальнейшем будет составлен словарь, а столбец `family_status` будет удален. "
   ]
  },
  {
   "cell_type": "code",
   "execution_count": 169,
   "metadata": {},
   "outputs": [
    {
     "name": "stdout",
     "output_type": "stream",
     "text": [
      "F      14201\n",
      "M       7276\n",
      "XNA        1\n",
      "Name: gender, dtype: int64\n"
     ]
    }
   ],
   "source": [
    "# Выводим все уникальные значения по столбцу `gender`\n",
    "\n",
    "print(df['gender'].value_counts())"
   ]
  },
  {
   "cell_type": "markdown",
   "metadata": {},
   "source": [
    "Мы видим, что одно из значений в колонке имеет значение \"XNA\". Сложно точно сказать, что именно стоит за этим значением. Можно предположить, что пользователь либо отказался вводить пол, либо это какое-то обозначение одного из гендеров, к которым он себя причислил. Однако имеет место быть и технологической ошибке. Выведем всю строку для проверки корректности остальных данных."
   ]
  },
  {
   "cell_type": "code",
   "execution_count": 170,
   "metadata": {
    "scrolled": true
   },
   "outputs": [
    {
     "data": {
      "text/html": [
       "<div>\n",
       "<style scoped>\n",
       "    .dataframe tbody tr th:only-of-type {\n",
       "        vertical-align: middle;\n",
       "    }\n",
       "\n",
       "    .dataframe tbody tr th {\n",
       "        vertical-align: top;\n",
       "    }\n",
       "\n",
       "    .dataframe thead th {\n",
       "        text-align: right;\n",
       "    }\n",
       "</style>\n",
       "<table border=\"1\" class=\"dataframe\">\n",
       "  <thead>\n",
       "    <tr style=\"text-align: right;\">\n",
       "      <th></th>\n",
       "      <th>children</th>\n",
       "      <th>days_employed</th>\n",
       "      <th>dob_years</th>\n",
       "      <th>education</th>\n",
       "      <th>education_id</th>\n",
       "      <th>family_status</th>\n",
       "      <th>family_status_id</th>\n",
       "      <th>gender</th>\n",
       "      <th>income_type</th>\n",
       "      <th>debt</th>\n",
       "      <th>total_income</th>\n",
       "      <th>purpose</th>\n",
       "    </tr>\n",
       "  </thead>\n",
       "  <tbody>\n",
       "    <tr>\n",
       "      <td>10675</td>\n",
       "      <td>0</td>\n",
       "      <td>-2358</td>\n",
       "      <td>24</td>\n",
       "      <td>неоконченное высшее</td>\n",
       "      <td>2</td>\n",
       "      <td>гражданский брак</td>\n",
       "      <td>1</td>\n",
       "      <td>XNA</td>\n",
       "      <td>компаньон</td>\n",
       "      <td>False</td>\n",
       "      <td>203905</td>\n",
       "      <td>покупка недвижимости</td>\n",
       "    </tr>\n",
       "  </tbody>\n",
       "</table>\n",
       "</div>"
      ],
      "text/plain": [
       "       children  days_employed  dob_years            education  education_id  \\\n",
       "10675         0          -2358         24  неоконченное высшее             2   \n",
       "\n",
       "          family_status  family_status_id gender income_type   debt  \\\n",
       "10675  гражданский брак                 1    XNA   компаньон  False   \n",
       "\n",
       "       total_income               purpose  \n",
       "10675        203905  покупка недвижимости  "
      ]
     },
     "metadata": {},
     "output_type": "display_data"
    }
   ],
   "source": [
    "# Выводим строчку со значением XNA в столбце `gender`\n",
    "\n",
    "display(df.loc[df.loc[:,'gender'] == 'XNA'])"
   ]
  },
  {
   "cell_type": "markdown",
   "metadata": {},
   "source": [
    "Остальные значения в строке не мешают нашим исследованиям. Заменять пол XNA на М или Ж не имеет смысла, т.к. это не повлияет на наши исследования. Оставляем столбец без изменений."
   ]
  },
  {
   "cell_type": "code",
   "execution_count": 171,
   "metadata": {},
   "outputs": [
    {
     "name": "stdout",
     "output_type": "stream",
     "text": [
      "сотрудник          11093\n",
      "компаньон           5076\n",
      "пенсионер           3848\n",
      "госслужащий         1455\n",
      "безработный            2\n",
      "предприниматель        2\n",
      "студент                1\n",
      "в декрете              1\n",
      "Name: income_type, dtype: int64\n"
     ]
    }
   ],
   "source": [
    "# Выводим все уникальные значения по столбцу `income_type`\n",
    "\n",
    "print(df['income_type'].value_counts())"
   ]
  },
  {
   "cell_type": "markdown",
   "metadata": {},
   "source": [
    "Данные в столбце `income_type` являются корректными и не требует дополнительной обработки. Оставляет столбец без изменений."
   ]
  },
  {
   "cell_type": "code",
   "execution_count": 172,
   "metadata": {},
   "outputs": [
    {
     "name": "stdout",
     "output_type": "stream",
     "text": [
      "False    19738\n",
      "True      1740\n",
      "Name: debt, dtype: int64\n"
     ]
    }
   ],
   "source": [
    "# Выводим все уникальные значения по столбцу `debt`\n",
    "\n",
    "print(df['debt'].value_counts())"
   ]
  },
  {
   "cell_type": "markdown",
   "metadata": {},
   "source": [
    "Данные в столбце `debt` являются корректными и не требует дополнительной обработки. Оставляет столбец без изменений.\n",
    "\n",
    "* 0 - задолженностей по возврату кредитов не имел\n",
    "* 1 - задолженность по возрату кредитов есть в кредитной истории"
   ]
  },
  {
   "cell_type": "markdown",
   "metadata": {},
   "source": [
    "В случае со столбцом `total_income` воспользоваться методами .value_count() или .unique() не представляется возможным ввиду большого пула различных данных. Для поиска аномалий определим минимальный и максимальный уровень дохода."
   ]
  },
  {
   "cell_type": "code",
   "execution_count": 173,
   "metadata": {},
   "outputs": [
    {
     "name": "stdout",
     "output_type": "stream",
     "text": [
      "Максимальный уровень дохода заемщика:  2265604\n",
      "Минимальный уровень дохода заемщика:  20667\n"
     ]
    }
   ],
   "source": [
    "# Находим минимальный и максимальный уровень дохода заемщиков\n",
    "\n",
    "print('Максимальный уровень дохода заемщика: ', df['total_income'].max())\n",
    "print('Минимальный уровень дохода заемщика: ', df['total_income'].min())"
   ]
  },
  {
   "cell_type": "markdown",
   "metadata": {},
   "source": [
    "По полученным данным можем сделать вывод, что отсутствуют отрицательные или близкие к бесконечности значения, что косвенно сведетельсвует от корректности данных в столбце `total_income`"
   ]
  },
  {
   "cell_type": "code",
   "execution_count": 174,
   "metadata": {},
   "outputs": [
    {
     "name": "stdout",
     "output_type": "stream",
     "text": [
      "свадьба                                   797\n",
      "на проведение свадьбы                     776\n",
      "сыграть свадьбу                           773\n",
      "операции с недвижимостью                  674\n",
      "покупка коммерческой недвижимости         664\n",
      "операции с жильем                         652\n",
      "покупка жилья для сдачи                   652\n",
      "операции с коммерческой недвижимостью     650\n",
      "жилье                                     646\n",
      "покупка жилья                             644\n",
      "покупка жилья для семьи                   641\n",
      "строительство собственной недвижимости    634\n",
      "недвижимость                              633\n",
      "операции со своей недвижимостью           627\n",
      "строительство жилой недвижимости          623\n",
      "покупка недвижимости                      621\n",
      "строительство недвижимости                620\n",
      "покупка своего жилья                      619\n",
      "ремонт жилью                              611\n",
      "покупка жилой недвижимости                605\n",
      "на покупку своего автомобиля              504\n",
      "заняться высшим образованием              496\n",
      "автомобиль                                493\n",
      "сделка с подержанным автомобилем          488\n",
      "на покупку подержанного автомобиля        478\n",
      "свой автомобиль                           478\n",
      "автомобили                                477\n",
      "на покупку автомобиля                     471\n",
      "дополнительное образование                460\n",
      "приобретение автомобиля                   460\n",
      "сделка с автомобилем                      455\n",
      "высшее образование                        452\n",
      "получение дополнительного образования     446\n",
      "образование                               444\n",
      "получение образования                     442\n",
      "профильное образование                    434\n",
      "получение высшего образования             426\n",
      "заняться образованием                     412\n",
      "Name: purpose, dtype: int64\n"
     ]
    }
   ],
   "source": [
    "# Выводим все уникальные значения по столбцу `purpose`\n",
    "\n",
    "print(df['purpose'].value_counts())"
   ]
  },
  {
   "cell_type": "markdown",
   "metadata": {},
   "source": [
    "Из полученных данных видим большое число неявных дубликатов, которые требуется устранить. \n",
    "\n",
    "Устранять эти дубликаты будем путем создания нового столбца `purpose_category`, который будет иметь всего 4 категории:\n",
    "* операции с автомобилем\n",
    "* операции с недвижимостью\n",
    "* проведение свадьбы\n",
    "* получение образования\n",
    "\n",
    "Проделаем эту операцию на одном из следующих шагов.\n"
   ]
  },
  {
   "cell_type": "code",
   "execution_count": 175,
   "metadata": {},
   "outputs": [
    {
     "name": "stdout",
     "output_type": "stream",
     "text": [
      "Дубликатов в таблице: 71\n"
     ]
    }
   ],
   "source": [
    "# Посчитаем явных количество дубликатов в таблице\n",
    "\n",
    "print('Дубликатов в таблице:', df.duplicated().sum())"
   ]
  },
  {
   "cell_type": "code",
   "execution_count": 176,
   "metadata": {},
   "outputs": [],
   "source": [
    "# Удаляем все явные дубликаты в таблице\n",
    "\n",
    "df = df.drop_duplicates().reset_index(drop=True)"
   ]
  },
  {
   "cell_type": "code",
   "execution_count": 177,
   "metadata": {},
   "outputs": [
    {
     "name": "stdout",
     "output_type": "stream",
     "text": [
      "Дубликатов в таблице после обработки: 0\n"
     ]
    }
   ],
   "source": [
    "# Проверяем число явных дубликатов после удаления\n",
    "\n",
    "print('Дубликатов в таблице после обработки:', df.duplicated().sum())"
   ]
  },
  {
   "cell_type": "markdown",
   "metadata": {},
   "source": [
    "<div style=\"border:solid green 2px; padding: 20px\"> \n",
    "    \n",
    "**Комментарий ревьюера**\n",
    "\n",
    "**#ок**\n",
    "\n",
    "Отлично, все ошибки исправлены. Данные теперь достаточно чистые для дальнейшей работы\n",
    "\n",
    "</div>"
   ]
  },
  {
   "cell_type": "markdown",
   "metadata": {},
   "source": [
    "<div style=\"border:solid green 2px; padding: 20px\"> \n",
    "    \n",
    "**Комментарий ревьюера - 2**\n",
    "\n",
    "Отлично, теперь все верно\n",
    "    \n",
    "</div>"
   ]
  },
  {
   "cell_type": "markdown",
   "metadata": {},
   "source": [
    "**Выводы**\n",
    "\n",
    "В результате предыдущих шагов была проделана большая часть работы по предъобработке данных, а именно:\n",
    "* Были удалены и/или исправлены явные и неявные дубликаты\n",
    "* Были изменены типы данных в некоторых столбцах\n",
    "* Были найдены аномалии и приняты решения об их дальнейшей обработке\n",
    "* Были назначены планы на дальнейшее исследование"
   ]
  },
  {
   "cell_type": "markdown",
   "metadata": {},
   "source": [
    "# Шаг 2.5. Формирование дополнительных датафреймов словарей, декомпозиция исходного датафрейма."
   ]
  },
  {
   "cell_type": "markdown",
   "metadata": {},
   "source": [
    "Создадим два новых датафрема, содержащих в себе:\n",
    "* education_id и education — в первом;\n",
    "* family_status_id и family_status — во втором."
   ]
  },
  {
   "cell_type": "code",
   "execution_count": 178,
   "metadata": {},
   "outputs": [
    {
     "data": {
      "text/html": [
       "<div>\n",
       "<style scoped>\n",
       "    .dataframe tbody tr th:only-of-type {\n",
       "        vertical-align: middle;\n",
       "    }\n",
       "\n",
       "    .dataframe tbody tr th {\n",
       "        vertical-align: top;\n",
       "    }\n",
       "\n",
       "    .dataframe thead th {\n",
       "        text-align: right;\n",
       "    }\n",
       "</style>\n",
       "<table border=\"1\" class=\"dataframe\">\n",
       "  <thead>\n",
       "    <tr style=\"text-align: right;\">\n",
       "      <th></th>\n",
       "      <th>education_id</th>\n",
       "      <th>education</th>\n",
       "    </tr>\n",
       "  </thead>\n",
       "  <tbody>\n",
       "    <tr>\n",
       "      <td>0</td>\n",
       "      <td>0</td>\n",
       "      <td>высшее</td>\n",
       "    </tr>\n",
       "    <tr>\n",
       "      <td>1</td>\n",
       "      <td>1</td>\n",
       "      <td>среднее</td>\n",
       "    </tr>\n",
       "    <tr>\n",
       "      <td>2</td>\n",
       "      <td>2</td>\n",
       "      <td>неоконченное высшее</td>\n",
       "    </tr>\n",
       "    <tr>\n",
       "      <td>3</td>\n",
       "      <td>3</td>\n",
       "      <td>начальное</td>\n",
       "    </tr>\n",
       "    <tr>\n",
       "      <td>4</td>\n",
       "      <td>4</td>\n",
       "      <td>ученая степень</td>\n",
       "    </tr>\n",
       "  </tbody>\n",
       "</table>\n",
       "</div>"
      ],
      "text/plain": [
       "   education_id            education\n",
       "0             0               высшее\n",
       "1             1              среднее\n",
       "2             2  неоконченное высшее\n",
       "3             3            начальное\n",
       "4             4       ученая степень"
      ]
     },
     "metadata": {},
     "output_type": "display_data"
    },
    {
     "data": {
      "text/html": [
       "<div>\n",
       "<style scoped>\n",
       "    .dataframe tbody tr th:only-of-type {\n",
       "        vertical-align: middle;\n",
       "    }\n",
       "\n",
       "    .dataframe tbody tr th {\n",
       "        vertical-align: top;\n",
       "    }\n",
       "\n",
       "    .dataframe thead th {\n",
       "        text-align: right;\n",
       "    }\n",
       "</style>\n",
       "<table border=\"1\" class=\"dataframe\">\n",
       "  <thead>\n",
       "    <tr style=\"text-align: right;\">\n",
       "      <th></th>\n",
       "      <th>family_status_id</th>\n",
       "      <th>family_status</th>\n",
       "    </tr>\n",
       "  </thead>\n",
       "  <tbody>\n",
       "    <tr>\n",
       "      <td>0</td>\n",
       "      <td>0</td>\n",
       "      <td>женат / замужем</td>\n",
       "    </tr>\n",
       "    <tr>\n",
       "      <td>1</td>\n",
       "      <td>1</td>\n",
       "      <td>гражданский брак</td>\n",
       "    </tr>\n",
       "    <tr>\n",
       "      <td>2</td>\n",
       "      <td>2</td>\n",
       "      <td>вдовец / вдова</td>\n",
       "    </tr>\n",
       "    <tr>\n",
       "      <td>3</td>\n",
       "      <td>3</td>\n",
       "      <td>в разводе</td>\n",
       "    </tr>\n",
       "    <tr>\n",
       "      <td>4</td>\n",
       "      <td>4</td>\n",
       "      <td>не женат / не замужем</td>\n",
       "    </tr>\n",
       "  </tbody>\n",
       "</table>\n",
       "</div>"
      ],
      "text/plain": [
       "   family_status_id          family_status\n",
       "0                 0        женат / замужем\n",
       "1                 1       гражданский брак\n",
       "2                 2         вдовец / вдова\n",
       "3                 3              в разводе\n",
       "4                 4  не женат / не замужем"
      ]
     },
     "metadata": {},
     "output_type": "display_data"
    }
   ],
   "source": [
    "# Создадим два новых датафрейма \"словаря\"\n",
    "\n",
    "df_education = df[['education_id', 'education']]\n",
    "df_family = df[['family_status_id', 'family_status']]\n",
    "\n",
    "df_education = df_education.drop_duplicates().reset_index(drop=True)\n",
    "df_family = df_family.drop_duplicates().reset_index(drop=True)\n",
    "\n",
    "display(df_education.head(5))\n",
    "display(df_family.head(5))"
   ]
  },
  {
   "cell_type": "markdown",
   "metadata": {},
   "source": [
    "Мы получили два датафрейма-\"словаря\", к которым мы сможем обращаться по идентификатору в дальнейшем.\n",
    "\n",
    "Удалим из исходного датафрейма столбцы `education_id` и `family_status_id`."
   ]
  },
  {
   "cell_type": "code",
   "execution_count": 179,
   "metadata": {
    "scrolled": true
   },
   "outputs": [
    {
     "data": {
      "text/html": [
       "<div>\n",
       "<style scoped>\n",
       "    .dataframe tbody tr th:only-of-type {\n",
       "        vertical-align: middle;\n",
       "    }\n",
       "\n",
       "    .dataframe tbody tr th {\n",
       "        vertical-align: top;\n",
       "    }\n",
       "\n",
       "    .dataframe thead th {\n",
       "        text-align: right;\n",
       "    }\n",
       "</style>\n",
       "<table border=\"1\" class=\"dataframe\">\n",
       "  <thead>\n",
       "    <tr style=\"text-align: right;\">\n",
       "      <th></th>\n",
       "      <th>children</th>\n",
       "      <th>days_employed</th>\n",
       "      <th>dob_years</th>\n",
       "      <th>education</th>\n",
       "      <th>family_status</th>\n",
       "      <th>gender</th>\n",
       "      <th>income_type</th>\n",
       "      <th>debt</th>\n",
       "      <th>total_income</th>\n",
       "      <th>purpose</th>\n",
       "    </tr>\n",
       "  </thead>\n",
       "  <tbody>\n",
       "    <tr>\n",
       "      <td>0</td>\n",
       "      <td>1</td>\n",
       "      <td>-8437</td>\n",
       "      <td>42</td>\n",
       "      <td>высшее</td>\n",
       "      <td>женат / замужем</td>\n",
       "      <td>F</td>\n",
       "      <td>сотрудник</td>\n",
       "      <td>False</td>\n",
       "      <td>253875</td>\n",
       "      <td>покупка жилья</td>\n",
       "    </tr>\n",
       "    <tr>\n",
       "      <td>1</td>\n",
       "      <td>1</td>\n",
       "      <td>-4024</td>\n",
       "      <td>36</td>\n",
       "      <td>среднее</td>\n",
       "      <td>женат / замужем</td>\n",
       "      <td>F</td>\n",
       "      <td>сотрудник</td>\n",
       "      <td>False</td>\n",
       "      <td>112080</td>\n",
       "      <td>приобретение автомобиля</td>\n",
       "    </tr>\n",
       "    <tr>\n",
       "      <td>2</td>\n",
       "      <td>0</td>\n",
       "      <td>-5623</td>\n",
       "      <td>33</td>\n",
       "      <td>среднее</td>\n",
       "      <td>женат / замужем</td>\n",
       "      <td>M</td>\n",
       "      <td>сотрудник</td>\n",
       "      <td>False</td>\n",
       "      <td>145885</td>\n",
       "      <td>покупка жилья</td>\n",
       "    </tr>\n",
       "    <tr>\n",
       "      <td>3</td>\n",
       "      <td>3</td>\n",
       "      <td>-4124</td>\n",
       "      <td>32</td>\n",
       "      <td>среднее</td>\n",
       "      <td>женат / замужем</td>\n",
       "      <td>M</td>\n",
       "      <td>сотрудник</td>\n",
       "      <td>False</td>\n",
       "      <td>267628</td>\n",
       "      <td>дополнительное образование</td>\n",
       "    </tr>\n",
       "    <tr>\n",
       "      <td>4</td>\n",
       "      <td>0</td>\n",
       "      <td>340266</td>\n",
       "      <td>53</td>\n",
       "      <td>среднее</td>\n",
       "      <td>гражданский брак</td>\n",
       "      <td>F</td>\n",
       "      <td>пенсионер</td>\n",
       "      <td>False</td>\n",
       "      <td>158616</td>\n",
       "      <td>сыграть свадьбу</td>\n",
       "    </tr>\n",
       "  </tbody>\n",
       "</table>\n",
       "</div>"
      ],
      "text/plain": [
       "   children  days_employed  dob_years education     family_status gender  \\\n",
       "0         1          -8437         42    высшее   женат / замужем      F   \n",
       "1         1          -4024         36   среднее   женат / замужем      F   \n",
       "2         0          -5623         33   среднее   женат / замужем      M   \n",
       "3         3          -4124         32   среднее   женат / замужем      M   \n",
       "4         0         340266         53   среднее  гражданский брак      F   \n",
       "\n",
       "  income_type   debt  total_income                     purpose  \n",
       "0   сотрудник  False        253875               покупка жилья  \n",
       "1   сотрудник  False        112080     приобретение автомобиля  \n",
       "2   сотрудник  False        145885               покупка жилья  \n",
       "3   сотрудник  False        267628  дополнительное образование  \n",
       "4   пенсионер  False        158616             сыграть свадьбу  "
      ]
     },
     "execution_count": 179,
     "metadata": {},
     "output_type": "execute_result"
    }
   ],
   "source": [
    "# Удаляем столбцы `education_id` и `family_status_id`. Проверяем результат.\n",
    "\n",
    "df = df.drop(['education_id', 'family_status_id'], axis = 1)\n",
    "df.head(5)"
   ]
  },
  {
   "cell_type": "markdown",
   "metadata": {},
   "source": [
    "**Вывод**\n",
    "\n",
    "Мы избавились от двух столбов исходного датафрейма и создали для них два дополнительных датафрейма. Таблица приобрела более читаемый вид."
   ]
  },
  {
   "cell_type": "markdown",
   "metadata": {},
   "source": [
    "<div style=\"border:solid green 2px; padding: 20px\"> \n",
    "    \n",
    "**Комментарий ревьюера**\n",
    "\n",
    "**#ок**\n",
    "\n",
    "Отлично, словари правильно выделены\n",
    "</div>"
   ]
  },
  {
   "cell_type": "markdown",
   "metadata": {},
   "source": [
    "# Шаг 2.6. Категоризация дохода."
   ]
  },
  {
   "cell_type": "markdown",
   "metadata": {},
   "source": [
    "Необходимо категоризировать столбец `total_income` на 5 категорий:\n",
    "* 0–30000 — 'E';\n",
    "* 30001–50000 — 'D';\n",
    "* 50001–200000 — 'C';\n",
    "* 200001–1000000 — 'B';\n",
    "* 1000001 и выше — 'A'.\n",
    "\n",
    "Для этого напишем функцию одной строки, которая создаст новый столбец `total_income_category` и распределит клиентские доходы на обозначенные категории."
   ]
  },
  {
   "cell_type": "code",
   "execution_count": 180,
   "metadata": {},
   "outputs": [],
   "source": [
    "def income_group(income):\n",
    "    try:\n",
    "        if income <= 30000:\n",
    "            return 'E'\n",
    "        if 30001 <= income <= 50000:\n",
    "            return 'D'\n",
    "        if 50001 <= income <= 200000:\n",
    "            return 'C'\n",
    "        if 200001 <= income <= 1000000:\n",
    "            return 'B'\n",
    "        if income >= 1000001:\n",
    "            return 'A'\n",
    "        else:\n",
    "            return 'unknown category'\n",
    "    except:\n",
    "        return 'Неизвестная ошибка. Проверьте функцию.'\n",
    "    \n",
    "df['total_income_category'] = df['total_income'].apply(income_group)"
   ]
  },
  {
   "cell_type": "code",
   "execution_count": 181,
   "metadata": {
    "scrolled": false
   },
   "outputs": [
    {
     "name": "stdout",
     "output_type": "stream",
     "text": [
      "C    15978\n",
      "B     5033\n",
      "D      349\n",
      "A       25\n",
      "E       22\n",
      "Name: total_income_category, dtype: int64\n"
     ]
    },
    {
     "data": {
      "text/html": [
       "<div>\n",
       "<style scoped>\n",
       "    .dataframe tbody tr th:only-of-type {\n",
       "        vertical-align: middle;\n",
       "    }\n",
       "\n",
       "    .dataframe tbody tr th {\n",
       "        vertical-align: top;\n",
       "    }\n",
       "\n",
       "    .dataframe thead th {\n",
       "        text-align: right;\n",
       "    }\n",
       "</style>\n",
       "<table border=\"1\" class=\"dataframe\">\n",
       "  <thead>\n",
       "    <tr style=\"text-align: right;\">\n",
       "      <th></th>\n",
       "      <th>children</th>\n",
       "      <th>days_employed</th>\n",
       "      <th>dob_years</th>\n",
       "      <th>education</th>\n",
       "      <th>family_status</th>\n",
       "      <th>gender</th>\n",
       "      <th>income_type</th>\n",
       "      <th>debt</th>\n",
       "      <th>total_income</th>\n",
       "      <th>purpose</th>\n",
       "      <th>total_income_category</th>\n",
       "    </tr>\n",
       "  </thead>\n",
       "  <tbody>\n",
       "    <tr>\n",
       "      <td>0</td>\n",
       "      <td>1</td>\n",
       "      <td>-8437</td>\n",
       "      <td>42</td>\n",
       "      <td>высшее</td>\n",
       "      <td>женат / замужем</td>\n",
       "      <td>F</td>\n",
       "      <td>сотрудник</td>\n",
       "      <td>False</td>\n",
       "      <td>253875</td>\n",
       "      <td>покупка жилья</td>\n",
       "      <td>B</td>\n",
       "    </tr>\n",
       "    <tr>\n",
       "      <td>1</td>\n",
       "      <td>1</td>\n",
       "      <td>-4024</td>\n",
       "      <td>36</td>\n",
       "      <td>среднее</td>\n",
       "      <td>женат / замужем</td>\n",
       "      <td>F</td>\n",
       "      <td>сотрудник</td>\n",
       "      <td>False</td>\n",
       "      <td>112080</td>\n",
       "      <td>приобретение автомобиля</td>\n",
       "      <td>C</td>\n",
       "    </tr>\n",
       "    <tr>\n",
       "      <td>2</td>\n",
       "      <td>0</td>\n",
       "      <td>-5623</td>\n",
       "      <td>33</td>\n",
       "      <td>среднее</td>\n",
       "      <td>женат / замужем</td>\n",
       "      <td>M</td>\n",
       "      <td>сотрудник</td>\n",
       "      <td>False</td>\n",
       "      <td>145885</td>\n",
       "      <td>покупка жилья</td>\n",
       "      <td>C</td>\n",
       "    </tr>\n",
       "    <tr>\n",
       "      <td>3</td>\n",
       "      <td>3</td>\n",
       "      <td>-4124</td>\n",
       "      <td>32</td>\n",
       "      <td>среднее</td>\n",
       "      <td>женат / замужем</td>\n",
       "      <td>M</td>\n",
       "      <td>сотрудник</td>\n",
       "      <td>False</td>\n",
       "      <td>267628</td>\n",
       "      <td>дополнительное образование</td>\n",
       "      <td>B</td>\n",
       "    </tr>\n",
       "    <tr>\n",
       "      <td>4</td>\n",
       "      <td>0</td>\n",
       "      <td>340266</td>\n",
       "      <td>53</td>\n",
       "      <td>среднее</td>\n",
       "      <td>гражданский брак</td>\n",
       "      <td>F</td>\n",
       "      <td>пенсионер</td>\n",
       "      <td>False</td>\n",
       "      <td>158616</td>\n",
       "      <td>сыграть свадьбу</td>\n",
       "      <td>C</td>\n",
       "    </tr>\n",
       "  </tbody>\n",
       "</table>\n",
       "</div>"
      ],
      "text/plain": [
       "   children  days_employed  dob_years education     family_status gender  \\\n",
       "0         1          -8437         42    высшее   женат / замужем      F   \n",
       "1         1          -4024         36   среднее   женат / замужем      F   \n",
       "2         0          -5623         33   среднее   женат / замужем      M   \n",
       "3         3          -4124         32   среднее   женат / замужем      M   \n",
       "4         0         340266         53   среднее  гражданский брак      F   \n",
       "\n",
       "  income_type   debt  total_income                     purpose  \\\n",
       "0   сотрудник  False        253875               покупка жилья   \n",
       "1   сотрудник  False        112080     приобретение автомобиля   \n",
       "2   сотрудник  False        145885               покупка жилья   \n",
       "3   сотрудник  False        267628  дополнительное образование   \n",
       "4   пенсионер  False        158616             сыграть свадьбу   \n",
       "\n",
       "  total_income_category  \n",
       "0                     B  \n",
       "1                     C  \n",
       "2                     C  \n",
       "3                     B  \n",
       "4                     C  "
      ]
     },
     "execution_count": 181,
     "metadata": {},
     "output_type": "execute_result"
    }
   ],
   "source": [
    "# Проверяем корректность работу функции\n",
    "\n",
    "print(df['total_income_category'].value_counts())\n",
    "df.head(5)"
   ]
  },
  {
   "cell_type": "markdown",
   "metadata": {},
   "source": [
    "**Вывод**\n",
    "\n",
    "Функция работает корректно. Ошибок в работе функции не выявлено, т.к. в случае нераспознавания категории дохода появилась бы дополнительная категория `unknown category`, а в случае ошибки выполнения функции сработала бы ветвь except и была бы выведена соответствующая ошибка."
   ]
  },
  {
   "cell_type": "markdown",
   "metadata": {},
   "source": [
    "# Шаг 2.7. Категоризация целей кредита."
   ]
  },
  {
   "cell_type": "markdown",
   "metadata": {},
   "source": [
    "Необходимо категоризировать столбец `purpose` на 4 категории:\n",
    "* операции с автомобилем\n",
    "* операции с недвижимостью\n",
    "* проведение свадьбы\n",
    "* получение образования\n",
    "\n",
    "Для этого напишем функцию одной строки, которая создаст новый столбец `purpose_category` и распределит клиентские кредитные цели на обозначенные категории путем использования ключевых слов."
   ]
  },
  {
   "cell_type": "code",
   "execution_count": 182,
   "metadata": {},
   "outputs": [],
   "source": [
    "# Создаем функцию одной строки, которая категорезует все причины займов клиентов на 4 категории\n",
    "\n",
    "def purpose_group(purpose):\n",
    "    try:\n",
    "        if 'свадьб' in purpose:\n",
    "            return 'проведение свадьбы'\n",
    "        if 'авто' in purpose:\n",
    "            return 'операции с автомобилем'\n",
    "        if 'образов' in purpose:\n",
    "            return 'получение образования'\n",
    "        if ('недвиж' in purpose) or ('жиль' in purpose):\n",
    "            return 'операции с недвижимостью'\n",
    "        else:\n",
    "            return 'unknown category'\n",
    "    except:\n",
    "        return 'Неизвестная ошибка. Проверьте функцию.'\n",
    "    \n",
    "df['purpose_category'] = df['purpose'].apply(purpose_group)"
   ]
  },
  {
   "cell_type": "code",
   "execution_count": 183,
   "metadata": {
    "scrolled": false
   },
   "outputs": [
    {
     "name": "stdout",
     "output_type": "stream",
     "text": [
      "операции с недвижимостью    10787\n",
      "операции с автомобилем       4295\n",
      "получение образования        4003\n",
      "проведение свадьбы           2322\n",
      "Name: purpose_category, dtype: int64\n"
     ]
    },
    {
     "data": {
      "text/html": [
       "<div>\n",
       "<style scoped>\n",
       "    .dataframe tbody tr th:only-of-type {\n",
       "        vertical-align: middle;\n",
       "    }\n",
       "\n",
       "    .dataframe tbody tr th {\n",
       "        vertical-align: top;\n",
       "    }\n",
       "\n",
       "    .dataframe thead th {\n",
       "        text-align: right;\n",
       "    }\n",
       "</style>\n",
       "<table border=\"1\" class=\"dataframe\">\n",
       "  <thead>\n",
       "    <tr style=\"text-align: right;\">\n",
       "      <th></th>\n",
       "      <th>children</th>\n",
       "      <th>days_employed</th>\n",
       "      <th>dob_years</th>\n",
       "      <th>education</th>\n",
       "      <th>family_status</th>\n",
       "      <th>gender</th>\n",
       "      <th>income_type</th>\n",
       "      <th>debt</th>\n",
       "      <th>total_income</th>\n",
       "      <th>purpose</th>\n",
       "      <th>total_income_category</th>\n",
       "      <th>purpose_category</th>\n",
       "    </tr>\n",
       "  </thead>\n",
       "  <tbody>\n",
       "    <tr>\n",
       "      <td>0</td>\n",
       "      <td>1</td>\n",
       "      <td>-8437</td>\n",
       "      <td>42</td>\n",
       "      <td>высшее</td>\n",
       "      <td>женат / замужем</td>\n",
       "      <td>F</td>\n",
       "      <td>сотрудник</td>\n",
       "      <td>False</td>\n",
       "      <td>253875</td>\n",
       "      <td>покупка жилья</td>\n",
       "      <td>B</td>\n",
       "      <td>операции с недвижимостью</td>\n",
       "    </tr>\n",
       "    <tr>\n",
       "      <td>1</td>\n",
       "      <td>1</td>\n",
       "      <td>-4024</td>\n",
       "      <td>36</td>\n",
       "      <td>среднее</td>\n",
       "      <td>женат / замужем</td>\n",
       "      <td>F</td>\n",
       "      <td>сотрудник</td>\n",
       "      <td>False</td>\n",
       "      <td>112080</td>\n",
       "      <td>приобретение автомобиля</td>\n",
       "      <td>C</td>\n",
       "      <td>операции с автомобилем</td>\n",
       "    </tr>\n",
       "    <tr>\n",
       "      <td>2</td>\n",
       "      <td>0</td>\n",
       "      <td>-5623</td>\n",
       "      <td>33</td>\n",
       "      <td>среднее</td>\n",
       "      <td>женат / замужем</td>\n",
       "      <td>M</td>\n",
       "      <td>сотрудник</td>\n",
       "      <td>False</td>\n",
       "      <td>145885</td>\n",
       "      <td>покупка жилья</td>\n",
       "      <td>C</td>\n",
       "      <td>операции с недвижимостью</td>\n",
       "    </tr>\n",
       "    <tr>\n",
       "      <td>3</td>\n",
       "      <td>3</td>\n",
       "      <td>-4124</td>\n",
       "      <td>32</td>\n",
       "      <td>среднее</td>\n",
       "      <td>женат / замужем</td>\n",
       "      <td>M</td>\n",
       "      <td>сотрудник</td>\n",
       "      <td>False</td>\n",
       "      <td>267628</td>\n",
       "      <td>дополнительное образование</td>\n",
       "      <td>B</td>\n",
       "      <td>получение образования</td>\n",
       "    </tr>\n",
       "    <tr>\n",
       "      <td>4</td>\n",
       "      <td>0</td>\n",
       "      <td>340266</td>\n",
       "      <td>53</td>\n",
       "      <td>среднее</td>\n",
       "      <td>гражданский брак</td>\n",
       "      <td>F</td>\n",
       "      <td>пенсионер</td>\n",
       "      <td>False</td>\n",
       "      <td>158616</td>\n",
       "      <td>сыграть свадьбу</td>\n",
       "      <td>C</td>\n",
       "      <td>проведение свадьбы</td>\n",
       "    </tr>\n",
       "  </tbody>\n",
       "</table>\n",
       "</div>"
      ],
      "text/plain": [
       "   children  days_employed  dob_years education     family_status gender  \\\n",
       "0         1          -8437         42    высшее   женат / замужем      F   \n",
       "1         1          -4024         36   среднее   женат / замужем      F   \n",
       "2         0          -5623         33   среднее   женат / замужем      M   \n",
       "3         3          -4124         32   среднее   женат / замужем      M   \n",
       "4         0         340266         53   среднее  гражданский брак      F   \n",
       "\n",
       "  income_type   debt  total_income                     purpose  \\\n",
       "0   сотрудник  False        253875               покупка жилья   \n",
       "1   сотрудник  False        112080     приобретение автомобиля   \n",
       "2   сотрудник  False        145885               покупка жилья   \n",
       "3   сотрудник  False        267628  дополнительное образование   \n",
       "4   пенсионер  False        158616             сыграть свадьбу   \n",
       "\n",
       "  total_income_category          purpose_category  \n",
       "0                     B  операции с недвижимостью  \n",
       "1                     C    операции с автомобилем  \n",
       "2                     C  операции с недвижимостью  \n",
       "3                     B     получение образования  \n",
       "4                     C        проведение свадьбы  "
      ]
     },
     "execution_count": 183,
     "metadata": {},
     "output_type": "execute_result"
    }
   ],
   "source": [
    "# Проверяем корректность работу функции\n",
    "\n",
    "print(df['purpose_category'].value_counts())\n",
    "df.head(5)"
   ]
  },
  {
   "cell_type": "markdown",
   "metadata": {},
   "source": [
    "**Вывод**\n",
    "\n",
    "Функция работает корректно. Ошибок в работе функции не выявлено, т.к. в случае нераспознавания причины займа появилась бы дополнительная категория `unknown category`, а в случае ошибки выполнения функции сработала бы ветвь except и была бы выведена соответствующая ошибка."
   ]
  },
  {
   "cell_type": "markdown",
   "metadata": {},
   "source": [
    "<div style=\"border:solid green 2px; padding: 20px\"> \n",
    "    \n",
    "**Комментарий ревьюера**\n",
    "\n",
    "**#ок**\n",
    "\n",
    "Отлично, требуемые по заданию категории выделены правильно, молодец\n",
    "</div>"
   ]
  },
  {
   "cell_type": "markdown",
   "metadata": {},
   "source": [
    "<div style=\"border:solid gold 2px; padding: 20px\"> \n",
    "    \n",
    "**Комментарий ревьюера**\n",
    "\n",
    "**#можно лучше**\n",
    "\n",
    "также стоило выделить категории по количеству детей (хотя это напрямую в задании не сказано). Если ты посмотришь далее, то при оценки вероятности невозврата у на появились категории с 9 и 41 пользователем. Вообще говоря такие группы анализировать статистически не совсем верно. правильнее было бы укрупнить группы, чтобы в каждой было хотя бы 100 пользователей\n",
    "</div>\n",
    "\n",
    "<div class=\"alert alert-info\">\n",
    "<b> Комментарий от студента - 2</b>\n",
    "    \n",
    "Идею понял, а каким образом в данном случае стоило бы укрупнить группы, чтобы не повлиять на задачи исследования? Допустим, объедени я людей с 4, 5 и 20 детьми в одну группу \"4 и более\" - насколько это было бы корректно?\n",
    "</div>"
   ]
  },
  {
   "cell_type": "markdown",
   "metadata": {},
   "source": [
    "<div style=\"border:solid green 2px; padding: 20px\"> \n",
    "    \n",
    "**Комментарий ревьюера - 2**\n",
    "\n",
    "В данном случае можно сделать просто категории  сдетьми/без детей. Вообще будет корректно любое разделение, где группы получатся больше 100. Но тут явный перекос в сторону 0 детей и только если все остальные объединить, то получим равнозначные группы\n",
    "    \n",
    "</div>"
   ]
  },
  {
   "cell_type": "markdown",
   "metadata": {},
   "source": [
    "# Ответы на вопросы."
   ]
  },
  {
   "cell_type": "markdown",
   "metadata": {},
   "source": [
    "Данные прошли все необходимые этапы предобработки и готовы к исследованиям. Нам необходимо ответить на несколько вопросов:\n",
    "1. Есть ли зависимость между количеством детей и возвратом кредита в срок?\n",
    "2. Есть ли зависимость между семейным положением и возвратом кредита в срок?\n",
    "3. Есть ли зависимость между уровнем дохода и возвратом кредита в срок?\n",
    "4. Как разные цели кредита влияют на его возврат в срок?\n",
    "\n",
    "Поочередно проанализируем данные, чтобы получить ответы на эти вопросы."
   ]
  },
  {
   "cell_type": "markdown",
   "metadata": {},
   "source": [
    "**Вопрос 1: Есть ли зависимость между количеством детей и возвратом кредита в срок?**"
   ]
  },
  {
   "cell_type": "markdown",
   "metadata": {},
   "source": [
    "Для ответа на данный вопрос напишем функцию, которая опираясь на наши данные вернет процент добросовестных вкладчиков с N количеством детей, относительно общего числа вкладчиков с числом детей N."
   ]
  },
  {
   "cell_type": "code",
   "execution_count": 184,
   "metadata": {},
   "outputs": [
    {
     "name": "stdout",
     "output_type": "stream",
     "text": [
      "Процент добросовестных заёмщиком с 0 детей(детьми): 92.5%\n",
      "Процент добросовестных заёмщиком с 1 детей(детьми): 90.8%\n",
      "Процент добросовестных заёмщиком с 2 детей(детьми): 90.5%\n",
      "Процент добросовестных заёмщиком с 3 детей(детьми): 91.8%\n",
      "Процент добросовестных заёмщиком с 4 детей(детьми): 90.2%\n",
      "Процент добросовестных заёмщиком с 5 детей(детьми): 100.0%\n",
      "Процент добросовестных заёмщиком с 20 детей(детьми): 89.5%\n"
     ]
    }
   ],
   "source": [
    "# Функция для расчета процента добросовестных заемщиков, относительно общего числа кредиторов с заданным числом детей\n",
    "# Функция получает на вход количество детей и debt (0 - просрочек не было, 1 - есть просрочки)\n",
    "# Функция находит строчки с заданным числом детей, считает их количество.\n",
    "# Затем функция находит число детей в категории debt = 0 и считает их количество.\n",
    "# Далее происходит округление и расчет отношения числа добросовестных заёмщиков к общему числу с выбранным числом детей.\n",
    "# И далее с помощью цикла for функция вызывается нужное количество раз.\n",
    "\n",
    "def children_count(child_count, debt_number):\n",
    "    child_list = df.loc[df.loc[:,'children'] == child_count]\n",
    "    child_list_count_total = child_list.shape[0]\n",
    "    child_list = child_list.loc[child_list.loc[:,'debt'] == debt_number]\n",
    "    child_list_count = child_list.shape[0]\n",
    "    child_relationship = round((child_list_count / child_list_count_total * 100), 1)\n",
    "    child_relationship = 'Процент добросовестных заёмщиком с ' + str(child_count) + ' детей(детьми): ' + str(child_relationship) + '%'\n",
    "    return child_relationship\n",
    "\n",
    "children_list = [0, 1, 2, 3, 4, 5, 20]\n",
    "\n",
    "for children in children_list:\n",
    "    print(children_count(children, 0))"
   ]
  },
  {
   "cell_type": "code",
   "execution_count": 185,
   "metadata": {},
   "outputs": [
    {
     "name": "stdout",
     "output_type": "stream",
     "text": [
      "Общее число строк с базе с пятью детьми: 9\n"
     ]
    }
   ],
   "source": [
    "# Посчитаем число строк в таблице, где количество детей у заёмщика - 5\n",
    "\n",
    "child_list = df.loc[df.loc[:,'children'] == 5]\n",
    "child_list_count_total = child_list.shape[0]\n",
    "print('Общее число строк с базе с пятью детьми:', child_list_count_total)"
   ]
  },
  {
   "cell_type": "code",
   "execution_count": 207,
   "metadata": {},
   "outputs": [
    {
     "data": {
      "text/html": [
       "<div>\n",
       "<style scoped>\n",
       "    .dataframe tbody tr th:only-of-type {\n",
       "        vertical-align: middle;\n",
       "    }\n",
       "\n",
       "    .dataframe tbody tr th {\n",
       "        vertical-align: top;\n",
       "    }\n",
       "\n",
       "    .dataframe thead th {\n",
       "        text-align: right;\n",
       "    }\n",
       "</style>\n",
       "<table border=\"1\" class=\"dataframe\">\n",
       "  <thead>\n",
       "    <tr style=\"text-align: right;\">\n",
       "      <th></th>\n",
       "      <th>Вероятность невозврата в срок (%)</th>\n",
       "    </tr>\n",
       "    <tr>\n",
       "      <th>children</th>\n",
       "      <th></th>\n",
       "    </tr>\n",
       "  </thead>\n",
       "  <tbody>\n",
       "    <tr>\n",
       "      <td>5</td>\n",
       "      <td>0.0</td>\n",
       "    </tr>\n",
       "    <tr>\n",
       "      <td>0</td>\n",
       "      <td>7.5</td>\n",
       "    </tr>\n",
       "    <tr>\n",
       "      <td>3</td>\n",
       "      <td>8.2</td>\n",
       "    </tr>\n",
       "    <tr>\n",
       "      <td>1</td>\n",
       "      <td>9.2</td>\n",
       "    </tr>\n",
       "    <tr>\n",
       "      <td>2</td>\n",
       "      <td>9.5</td>\n",
       "    </tr>\n",
       "    <tr>\n",
       "      <td>4</td>\n",
       "      <td>9.8</td>\n",
       "    </tr>\n",
       "    <tr>\n",
       "      <td>20</td>\n",
       "      <td>10.5</td>\n",
       "    </tr>\n",
       "  </tbody>\n",
       "</table>\n",
       "</div>"
      ],
      "text/plain": [
       "          Вероятность невозврата в срок (%)\n",
       "children                                   \n",
       "5                                       0.0\n",
       "0                                       7.5\n",
       "3                                       8.2\n",
       "1                                       9.2\n",
       "2                                       9.5\n",
       "4                                       9.8\n",
       "20                                     10.5"
      ]
     },
     "metadata": {},
     "output_type": "display_data"
    }
   ],
   "source": [
    "# Строим сводную таблицу с вероятностью невозврата кредита в срок\n",
    "\n",
    "df_income = df.pivot_table(index=['children'], values='debt', aggfunc='mean').sort_values(by='debt')\n",
    "df_income['debt'] = round(df_income['debt'] * 100, 1)\n",
    "df_income = df_income.rename(\n",
    "            columns={\n",
    "                'debt': 'Вероятность невозврата в срок (%)',\n",
    "            }\n",
    ")\n",
    "\n",
    "\n",
    "display(df_income)"
   ]
  },
  {
   "cell_type": "markdown",
   "metadata": {},
   "source": [
    "**Вывод 1:**\n",
    "\n",
    "Отвечая на вопрос \"Есть ли зависимость между количеством детей и возвратом кредита в срок?\" можно сделать следующие выводы:\n",
    "* Люди без детей возвращают кредиты в срок с наибольшей долей вероятности (7.5% невозвратов)\n",
    "* Люди с 1 и 2 детьми возвращают кредиты в срок приблизительно с одинаковой вероятностью (9.2 и 9.5 процентов невозвратов соответственно)\n",
    "* Люди с 4 и 20 детьми возвращают кредиты в срок приблизительно с одинаковой вероятностью (9.8 и 10.5 процентов невозвратов соответственно)\n",
    "* Люди с 3 детьми возвращают кредит с долей вероятности выше, чем с 1 и 2, но ниже, чем люди без детей (8.2% невозвратов)\n",
    "* Люди с 5 детьми возвращают кредит со 100% долей вероятности, однако стоит отметить, что результаты для данного количества детей нельзя справедливо оценить, т.к. в базе присутствует слишком мало данных по таким заёмщикам. Общее число таких строк - 9.\n"
   ]
  },
  {
   "cell_type": "markdown",
   "metadata": {},
   "source": [
    "**Вопрос 2: Есть ли зависимость между семейным положением и возвратом кредита в срок?**"
   ]
  },
  {
   "cell_type": "code",
   "execution_count": 186,
   "metadata": {},
   "outputs": [
    {
     "name": "stdout",
     "output_type": "stream",
     "text": [
      "Процент добросовестных заёмщиком в семейном положении женат / замужем: 92.4%\n",
      "Процент добросовестных заёмщиком в семейном положении гражданский брак: 90.6%\n",
      "Процент добросовестных заёмщиком в семейном положении не женат / не замужем: 90.2%\n",
      "Процент добросовестных заёмщиком в семейном положении в разводе: 92.9%\n",
      "Процент добросовестных заёмщиком в семейном положении вдовец / вдова: 93.4%\n"
     ]
    }
   ],
   "source": [
    "# Аналогичная функция для расчета процента добросовестных заемщиков по семейному положению\n",
    "\n",
    "def family_count(family_meaning, debt_number):\n",
    "    family_list = df.loc[df.loc[:,'family_status'] == family_meaning]\n",
    "    family_list_count_total = family_list.shape[0]\n",
    "    family_list = family_list.loc[family_list.loc[:,'debt'] == debt_number]\n",
    "    family_list_count = family_list.shape[0]\n",
    "    family_relationship = round((family_list_count / family_list_count_total * 100), 1)\n",
    "    family_relationship = 'Процент добросовестных заёмщиком в семейном положении ' + str(family_meaning) + ': ' + str(family_relationship) + '%'\n",
    "    return family_relationship\n",
    "\n",
    "family_list = ['женат / замужем', 'гражданский брак', 'не женат / не замужем', 'в разводе', 'вдовец / вдова']\n",
    "\n",
    "for family in family_list:\n",
    "    print(family_count(family, 0))"
   ]
  },
  {
   "cell_type": "code",
   "execution_count": 206,
   "metadata": {},
   "outputs": [
    {
     "data": {
      "text/html": [
       "<div>\n",
       "<style scoped>\n",
       "    .dataframe tbody tr th:only-of-type {\n",
       "        vertical-align: middle;\n",
       "    }\n",
       "\n",
       "    .dataframe tbody tr th {\n",
       "        vertical-align: top;\n",
       "    }\n",
       "\n",
       "    .dataframe thead th {\n",
       "        text-align: right;\n",
       "    }\n",
       "</style>\n",
       "<table border=\"1\" class=\"dataframe\">\n",
       "  <thead>\n",
       "    <tr style=\"text-align: right;\">\n",
       "      <th></th>\n",
       "      <th>Вероятность невозврата в срок (%)</th>\n",
       "    </tr>\n",
       "    <tr>\n",
       "      <th>family_status</th>\n",
       "      <th></th>\n",
       "    </tr>\n",
       "  </thead>\n",
       "  <tbody>\n",
       "    <tr>\n",
       "      <td>вдовец / вдова</td>\n",
       "      <td>6.6</td>\n",
       "    </tr>\n",
       "    <tr>\n",
       "      <td>в разводе</td>\n",
       "      <td>7.1</td>\n",
       "    </tr>\n",
       "    <tr>\n",
       "      <td>женат / замужем</td>\n",
       "      <td>7.6</td>\n",
       "    </tr>\n",
       "    <tr>\n",
       "      <td>гражданский брак</td>\n",
       "      <td>9.4</td>\n",
       "    </tr>\n",
       "    <tr>\n",
       "      <td>не женат / не замужем</td>\n",
       "      <td>9.8</td>\n",
       "    </tr>\n",
       "  </tbody>\n",
       "</table>\n",
       "</div>"
      ],
      "text/plain": [
       "                       Вероятность невозврата в срок (%)\n",
       "family_status                                           \n",
       "вдовец / вдова                                       6.6\n",
       "в разводе                                            7.1\n",
       "женат / замужем                                      7.6\n",
       "гражданский брак                                     9.4\n",
       "не женат / не замужем                                9.8"
      ]
     },
     "metadata": {},
     "output_type": "display_data"
    }
   ],
   "source": [
    "# Строим сводную таблицу с вероятностью невозврата кредита в срок\n",
    "\n",
    "df_income = df.pivot_table(index=['family_status'], values='debt', aggfunc='mean').sort_values(by='debt')\n",
    "df_income['debt'] = round(df_income['debt'] * 100, 1)\n",
    "df_income = df_income.rename(\n",
    "            columns={\n",
    "                'debt': 'Вероятность невозврата в срок (%)',\n",
    "            }\n",
    ")\n",
    "\n",
    "\n",
    "display(df_income)"
   ]
  },
  {
   "cell_type": "markdown",
   "metadata": {},
   "source": [
    "**Вывод 2:**\n",
    "\n",
    "Отвечая на вопрос \"Есть ли зависимость между семейным положением и возвратом кредита в срок?\" можно сделать следующие выводы:\n",
    "\n",
    "* Наиболее добросовестными заемщиками являются люди в семейном положении \"вдовец/вдова\" - 6.6%\n",
    "* Заёмщики с семейным положением \"в разводе\" - 7.1%\n",
    "* Заёмщики с семейным положением \"женат/замужем\" - 7.6%\n",
    "* Заёмщики с семейным положением \"гражданский брак\" - 9.4%\n",
    "* Заёмщики с семейным положнием \"не женат/не замужем\" - 9.8%\n",
    "\n",
    "Таким образом можно сделать вывод, что наиболее добросовестными заёмщиками являются люди с семейным положением \"вдовец/вдова\" и \"в разводе\", а категория людей с семейным положением \"гражданский брак\" и \"не женат/не замужем\" имеют наиболее низкие показатели."
   ]
  },
  {
   "cell_type": "markdown",
   "metadata": {},
   "source": [
    "**Вопрос 3: Есть ли зависимость между уровнем дохода и возвратом кредита в срок?**"
   ]
  },
  {
   "cell_type": "code",
   "execution_count": 187,
   "metadata": {},
   "outputs": [
    {
     "name": "stdout",
     "output_type": "stream",
     "text": [
      "Процент добросовестных заёмщиков с уровнем дохода в категории A: 92.0%\n",
      "Процент добросовестных заёмщиков с уровнем дохода в категории B: 92.9%\n",
      "Процент добросовестных заёмщиков с уровнем дохода в категории C: 91.5%\n",
      "Процент добросовестных заёмщиков с уровнем дохода в категории D: 94.0%\n",
      "Процент добросовестных заёмщиков с уровнем дохода в категории E: 90.9%\n"
     ]
    }
   ],
   "source": [
    "# Аналогичная функция для расчета процента добросовестных заемщиков по уровню дохода\n",
    "\n",
    "def income_count(income_meaning, debt_number):\n",
    "    income_list = df.loc[df.loc[:,'total_income_category'] == income_meaning]\n",
    "    income_list_count_total = income_list.shape[0]\n",
    "    income_list = income_list.loc[income_list.loc[:,'debt'] == debt_number]\n",
    "    income_list_count = income_list.shape[0]\n",
    "    income_relationship = round((income_list_count / income_list_count_total * 100), 1)\n",
    "    income_relationship = 'Процент добросовестных заёмщиков с уровнем дохода в категории ' + str(income_meaning) + ': ' + str(income_relationship) + '%'\n",
    "    return income_relationship\n",
    "\n",
    "income_list = ['A', 'B', 'C', 'D', 'E']\n",
    "\n",
    "for income in income_list:\n",
    "    print(income_count(income, 0))"
   ]
  },
  {
   "cell_type": "code",
   "execution_count": 204,
   "metadata": {},
   "outputs": [
    {
     "data": {
      "text/html": [
       "<div>\n",
       "<style scoped>\n",
       "    .dataframe tbody tr th:only-of-type {\n",
       "        vertical-align: middle;\n",
       "    }\n",
       "\n",
       "    .dataframe tbody tr th {\n",
       "        vertical-align: top;\n",
       "    }\n",
       "\n",
       "    .dataframe thead th {\n",
       "        text-align: right;\n",
       "    }\n",
       "</style>\n",
       "<table border=\"1\" class=\"dataframe\">\n",
       "  <thead>\n",
       "    <tr style=\"text-align: right;\">\n",
       "      <th></th>\n",
       "      <th>Вероятность невозврата в срок (%)</th>\n",
       "    </tr>\n",
       "    <tr>\n",
       "      <th>total_income_category</th>\n",
       "      <th></th>\n",
       "    </tr>\n",
       "  </thead>\n",
       "  <tbody>\n",
       "    <tr>\n",
       "      <td>D</td>\n",
       "      <td>6.0</td>\n",
       "    </tr>\n",
       "    <tr>\n",
       "      <td>B</td>\n",
       "      <td>7.1</td>\n",
       "    </tr>\n",
       "    <tr>\n",
       "      <td>A</td>\n",
       "      <td>8.0</td>\n",
       "    </tr>\n",
       "    <tr>\n",
       "      <td>C</td>\n",
       "      <td>8.5</td>\n",
       "    </tr>\n",
       "    <tr>\n",
       "      <td>E</td>\n",
       "      <td>9.1</td>\n",
       "    </tr>\n",
       "  </tbody>\n",
       "</table>\n",
       "</div>"
      ],
      "text/plain": [
       "                       Вероятность невозврата в срок (%)\n",
       "total_income_category                                   \n",
       "D                                                    6.0\n",
       "B                                                    7.1\n",
       "A                                                    8.0\n",
       "C                                                    8.5\n",
       "E                                                    9.1"
      ]
     },
     "metadata": {},
     "output_type": "display_data"
    }
   ],
   "source": [
    "# Строим сводную таблицу с вероятностью невозврата кредита в срок\n",
    "\n",
    "df_income = df.pivot_table(index=['total_income_category'], values='debt', aggfunc='mean').sort_values(by='debt')\n",
    "df_income['debt'] = round(df_income['debt'] * 100, 1)\n",
    "df_income = df_income.rename(\n",
    "            columns={\n",
    "                'debt': 'Вероятность невозврата в срок (%)',\n",
    "            }\n",
    ")\n",
    "\n",
    "\n",
    "display(df_income)"
   ]
  },
  {
   "cell_type": "markdown",
   "metadata": {},
   "source": [
    "**Вывод 3:**\n",
    "\n",
    "Отвечая на вопрос \"Есть ли зависимость между уровнем дохода и возвратом кредита в срок?\" можно сделать следующие выводы:\n",
    "\n",
    "* Люди с категорией дохода D (30001 - 50000) имеют самый низкий показатель невозврата в срок - 6.0%\n",
    "* Люди с категорией дохода E (0 - 30000) имеют самый высокий показатель невозврата в срок - 9.1%\n",
    "* Люди с категориями дохода C, A, B имеют средние уровни показателя невозврата в срок - 8.5, 8.0 и 7.1 процентов соответственно\n",
    "\n",
    "Таким образом можно сделать вывод, что заёмщики с категорией дохода D имеют самый низкий показатель невозврата, а люди с категорией E - наиболее высокий."
   ]
  },
  {
   "cell_type": "markdown",
   "metadata": {},
   "source": [
    "**Вопрос 4: Как разные цели кредита влияют на его возврат в срок?**"
   ]
  },
  {
   "cell_type": "code",
   "execution_count": 188,
   "metadata": {},
   "outputs": [
    {
     "name": "stdout",
     "output_type": "stream",
     "text": [
      "Процент добросовестных заёмщиков с категорией кредита операции с недвижимостью: 92.8%\n",
      "Процент добросовестных заёмщиков с категорией кредита операции с автомобилем: 90.6%\n",
      "Процент добросовестных заёмщиков с категорией кредита получение образования: 90.8%\n",
      "Процент добросовестных заёмщиков с категорией кредита проведение свадьбы: 92.0%\n"
     ]
    }
   ],
   "source": [
    "# Аналогичная функция для расчета процента добросовестных заемщиков по цели кредита\n",
    "\n",
    "def purpose_count(purpose_meaning, debt_number):\n",
    "    purpose_list = df.loc[df.loc[:,'purpose_category'] == purpose_meaning]\n",
    "    purpose_list_count_total = purpose_list.shape[0]\n",
    "    purpose_list = purpose_list.loc[purpose_list.loc[:,'debt'] == debt_number]\n",
    "    purpose_list_count = purpose_list.shape[0]\n",
    "    purpose_relationship = round((purpose_list_count / purpose_list_count_total * 100), 1)\n",
    "    purpose_relationship = 'Процент добросовестных заёмщиков с категорией кредита ' + str(purpose_meaning) + ': ' + str(purpose_relationship) + '%'\n",
    "    return purpose_relationship\n",
    "\n",
    "purpose_list = ['операции с недвижимостью', 'операции с автомобилем', 'получение образования', 'проведение свадьбы']\n",
    "\n",
    "for purpose in purpose_list:\n",
    "    print(purpose_count(purpose, 0))"
   ]
  },
  {
   "cell_type": "code",
   "execution_count": 203,
   "metadata": {},
   "outputs": [
    {
     "data": {
      "text/html": [
       "<div>\n",
       "<style scoped>\n",
       "    .dataframe tbody tr th:only-of-type {\n",
       "        vertical-align: middle;\n",
       "    }\n",
       "\n",
       "    .dataframe tbody tr th {\n",
       "        vertical-align: top;\n",
       "    }\n",
       "\n",
       "    .dataframe thead th {\n",
       "        text-align: right;\n",
       "    }\n",
       "</style>\n",
       "<table border=\"1\" class=\"dataframe\">\n",
       "  <thead>\n",
       "    <tr style=\"text-align: right;\">\n",
       "      <th></th>\n",
       "      <th>Вероятность невозврата в срок (%)</th>\n",
       "    </tr>\n",
       "    <tr>\n",
       "      <th>purpose_category</th>\n",
       "      <th></th>\n",
       "    </tr>\n",
       "  </thead>\n",
       "  <tbody>\n",
       "    <tr>\n",
       "      <td>операции с недвижимостью</td>\n",
       "      <td>7.2</td>\n",
       "    </tr>\n",
       "    <tr>\n",
       "      <td>проведение свадьбы</td>\n",
       "      <td>8.0</td>\n",
       "    </tr>\n",
       "    <tr>\n",
       "      <td>получение образования</td>\n",
       "      <td>9.2</td>\n",
       "    </tr>\n",
       "    <tr>\n",
       "      <td>операции с автомобилем</td>\n",
       "      <td>9.4</td>\n",
       "    </tr>\n",
       "  </tbody>\n",
       "</table>\n",
       "</div>"
      ],
      "text/plain": [
       "                          Вероятность невозврата в срок (%)\n",
       "purpose_category                                           \n",
       "операции с недвижимостью                                7.2\n",
       "проведение свадьбы                                      8.0\n",
       "получение образования                                   9.2\n",
       "операции с автомобилем                                  9.4"
      ]
     },
     "metadata": {},
     "output_type": "display_data"
    }
   ],
   "source": [
    "# Строим сводную таблицу с вероятностью невозврата кредита в срок\n",
    "\n",
    "df_income = df.pivot_table(index=['purpose_category'], values='debt', aggfunc='mean').sort_values(by='debt')\n",
    "df_income['debt'] = round(df_income['debt'] * 100, 1)\n",
    "df_income = df_income.rename(\n",
    "            columns={\n",
    "                'debt': 'Вероятность невозврата в срок (%)',\n",
    "            }\n",
    ")\n",
    "\n",
    "\n",
    "display(df_income)"
   ]
  },
  {
   "cell_type": "markdown",
   "metadata": {},
   "source": [
    "**Вывод 4:**\n",
    "\n",
    "Отвечая на вопрос \"Как разные цели кредита влияют на его возврат в срок?\" можно сделать следующие выводы:\n",
    "\n",
    "* Заёмщики с потребностью кредита на операции с недвижимостью имеют наименьший показатель невозврата - 7.2%\n",
    "* Заёмщики с потребностью кредита на проведение свадьбы имеют средний показатель невозврата - 8.0%\n",
    "* Заёмщики с потребностью кредита на операции с автомобилем и получением образования имеют наиболее высокие показатели невозврата - 9.4 и 9.2 процентов соответственно.\n",
    "\n",
    "Таким образом, люди с целью кредита на операции с недвижимостью имеют наименьший показатель невозврата, а люди, берующие кредит на операции с автомобилем и получением образования наибольший показатель невозврата."
   ]
  },
  {
   "cell_type": "markdown",
   "metadata": {},
   "source": [
    "<div style=\"border:solid red 2px; padding: 20px\"> \n",
    "    \n",
    "**Комментарий ревьюера**\n",
    "\n",
    "**#ошибка**\n",
    "\n",
    "Ты в целом считаешь верные проценты (хотя у банкиров больше принято оценивать вероятность невозврата - риск), но не самым оптимальным методом.\n",
    "    \n",
    "Получи, пожалуйста те же проценты только с помощью pivot_table. Не правильно для подобных задач использовать циклы, все должно быть выведено в таблицах. Соответственно для каждого вопроса нужно получить таблицу с двумя основными колонками (если надо можно дополнительные колонки вывести): категории и вероятность возврата/просрочки.\n",
    "    \n",
    "Также нужно сделать сортировку полученных значений и отформатировать их в виде процентов для лучшей считываемости\n",
    "</div>\n",
    "\n",
    "<div class=\"alert alert-info\">\n",
    "<b> Комментарий от студента - 2</b>\n",
    "    \n",
    "Замечание понял, исправил для каждого из пунктов. Вариант расчета с помощью функции не удалял, чтобы легче было вспомнить прошлую итерацию. Возникло несколько вопросов:\n",
    "1. Как добавить ко всем значениям столбца 'debt' знак %. Пытался преобразовать столбец в строку, а затем приклеить к нему знак процента. Но мне кажется, что это какой-то мамонтовский метод. Подскажи, может есть более лакончиный способ это сделать? И стоит ли вообще единицы измерения указывать непосредственно в значениях ячеек?\n",
    "2. Можно ли как-то переименовать первый столбец в получившейся таблице? Если к тому варианту, что я использовал для переименования столбца 'debt' добавить индексируемый столбец, то он не меняется. Может есть какая-то особенность о которой я не знаю?\n",
    "    \n",
    "\n",
    "Если критических замечаний не будет, то буду рад получить ответы на эти вопросы в желтой ячейке для запоминания и применения в будущем.\n",
    "</div>"
   ]
  },
  {
   "cell_type": "markdown",
   "metadata": {},
   "source": [
    "<div style=\"border:solid green 2px; padding: 20px\"> \n",
    "    \n",
    "**Комментарий ревьюера - 2**\n",
    "\n",
    "Теперь все верно\n",
    "\n",
    "1. Можно оставить как есть, подписть % в столбце вполне можно, но можно использовать `styling` https://pandas.pydata.org/pandas-docs/version/1.1/user_guide/style.html\n",
    "    \n",
    "\n",
    "2. Можно будет менять столбцы, если сделать reset_index. Сейчас первый столбец - это индекс\n",
    "    \n",
    "    df_income = df.pivot_table(index=['purpose_category'], values='debt', aggfunc='mean').sort_values(by='debt').reset_index()\n",
    "    \n",
    "Далее с таблицей можно работать как с простой линейной\n",
    "</div>"
   ]
  },
  {
   "cell_type": "markdown",
   "metadata": {},
   "source": [
    "# Общий вывод:"
   ]
  },
  {
   "cell_type": "markdown",
   "metadata": {},
   "source": [
    "В результате данной работы мы получили ответы на вопросы заказчика:\n",
    "* Есть ли зависимость между количеством детей и возвратом кредита в срок?\n",
    "* Есть ли зависимость между семейным положением и возвратом кредита в срок?\n",
    "* Есть ли зависимость между уровнем дохода и возвратом кредита в срок?\n",
    "* Как разные цели кредита влияют на его возврат в срок?\n",
    "\n",
    "Люди с разным количеством детей, различным семейным положением, уровенем дохода и целью кредита по-разному влияют на критерий \"возврат в срок\".\n",
    "* Люди с целью кредита на операции с недвижимостью имеют наибольший показатель возврата, а люди, берующие кредит на операции с автомобилем и получением образования наименьший показатель возврата.\n",
    "* Заёмщики с категорией дохода D имеют самый высокий показатель возврата, а люди с категорией E - наиболее низкий.\n",
    "* Наиболее добросовестными заёмщиками являются люди с семейным положением \"вдовец/вдова\" и \"в разводе\", а категория людей с семейным положением \"гражданский брак\" и \"не женат/не замужем\" имеют наиболее низкие показатели.\n",
    "* Люди без детей возвращают кредиты в срок с наибольшей долей вероятности, а люди с 4 и 20 детьми возвращают кредиты в срок с наиболее низкой долей вероятности."
   ]
  },
  {
   "cell_type": "markdown",
   "metadata": {},
   "source": [
    "<div class=\"alert alert-info\">\n",
    "<b> Комментарий от студента </b>\n",
    "    \n",
    "Большое спасибо, что потратили время на мою работу. Буду рад Вашим пожеланиям и замечаниям. Хорошего дня/вечера или даже ночи :)\n",
    "</div>"
   ]
  },
  {
   "cell_type": "markdown",
   "metadata": {},
   "source": [
    "<div style=\"border:solid green 2px; padding: 20px\"> \n",
    "\n",
    "**Общий комментарий по проекту**\n",
    "\n",
    "Ты отлично поработал над проектом, молодец. Ты сделал хороший самостоятельный анализ\n",
    "    \n",
    "Ты молодец, отлично справляешься с программой. \n",
    "    \n",
    "Поправь, пожалуйста небольшие неточности, чтобы я могла принять проект.\n",
    "\n",
    "Удачи!\n",
    "</div>\n",
    "\n",
    "<div class=\"alert alert-info\">\n",
    "<b> Комментарий от студента - 2 </b>\n",
    "    \n",
    "Большое спасибо за проверку проекта! Хорошего вечера/дня/ночи/утра :)\n",
    "</div>"
   ]
  }
 ],
 "metadata": {
  "ExecuteTimeLog": [
   {
    "duration": 634,
    "start_time": "2022-02-09T06:50:06.103Z"
   },
   {
    "duration": 4,
    "start_time": "2022-02-09T06:50:20.097Z"
   },
   {
    "duration": 3,
    "start_time": "2022-02-09T06:51:23.067Z"
   },
   {
    "duration": 50,
    "start_time": "2022-02-09T06:51:23.426Z"
   },
   {
    "duration": 47,
    "start_time": "2022-02-09T06:51:30.340Z"
   },
   {
    "duration": 25,
    "start_time": "2022-02-09T06:52:25.479Z"
   },
   {
    "duration": 14,
    "start_time": "2022-02-09T06:52:32.013Z"
   },
   {
    "duration": 14,
    "start_time": "2022-02-09T06:52:47.305Z"
   },
   {
    "duration": 13,
    "start_time": "2022-02-09T06:54:38.389Z"
   },
   {
    "duration": 12,
    "start_time": "2022-02-09T06:55:25.076Z"
   },
   {
    "duration": 2,
    "start_time": "2022-02-09T06:55:26.956Z"
   },
   {
    "duration": 47,
    "start_time": "2022-02-09T06:55:27.300Z"
   },
   {
    "duration": 13,
    "start_time": "2022-02-09T06:55:27.643Z"
   },
   {
    "duration": 12,
    "start_time": "2022-02-09T06:55:28.516Z"
   },
   {
    "duration": 334,
    "start_time": "2022-02-09T06:56:55.253Z"
   },
   {
    "duration": 11,
    "start_time": "2022-02-09T06:57:00.284Z"
   },
   {
    "duration": 3,
    "start_time": "2022-02-09T06:57:11.483Z"
   },
   {
    "duration": 48,
    "start_time": "2022-02-09T06:57:11.804Z"
   },
   {
    "duration": 15,
    "start_time": "2022-02-09T06:57:12.132Z"
   },
   {
    "duration": 12,
    "start_time": "2022-02-09T06:57:14.068Z"
   },
   {
    "duration": 13,
    "start_time": "2022-02-09T07:19:51.329Z"
   },
   {
    "duration": 12,
    "start_time": "2022-02-09T07:26:02.593Z"
   },
   {
    "duration": 15,
    "start_time": "2022-02-09T07:27:56.257Z"
   },
   {
    "duration": 237,
    "start_time": "2022-02-09T07:30:43.246Z"
   },
   {
    "duration": 8,
    "start_time": "2022-02-09T07:30:48.490Z"
   },
   {
    "duration": 6,
    "start_time": "2022-02-09T07:36:25.283Z"
   },
   {
    "duration": 14,
    "start_time": "2022-02-09T07:39:13.421Z"
   },
   {
    "duration": 6,
    "start_time": "2022-02-09T07:42:22.708Z"
   },
   {
    "duration": 7,
    "start_time": "2022-02-09T07:42:51.756Z"
   },
   {
    "duration": 7520,
    "start_time": "2022-02-09T07:43:30.276Z"
   },
   {
    "duration": 336,
    "start_time": "2022-02-09T07:43:40.997Z"
   },
   {
    "duration": 8,
    "start_time": "2022-02-09T07:44:49.221Z"
   },
   {
    "duration": 8,
    "start_time": "2022-02-09T07:45:40.390Z"
   },
   {
    "duration": 8,
    "start_time": "2022-02-09T07:45:56.165Z"
   },
   {
    "duration": 8,
    "start_time": "2022-02-09T07:46:12.788Z"
   },
   {
    "duration": 8,
    "start_time": "2022-02-09T07:47:45.549Z"
   },
   {
    "duration": 10,
    "start_time": "2022-02-09T07:47:51.142Z"
   },
   {
    "duration": 7,
    "start_time": "2022-02-09T07:47:54.326Z"
   },
   {
    "duration": 8,
    "start_time": "2022-02-09T07:47:57.405Z"
   },
   {
    "duration": 8,
    "start_time": "2022-02-09T07:48:25.822Z"
   },
   {
    "duration": 4,
    "start_time": "2022-02-09T08:49:55.809Z"
   },
   {
    "duration": 5,
    "start_time": "2022-02-09T08:50:01.059Z"
   },
   {
    "duration": 23,
    "start_time": "2022-02-09T08:51:50.618Z"
   },
   {
    "duration": 13,
    "start_time": "2022-02-09T08:51:58.557Z"
   },
   {
    "duration": 7,
    "start_time": "2022-02-09T08:55:05.986Z"
   },
   {
    "duration": 3,
    "start_time": "2022-02-09T10:13:03.498Z"
   },
   {
    "duration": 6,
    "start_time": "2022-02-09T10:14:04.590Z"
   },
   {
    "duration": 6,
    "start_time": "2022-02-09T10:14:10.480Z"
   },
   {
    "duration": 7,
    "start_time": "2022-02-09T10:14:22.384Z"
   },
   {
    "duration": 1706,
    "start_time": "2022-02-09T10:21:33.274Z"
   },
   {
    "duration": 3350,
    "start_time": "2022-02-09T10:21:41.748Z"
   },
   {
    "duration": 1711,
    "start_time": "2022-02-09T10:22:05.255Z"
   },
   {
    "duration": 3609,
    "start_time": "2022-02-09T10:22:33.261Z"
   },
   {
    "duration": 3709,
    "start_time": "2022-02-09T10:23:13.893Z"
   },
   {
    "duration": 3330,
    "start_time": "2022-02-09T10:23:26.038Z"
   },
   {
    "duration": 4096,
    "start_time": "2022-02-09T10:23:55.445Z"
   },
   {
    "duration": 3584,
    "start_time": "2022-02-09T10:24:13.868Z"
   },
   {
    "duration": 3973,
    "start_time": "2022-02-09T10:24:29.109Z"
   },
   {
    "duration": 3,
    "start_time": "2022-02-09T10:24:41.396Z"
   },
   {
    "duration": 49,
    "start_time": "2022-02-09T10:24:42.282Z"
   },
   {
    "duration": 14,
    "start_time": "2022-02-09T10:24:42.459Z"
   },
   {
    "duration": 12,
    "start_time": "2022-02-09T10:24:43.061Z"
   },
   {
    "duration": 10,
    "start_time": "2022-02-09T10:24:45.477Z"
   },
   {
    "duration": 16,
    "start_time": "2022-02-09T10:24:46.148Z"
   },
   {
    "duration": 7,
    "start_time": "2022-02-09T10:24:48.828Z"
   },
   {
    "duration": 6,
    "start_time": "2022-02-09T10:24:50.197Z"
   },
   {
    "duration": 3824,
    "start_time": "2022-02-09T10:25:06.839Z"
   },
   {
    "duration": 4149,
    "start_time": "2022-02-09T10:25:21.655Z"
   },
   {
    "duration": 3631,
    "start_time": "2022-02-09T10:25:53.213Z"
   },
   {
    "duration": 1699,
    "start_time": "2022-02-09T10:26:02.023Z"
   },
   {
    "duration": 4227,
    "start_time": "2022-02-09T10:26:16.295Z"
   },
   {
    "duration": 3,
    "start_time": "2022-02-09T10:26:28.013Z"
   },
   {
    "duration": 48,
    "start_time": "2022-02-09T10:26:28.250Z"
   },
   {
    "duration": 14,
    "start_time": "2022-02-09T10:26:28.445Z"
   },
   {
    "duration": 12,
    "start_time": "2022-02-09T10:26:28.646Z"
   },
   {
    "duration": 11,
    "start_time": "2022-02-09T10:26:29.540Z"
   },
   {
    "duration": 16,
    "start_time": "2022-02-09T10:26:29.762Z"
   },
   {
    "duration": 8,
    "start_time": "2022-02-09T10:26:30.489Z"
   },
   {
    "duration": 6,
    "start_time": "2022-02-09T10:26:32.221Z"
   },
   {
    "duration": 7,
    "start_time": "2022-02-09T10:26:53.397Z"
   },
   {
    "duration": 7,
    "start_time": "2022-02-09T10:27:13.693Z"
   },
   {
    "duration": 3577,
    "start_time": "2022-02-09T10:27:19.989Z"
   },
   {
    "duration": 3,
    "start_time": "2022-02-09T10:27:43.997Z"
   },
   {
    "duration": 50,
    "start_time": "2022-02-09T10:27:44.221Z"
   },
   {
    "duration": 14,
    "start_time": "2022-02-09T10:27:44.405Z"
   },
   {
    "duration": 13,
    "start_time": "2022-02-09T10:27:44.565Z"
   },
   {
    "duration": 17,
    "start_time": "2022-02-09T10:27:45.204Z"
   },
   {
    "duration": 23,
    "start_time": "2022-02-09T10:27:45.381Z"
   },
   {
    "duration": 10,
    "start_time": "2022-02-09T10:27:46.423Z"
   },
   {
    "duration": 5178,
    "start_time": "2022-02-09T10:27:47.501Z"
   },
   {
    "duration": 3406,
    "start_time": "2022-02-09T10:27:57.829Z"
   },
   {
    "duration": 3217,
    "start_time": "2022-02-09T10:28:27.069Z"
   },
   {
    "duration": 3704,
    "start_time": "2022-02-09T10:28:52.398Z"
   },
   {
    "duration": 3370,
    "start_time": "2022-02-09T10:29:01.280Z"
   },
   {
    "duration": 3,
    "start_time": "2022-02-09T10:29:15.892Z"
   },
   {
    "duration": 55,
    "start_time": "2022-02-09T10:29:15.898Z"
   },
   {
    "duration": 14,
    "start_time": "2022-02-09T10:29:15.956Z"
   },
   {
    "duration": 19,
    "start_time": "2022-02-09T10:29:15.973Z"
   },
   {
    "duration": 19,
    "start_time": "2022-02-09T10:29:15.995Z"
   },
   {
    "duration": 22,
    "start_time": "2022-02-09T10:29:16.016Z"
   },
   {
    "duration": 10,
    "start_time": "2022-02-09T10:29:16.040Z"
   },
   {
    "duration": 19,
    "start_time": "2022-02-09T10:29:17.933Z"
   },
   {
    "duration": 3980,
    "start_time": "2022-02-09T10:33:12.408Z"
   },
   {
    "duration": 2,
    "start_time": "2022-02-09T10:33:33.303Z"
   },
   {
    "duration": 53,
    "start_time": "2022-02-09T10:33:33.307Z"
   },
   {
    "duration": 14,
    "start_time": "2022-02-09T10:33:33.362Z"
   },
   {
    "duration": 29,
    "start_time": "2022-02-09T10:33:33.378Z"
   },
   {
    "duration": 11,
    "start_time": "2022-02-09T10:33:33.409Z"
   },
   {
    "duration": 17,
    "start_time": "2022-02-09T10:33:33.422Z"
   },
   {
    "duration": 7,
    "start_time": "2022-02-09T10:33:33.441Z"
   },
   {
    "duration": 3521,
    "start_time": "2022-02-09T10:33:35.081Z"
   },
   {
    "duration": 4547,
    "start_time": "2022-02-09T10:34:56.847Z"
   },
   {
    "duration": 3,
    "start_time": "2022-02-09T10:35:01.560Z"
   },
   {
    "duration": 68,
    "start_time": "2022-02-09T10:35:01.565Z"
   },
   {
    "duration": 15,
    "start_time": "2022-02-09T10:35:01.636Z"
   },
   {
    "duration": 22,
    "start_time": "2022-02-09T10:35:01.653Z"
   },
   {
    "duration": 71,
    "start_time": "2022-02-09T10:35:01.678Z"
   },
   {
    "duration": 54,
    "start_time": "2022-02-09T10:35:01.751Z"
   },
   {
    "duration": 32,
    "start_time": "2022-02-09T10:35:01.808Z"
   },
   {
    "duration": 6,
    "start_time": "2022-02-09T10:35:03.798Z"
   },
   {
    "duration": 9,
    "start_time": "2022-02-09T10:35:38.007Z"
   },
   {
    "duration": 4178,
    "start_time": "2022-02-09T10:35:50.319Z"
   },
   {
    "duration": 3901,
    "start_time": "2022-02-09T10:35:57.792Z"
   },
   {
    "duration": 2,
    "start_time": "2022-02-09T10:36:07.375Z"
   },
   {
    "duration": 64,
    "start_time": "2022-02-09T10:36:07.380Z"
   },
   {
    "duration": 14,
    "start_time": "2022-02-09T10:36:07.447Z"
   },
   {
    "duration": 19,
    "start_time": "2022-02-09T10:36:07.463Z"
   },
   {
    "duration": 21,
    "start_time": "2022-02-09T10:36:07.507Z"
   },
   {
    "duration": 20,
    "start_time": "2022-02-09T10:36:07.530Z"
   },
   {
    "duration": 7,
    "start_time": "2022-02-09T10:36:07.552Z"
   },
   {
    "duration": 22,
    "start_time": "2022-02-09T10:36:09.234Z"
   },
   {
    "duration": 23,
    "start_time": "2022-02-09T10:36:30.711Z"
   },
   {
    "duration": 36,
    "start_time": "2022-02-09T10:36:43.052Z"
   },
   {
    "duration": 33,
    "start_time": "2022-02-09T10:37:47.992Z"
   },
   {
    "duration": 3,
    "start_time": "2022-02-09T10:37:54.226Z"
   },
   {
    "duration": 62,
    "start_time": "2022-02-09T10:37:54.231Z"
   },
   {
    "duration": 13,
    "start_time": "2022-02-09T10:37:54.295Z"
   },
   {
    "duration": 22,
    "start_time": "2022-02-09T10:37:54.310Z"
   },
   {
    "duration": 18,
    "start_time": "2022-02-09T10:37:54.334Z"
   },
   {
    "duration": 21,
    "start_time": "2022-02-09T10:37:54.354Z"
   },
   {
    "duration": 8,
    "start_time": "2022-02-09T10:37:54.377Z"
   },
   {
    "duration": 34,
    "start_time": "2022-02-09T10:37:55.752Z"
   },
   {
    "duration": 50,
    "start_time": "2022-02-09T10:38:18.963Z"
   },
   {
    "duration": 323,
    "start_time": "2022-02-09T10:38:29.936Z"
   },
   {
    "duration": 3,
    "start_time": "2022-02-09T10:38:41.172Z"
   },
   {
    "duration": 53,
    "start_time": "2022-02-09T10:38:41.177Z"
   },
   {
    "duration": 14,
    "start_time": "2022-02-09T10:38:41.232Z"
   },
   {
    "duration": 17,
    "start_time": "2022-02-09T10:38:41.248Z"
   },
   {
    "duration": 10,
    "start_time": "2022-02-09T10:38:41.267Z"
   },
   {
    "duration": 38,
    "start_time": "2022-02-09T10:38:41.279Z"
   },
   {
    "duration": 8,
    "start_time": "2022-02-09T10:38:41.320Z"
   },
   {
    "duration": 30,
    "start_time": "2022-02-09T10:38:42.471Z"
   },
   {
    "duration": 8,
    "start_time": "2022-02-09T10:43:17.361Z"
   },
   {
    "duration": 8,
    "start_time": "2022-02-09T10:43:26.688Z"
   },
   {
    "duration": 3,
    "start_time": "2022-02-09T10:44:05.376Z"
   },
   {
    "duration": 12,
    "start_time": "2022-02-09T10:44:11.480Z"
   },
   {
    "duration": 8,
    "start_time": "2022-02-09T10:44:27.617Z"
   },
   {
    "duration": 11,
    "start_time": "2022-02-09T10:44:29.947Z"
   },
   {
    "duration": 13,
    "start_time": "2022-02-09T10:44:46.001Z"
   },
   {
    "duration": 12,
    "start_time": "2022-02-09T10:44:50.160Z"
   },
   {
    "duration": 16,
    "start_time": "2022-02-09T11:04:42.685Z"
   },
   {
    "duration": 13,
    "start_time": "2022-02-09T11:14:27.974Z"
   },
   {
    "duration": 37,
    "start_time": "2022-02-09T11:14:34.455Z"
   },
   {
    "duration": 19,
    "start_time": "2022-02-09T11:14:40.699Z"
   },
   {
    "duration": 19,
    "start_time": "2022-02-09T11:16:10.698Z"
   },
   {
    "duration": 24,
    "start_time": "2022-02-09T11:16:52.481Z"
   },
   {
    "duration": 19,
    "start_time": "2022-02-09T11:18:33.892Z"
   },
   {
    "duration": 18,
    "start_time": "2022-02-09T11:19:00.886Z"
   },
   {
    "duration": 5,
    "start_time": "2022-02-09T11:21:37.711Z"
   },
   {
    "duration": 11,
    "start_time": "2022-02-09T11:22:17.307Z"
   },
   {
    "duration": 10,
    "start_time": "2022-02-09T11:22:22.483Z"
   },
   {
    "duration": 16,
    "start_time": "2022-02-09T11:27:08.498Z"
   },
   {
    "duration": 8,
    "start_time": "2022-02-09T11:27:20.535Z"
   },
   {
    "duration": 88,
    "start_time": "2022-02-09T11:27:43.400Z"
   },
   {
    "duration": 25,
    "start_time": "2022-02-09T11:27:45.954Z"
   },
   {
    "duration": 6,
    "start_time": "2022-02-09T11:34:08.066Z"
   },
   {
    "duration": 6,
    "start_time": "2022-02-09T11:34:18.785Z"
   },
   {
    "duration": 11,
    "start_time": "2022-02-09T11:35:10.978Z"
   },
   {
    "duration": 10,
    "start_time": "2022-02-09T11:35:27.754Z"
   },
   {
    "duration": 3,
    "start_time": "2022-02-09T11:35:32.091Z"
   },
   {
    "duration": 64,
    "start_time": "2022-02-09T11:35:32.096Z"
   },
   {
    "duration": 15,
    "start_time": "2022-02-09T11:35:32.164Z"
   },
   {
    "duration": 17,
    "start_time": "2022-02-09T11:35:32.181Z"
   },
   {
    "duration": 22,
    "start_time": "2022-02-09T11:35:32.200Z"
   },
   {
    "duration": 24,
    "start_time": "2022-02-09T11:35:32.224Z"
   },
   {
    "duration": 15,
    "start_time": "2022-02-09T11:35:32.251Z"
   },
   {
    "duration": 12,
    "start_time": "2022-02-09T11:35:32.268Z"
   },
   {
    "duration": 30,
    "start_time": "2022-02-09T11:35:32.284Z"
   },
   {
    "duration": 20,
    "start_time": "2022-02-09T11:35:32.316Z"
   },
   {
    "duration": 22,
    "start_time": "2022-02-09T11:35:32.338Z"
   },
   {
    "duration": 17,
    "start_time": "2022-02-09T11:35:32.362Z"
   },
   {
    "duration": 39,
    "start_time": "2022-02-09T11:35:32.381Z"
   },
   {
    "duration": 42,
    "start_time": "2022-02-09T11:35:32.422Z"
   },
   {
    "duration": 13,
    "start_time": "2022-02-09T11:35:37.461Z"
   },
   {
    "duration": 24,
    "start_time": "2022-02-09T11:35:41.449Z"
   },
   {
    "duration": 6,
    "start_time": "2022-02-09T11:36:05.298Z"
   },
   {
    "duration": 10,
    "start_time": "2022-02-09T11:36:06.242Z"
   },
   {
    "duration": 8,
    "start_time": "2022-02-09T11:37:18.699Z"
   },
   {
    "duration": 25,
    "start_time": "2022-02-09T11:39:02.795Z"
   },
   {
    "duration": 7,
    "start_time": "2022-02-09T11:39:18.284Z"
   },
   {
    "duration": 25,
    "start_time": "2022-02-09T11:40:08.163Z"
   },
   {
    "duration": 8,
    "start_time": "2022-02-09T11:40:35.604Z"
   },
   {
    "duration": 9,
    "start_time": "2022-02-09T11:40:43.483Z"
   },
   {
    "duration": 23,
    "start_time": "2022-02-09T11:40:52.834Z"
   },
   {
    "duration": 7,
    "start_time": "2022-02-09T11:42:26.619Z"
   },
   {
    "duration": 7,
    "start_time": "2022-02-09T11:44:27.451Z"
   },
   {
    "duration": 9,
    "start_time": "2022-02-09T11:44:31.828Z"
   },
   {
    "duration": 7,
    "start_time": "2022-02-09T11:44:38.252Z"
   },
   {
    "duration": 7,
    "start_time": "2022-02-09T11:44:43.418Z"
   },
   {
    "duration": 24,
    "start_time": "2022-02-09T11:50:08.845Z"
   },
   {
    "duration": 25,
    "start_time": "2022-02-09T11:50:20.624Z"
   },
   {
    "duration": 22,
    "start_time": "2022-02-09T11:50:44.302Z"
   },
   {
    "duration": 25,
    "start_time": "2022-02-09T11:50:47.989Z"
   },
   {
    "duration": 10,
    "start_time": "2022-02-09T11:51:20.677Z"
   },
   {
    "duration": 2,
    "start_time": "2022-02-09T11:51:33.833Z"
   },
   {
    "duration": 71,
    "start_time": "2022-02-09T11:51:33.842Z"
   },
   {
    "duration": 15,
    "start_time": "2022-02-09T11:51:33.915Z"
   },
   {
    "duration": 19,
    "start_time": "2022-02-09T11:51:33.932Z"
   },
   {
    "duration": 11,
    "start_time": "2022-02-09T11:51:33.953Z"
   },
   {
    "duration": 17,
    "start_time": "2022-02-09T11:51:33.965Z"
   },
   {
    "duration": 29,
    "start_time": "2022-02-09T11:51:33.985Z"
   },
   {
    "duration": 8,
    "start_time": "2022-02-09T11:51:34.016Z"
   },
   {
    "duration": 12,
    "start_time": "2022-02-09T11:51:34.026Z"
   },
   {
    "duration": 22,
    "start_time": "2022-02-09T11:51:34.041Z"
   },
   {
    "duration": 50,
    "start_time": "2022-02-09T11:51:34.065Z"
   },
   {
    "duration": 17,
    "start_time": "2022-02-09T11:51:34.117Z"
   },
   {
    "duration": 19,
    "start_time": "2022-02-09T11:51:34.137Z"
   },
   {
    "duration": 16,
    "start_time": "2022-02-09T11:51:34.158Z"
   },
   {
    "duration": 10,
    "start_time": "2022-02-09T11:51:34.208Z"
   },
   {
    "duration": 25,
    "start_time": "2022-02-09T11:51:34.220Z"
   },
   {
    "duration": 6,
    "start_time": "2022-02-09T11:51:34.248Z"
   },
   {
    "duration": 14,
    "start_time": "2022-02-09T11:51:34.256Z"
   },
   {
    "duration": 37,
    "start_time": "2022-02-09T11:51:34.272Z"
   },
   {
    "duration": 24,
    "start_time": "2022-02-09T11:51:34.311Z"
   },
   {
    "duration": 16,
    "start_time": "2022-02-09T11:51:34.337Z"
   },
   {
    "duration": 23,
    "start_time": "2022-02-09T11:51:38.985Z"
   },
   {
    "duration": 25,
    "start_time": "2022-02-09T11:51:42.131Z"
   },
   {
    "duration": 27,
    "start_time": "2022-02-09T11:52:44.757Z"
   },
   {
    "duration": 26,
    "start_time": "2022-02-09T11:53:03.465Z"
   },
   {
    "duration": 7,
    "start_time": "2022-02-09T11:53:46.541Z"
   },
   {
    "duration": 10,
    "start_time": "2022-02-09T11:53:59.187Z"
   },
   {
    "duration": 29,
    "start_time": "2022-02-09T12:31:14.230Z"
   },
   {
    "duration": 18,
    "start_time": "2022-02-09T12:31:18.022Z"
   },
   {
    "duration": 7,
    "start_time": "2022-02-09T12:35:40.742Z"
   },
   {
    "duration": 6,
    "start_time": "2022-02-09T12:38:15.079Z"
   },
   {
    "duration": 1760,
    "start_time": "2022-02-09T12:38:41.695Z"
   },
   {
    "duration": 22,
    "start_time": "2022-02-09T12:39:42.839Z"
   },
   {
    "duration": 22,
    "start_time": "2022-02-09T12:41:08.295Z"
   },
   {
    "duration": 22,
    "start_time": "2022-02-09T12:41:31.859Z"
   },
   {
    "duration": 5,
    "start_time": "2022-02-09T12:44:30.496Z"
   },
   {
    "duration": 7,
    "start_time": "2022-02-09T12:49:07.321Z"
   },
   {
    "duration": 21,
    "start_time": "2022-02-09T12:51:00.641Z"
   },
   {
    "duration": 6,
    "start_time": "2022-02-09T12:54:04.001Z"
   },
   {
    "duration": 9,
    "start_time": "2022-02-09T12:55:13.427Z"
   },
   {
    "duration": 157,
    "start_time": "2022-02-09T12:58:19.100Z"
   },
   {
    "duration": 18,
    "start_time": "2022-02-09T12:59:24.676Z"
   },
   {
    "duration": 8,
    "start_time": "2022-02-09T13:01:33.064Z"
   },
   {
    "duration": 6,
    "start_time": "2022-02-09T13:05:47.904Z"
   },
   {
    "duration": 3,
    "start_time": "2022-02-09T13:09:48.237Z"
   },
   {
    "duration": 5,
    "start_time": "2022-02-09T13:10:25.130Z"
   },
   {
    "duration": 7,
    "start_time": "2022-02-09T13:11:54.533Z"
   },
   {
    "duration": 5,
    "start_time": "2022-02-09T13:39:36.915Z"
   },
   {
    "duration": 5,
    "start_time": "2022-02-09T13:39:42.426Z"
   },
   {
    "duration": 7,
    "start_time": "2022-02-09T13:39:51.105Z"
   },
   {
    "duration": 4,
    "start_time": "2022-02-09T13:39:54.561Z"
   },
   {
    "duration": 5,
    "start_time": "2022-02-09T13:40:17.337Z"
   },
   {
    "duration": 5,
    "start_time": "2022-02-09T13:42:17.465Z"
   },
   {
    "duration": 5,
    "start_time": "2022-02-09T13:42:40.772Z"
   },
   {
    "duration": 4,
    "start_time": "2022-02-09T13:42:47.738Z"
   },
   {
    "duration": 5,
    "start_time": "2022-02-09T13:43:07.577Z"
   },
   {
    "duration": 85,
    "start_time": "2022-02-09T13:45:07.628Z"
   },
   {
    "duration": 27,
    "start_time": "2022-02-09T13:45:18.797Z"
   },
   {
    "duration": 13,
    "start_time": "2022-02-09T13:45:40.490Z"
   },
   {
    "duration": 8,
    "start_time": "2022-02-09T13:46:45.170Z"
   },
   {
    "duration": 21,
    "start_time": "2022-02-09T13:47:01.682Z"
   },
   {
    "duration": 19,
    "start_time": "2022-02-09T13:47:11.347Z"
   },
   {
    "duration": 13,
    "start_time": "2022-02-09T13:53:09.642Z"
   },
   {
    "duration": 11,
    "start_time": "2022-02-09T13:54:20.899Z"
   },
   {
    "duration": 19,
    "start_time": "2022-02-09T13:54:21.602Z"
   },
   {
    "duration": 13,
    "start_time": "2022-02-09T14:18:31.915Z"
   },
   {
    "duration": 20,
    "start_time": "2022-02-09T14:18:32.534Z"
   },
   {
    "duration": 308,
    "start_time": "2022-02-09T14:21:23.707Z"
   },
   {
    "duration": 331,
    "start_time": "2022-02-09T14:21:31.507Z"
   },
   {
    "duration": 3,
    "start_time": "2022-02-09T14:21:40.549Z"
   },
   {
    "duration": 52,
    "start_time": "2022-02-09T14:21:40.554Z"
   },
   {
    "duration": 14,
    "start_time": "2022-02-09T14:21:40.609Z"
   },
   {
    "duration": 16,
    "start_time": "2022-02-09T14:21:40.625Z"
   },
   {
    "duration": 41,
    "start_time": "2022-02-09T14:21:40.643Z"
   },
   {
    "duration": 18,
    "start_time": "2022-02-09T14:21:40.686Z"
   },
   {
    "duration": 10,
    "start_time": "2022-02-09T14:21:40.707Z"
   },
   {
    "duration": 18,
    "start_time": "2022-02-09T14:21:40.721Z"
   },
   {
    "duration": 21,
    "start_time": "2022-02-09T14:21:40.742Z"
   },
   {
    "duration": 46,
    "start_time": "2022-02-09T14:21:40.766Z"
   },
   {
    "duration": 18,
    "start_time": "2022-02-09T14:21:40.814Z"
   },
   {
    "duration": 17,
    "start_time": "2022-02-09T14:21:40.834Z"
   },
   {
    "duration": 19,
    "start_time": "2022-02-09T14:21:40.854Z"
   },
   {
    "duration": 46,
    "start_time": "2022-02-09T14:21:40.876Z"
   },
   {
    "duration": 11,
    "start_time": "2022-02-09T14:21:40.925Z"
   },
   {
    "duration": 34,
    "start_time": "2022-02-09T14:21:40.939Z"
   },
   {
    "duration": 33,
    "start_time": "2022-02-09T14:21:40.976Z"
   },
   {
    "duration": 19,
    "start_time": "2022-02-09T14:21:41.011Z"
   },
   {
    "duration": 9,
    "start_time": "2022-02-09T14:21:41.032Z"
   },
   {
    "duration": 34,
    "start_time": "2022-02-09T14:21:41.043Z"
   },
   {
    "duration": 32,
    "start_time": "2022-02-09T14:21:41.080Z"
   },
   {
    "duration": 39,
    "start_time": "2022-02-09T14:21:41.114Z"
   },
   {
    "duration": 10,
    "start_time": "2022-02-09T14:21:41.156Z"
   },
   {
    "duration": 21,
    "start_time": "2022-02-09T14:21:41.169Z"
   },
   {
    "duration": 33,
    "start_time": "2022-02-09T14:21:41.193Z"
   },
   {
    "duration": 9,
    "start_time": "2022-02-09T14:21:41.228Z"
   },
   {
    "duration": 13,
    "start_time": "2022-02-09T14:21:41.240Z"
   },
   {
    "duration": 37,
    "start_time": "2022-02-09T14:21:41.256Z"
   },
   {
    "duration": 8,
    "start_time": "2022-02-09T14:21:41.308Z"
   },
   {
    "duration": 18,
    "start_time": "2022-02-09T14:21:41.318Z"
   },
   {
    "duration": 24,
    "start_time": "2022-02-09T14:21:41.338Z"
   },
   {
    "duration": 16,
    "start_time": "2022-02-09T14:21:41.365Z"
   },
   {
    "duration": 27,
    "start_time": "2022-02-09T14:21:41.384Z"
   },
   {
    "duration": 5,
    "start_time": "2022-02-09T14:21:41.412Z"
   },
   {
    "duration": 34,
    "start_time": "2022-02-09T14:21:41.419Z"
   },
   {
    "duration": 1904,
    "start_time": "2022-02-09T14:21:43.699Z"
   },
   {
    "duration": 5,
    "start_time": "2022-02-09T14:22:16.036Z"
   },
   {
    "duration": 7,
    "start_time": "2022-02-09T14:22:20.085Z"
   },
   {
    "duration": 2027,
    "start_time": "2022-02-09T14:22:50.156Z"
   },
   {
    "duration": 12,
    "start_time": "2022-02-09T14:23:08.302Z"
   },
   {
    "duration": 27,
    "start_time": "2022-02-09T14:23:44.732Z"
   },
   {
    "duration": 20,
    "start_time": "2022-02-09T14:26:05.603Z"
   },
   {
    "duration": 16,
    "start_time": "2022-02-09T14:26:28.319Z"
   },
   {
    "duration": 3,
    "start_time": "2022-02-09T14:27:53.235Z"
   },
   {
    "duration": 59,
    "start_time": "2022-02-09T14:27:53.240Z"
   },
   {
    "duration": 14,
    "start_time": "2022-02-09T14:27:53.301Z"
   },
   {
    "duration": 14,
    "start_time": "2022-02-09T14:27:53.317Z"
   },
   {
    "duration": 14,
    "start_time": "2022-02-09T14:27:53.333Z"
   },
   {
    "duration": 17,
    "start_time": "2022-02-09T14:27:53.349Z"
   },
   {
    "duration": 8,
    "start_time": "2022-02-09T14:27:53.369Z"
   },
   {
    "duration": 33,
    "start_time": "2022-02-09T14:27:53.380Z"
   },
   {
    "duration": 21,
    "start_time": "2022-02-09T14:27:53.415Z"
   },
   {
    "duration": 17,
    "start_time": "2022-02-09T14:27:53.438Z"
   },
   {
    "duration": 16,
    "start_time": "2022-02-09T14:27:53.457Z"
   },
   {
    "duration": 42,
    "start_time": "2022-02-09T14:27:53.475Z"
   },
   {
    "duration": 20,
    "start_time": "2022-02-09T14:27:53.519Z"
   },
   {
    "duration": 18,
    "start_time": "2022-02-09T14:27:53.541Z"
   },
   {
    "duration": 10,
    "start_time": "2022-02-09T14:27:53.562Z"
   },
   {
    "duration": 54,
    "start_time": "2022-02-09T14:27:53.574Z"
   },
   {
    "duration": 8,
    "start_time": "2022-02-09T14:27:53.629Z"
   },
   {
    "duration": 15,
    "start_time": "2022-02-09T14:27:53.639Z"
   },
   {
    "duration": 8,
    "start_time": "2022-02-09T14:27:53.657Z"
   },
   {
    "duration": 52,
    "start_time": "2022-02-09T14:27:53.668Z"
   },
   {
    "duration": 11,
    "start_time": "2022-02-09T14:27:53.722Z"
   },
   {
    "duration": 28,
    "start_time": "2022-02-09T14:27:53.735Z"
   },
   {
    "duration": 8,
    "start_time": "2022-02-09T14:27:53.765Z"
   },
   {
    "duration": 35,
    "start_time": "2022-02-09T14:27:53.775Z"
   },
   {
    "duration": 24,
    "start_time": "2022-02-09T14:27:53.812Z"
   },
   {
    "duration": 7,
    "start_time": "2022-02-09T14:27:53.838Z"
   },
   {
    "duration": 14,
    "start_time": "2022-02-09T14:27:53.847Z"
   },
   {
    "duration": 25,
    "start_time": "2022-02-09T14:27:53.863Z"
   },
   {
    "duration": 18,
    "start_time": "2022-02-09T14:27:53.890Z"
   },
   {
    "duration": 18,
    "start_time": "2022-02-09T14:27:53.910Z"
   },
   {
    "duration": 23,
    "start_time": "2022-02-09T14:27:53.930Z"
   },
   {
    "duration": 16,
    "start_time": "2022-02-09T14:27:53.955Z"
   },
   {
    "duration": 10,
    "start_time": "2022-02-09T14:27:53.974Z"
   },
   {
    "duration": 15,
    "start_time": "2022-02-09T14:27:53.986Z"
   },
   {
    "duration": 13,
    "start_time": "2022-02-09T14:27:54.003Z"
   },
   {
    "duration": 28,
    "start_time": "2022-02-09T14:27:56.691Z"
   },
   {
    "duration": 14,
    "start_time": "2022-02-09T14:27:59.051Z"
   },
   {
    "duration": 13,
    "start_time": "2022-02-09T14:28:05.459Z"
   },
   {
    "duration": 25,
    "start_time": "2022-02-09T14:28:06.044Z"
   },
   {
    "duration": 13,
    "start_time": "2022-02-09T14:29:19.811Z"
   },
   {
    "duration": 19,
    "start_time": "2022-02-09T14:29:20.420Z"
   },
   {
    "duration": 12,
    "start_time": "2022-02-09T14:29:33.323Z"
   },
   {
    "duration": 20,
    "start_time": "2022-02-09T14:29:33.731Z"
   },
   {
    "duration": 17,
    "start_time": "2022-02-09T14:29:47.155Z"
   },
   {
    "duration": 17,
    "start_time": "2022-02-09T14:29:55.397Z"
   },
   {
    "duration": 6,
    "start_time": "2022-02-09T14:53:33.247Z"
   },
   {
    "duration": 255,
    "start_time": "2022-02-09T14:54:18.013Z"
   },
   {
    "duration": 6,
    "start_time": "2022-02-09T14:54:22.452Z"
   },
   {
    "duration": 10,
    "start_time": "2022-02-09T14:57:59.540Z"
   },
   {
    "duration": 12,
    "start_time": "2022-02-09T14:58:50.796Z"
   },
   {
    "duration": 13,
    "start_time": "2022-02-09T14:59:05.748Z"
   },
   {
    "duration": 12,
    "start_time": "2022-02-09T14:59:15.684Z"
   },
   {
    "duration": 81,
    "start_time": "2022-02-09T15:04:50.238Z"
   },
   {
    "duration": 470,
    "start_time": "2022-02-09T15:05:01.557Z"
   },
   {
    "duration": 15,
    "start_time": "2022-02-09T15:05:14.021Z"
   },
   {
    "duration": 19,
    "start_time": "2022-02-09T15:05:23.428Z"
   },
   {
    "duration": 29,
    "start_time": "2022-02-09T15:06:58.316Z"
   },
   {
    "duration": 7618,
    "start_time": "2022-02-09T15:11:29.677Z"
   },
   {
    "duration": 18,
    "start_time": "2022-02-09T15:11:46.197Z"
   },
   {
    "duration": 20,
    "start_time": "2022-02-09T15:13:10.997Z"
   },
   {
    "duration": 23,
    "start_time": "2022-02-09T15:13:15.364Z"
   },
   {
    "duration": 19,
    "start_time": "2022-02-09T15:13:19.581Z"
   },
   {
    "duration": 19,
    "start_time": "2022-02-09T15:13:31.404Z"
   },
   {
    "duration": 16,
    "start_time": "2022-02-09T15:14:40.812Z"
   },
   {
    "duration": 19,
    "start_time": "2022-02-09T15:15:28.991Z"
   },
   {
    "duration": 93,
    "start_time": "2022-02-09T15:18:30.057Z"
   },
   {
    "duration": 101,
    "start_time": "2022-02-09T15:19:15.024Z"
   },
   {
    "duration": 17,
    "start_time": "2022-02-09T15:19:38.429Z"
   },
   {
    "duration": 90,
    "start_time": "2022-02-09T15:24:36.692Z"
   },
   {
    "duration": 122,
    "start_time": "2022-02-09T15:24:46.188Z"
   },
   {
    "duration": 121,
    "start_time": "2022-02-09T15:24:52.116Z"
   },
   {
    "duration": 84,
    "start_time": "2022-02-09T15:25:14.071Z"
   },
   {
    "duration": 1959,
    "start_time": "2022-02-09T15:25:52.067Z"
   },
   {
    "duration": 2315,
    "start_time": "2022-02-09T15:25:55.267Z"
   },
   {
    "duration": 2319,
    "start_time": "2022-02-09T15:26:24.029Z"
   },
   {
    "duration": 2996,
    "start_time": "2022-02-09T15:26:28.696Z"
   },
   {
    "duration": 2018,
    "start_time": "2022-02-09T15:26:46.257Z"
   },
   {
    "duration": 2112,
    "start_time": "2022-02-09T15:27:33.037Z"
   },
   {
    "duration": 2439,
    "start_time": "2022-02-09T15:27:46.101Z"
   },
   {
    "duration": 26,
    "start_time": "2022-02-09T15:27:52.237Z"
   },
   {
    "duration": 57,
    "start_time": "2022-02-09T15:28:48.716Z"
   },
   {
    "duration": 544,
    "start_time": "2022-02-09T18:58:07.020Z"
   },
   {
    "duration": 45,
    "start_time": "2022-02-09T18:58:07.566Z"
   },
   {
    "duration": 18,
    "start_time": "2022-02-09T18:58:07.614Z"
   },
   {
    "duration": 26,
    "start_time": "2022-02-09T18:58:07.634Z"
   },
   {
    "duration": 9,
    "start_time": "2022-02-09T18:58:07.662Z"
   },
   {
    "duration": 16,
    "start_time": "2022-02-09T18:58:07.673Z"
   },
   {
    "duration": 7,
    "start_time": "2022-02-09T18:58:07.690Z"
   },
   {
    "duration": 7,
    "start_time": "2022-02-09T18:58:07.699Z"
   },
   {
    "duration": 9,
    "start_time": "2022-02-09T18:58:07.708Z"
   },
   {
    "duration": 46,
    "start_time": "2022-02-09T18:58:07.719Z"
   },
   {
    "duration": 16,
    "start_time": "2022-02-09T18:58:07.767Z"
   },
   {
    "duration": 15,
    "start_time": "2022-02-09T18:58:07.785Z"
   },
   {
    "duration": 17,
    "start_time": "2022-02-09T18:58:07.801Z"
   },
   {
    "duration": 14,
    "start_time": "2022-02-09T18:58:07.820Z"
   },
   {
    "duration": 8,
    "start_time": "2022-02-09T18:58:07.859Z"
   },
   {
    "duration": 22,
    "start_time": "2022-02-09T18:58:07.869Z"
   },
   {
    "duration": 6,
    "start_time": "2022-02-09T18:58:07.893Z"
   },
   {
    "duration": 10,
    "start_time": "2022-02-09T18:58:07.901Z"
   },
   {
    "duration": 45,
    "start_time": "2022-02-09T18:58:07.913Z"
   },
   {
    "duration": 21,
    "start_time": "2022-02-09T18:58:07.960Z"
   },
   {
    "duration": 8,
    "start_time": "2022-02-09T18:58:07.984Z"
   },
   {
    "duration": 27,
    "start_time": "2022-02-09T18:58:07.994Z"
   },
   {
    "duration": 36,
    "start_time": "2022-02-09T18:58:08.025Z"
   },
   {
    "duration": 6,
    "start_time": "2022-02-09T18:58:08.064Z"
   },
   {
    "duration": 20,
    "start_time": "2022-02-09T18:58:08.072Z"
   },
   {
    "duration": 4,
    "start_time": "2022-02-09T18:58:08.094Z"
   },
   {
    "duration": 9,
    "start_time": "2022-02-09T18:58:08.100Z"
   },
   {
    "duration": 21,
    "start_time": "2022-02-09T18:58:08.110Z"
   },
   {
    "duration": 27,
    "start_time": "2022-02-09T18:58:08.132Z"
   },
   {
    "duration": 5,
    "start_time": "2022-02-09T18:58:08.161Z"
   },
   {
    "duration": 13,
    "start_time": "2022-02-09T18:58:08.168Z"
   },
   {
    "duration": 8,
    "start_time": "2022-02-09T18:58:08.183Z"
   },
   {
    "duration": 9,
    "start_time": "2022-02-09T18:58:08.192Z"
   },
   {
    "duration": 10,
    "start_time": "2022-02-09T18:58:08.202Z"
   },
   {
    "duration": 8,
    "start_time": "2022-02-09T18:58:08.214Z"
   },
   {
    "duration": 51,
    "start_time": "2022-02-09T18:58:08.223Z"
   },
   {
    "duration": 13,
    "start_time": "2022-02-09T18:58:08.276Z"
   },
   {
    "duration": 12,
    "start_time": "2022-02-09T18:58:08.291Z"
   },
   {
    "duration": 17,
    "start_time": "2022-02-09T18:58:08.305Z"
   },
   {
    "duration": 36,
    "start_time": "2022-02-09T18:58:08.323Z"
   },
   {
    "duration": 15,
    "start_time": "2022-02-09T18:58:08.360Z"
   },
   {
    "duration": 54,
    "start_time": "2022-02-09T18:58:11.041Z"
   },
   {
    "duration": 2973,
    "start_time": "2022-02-09T18:59:09.922Z"
   },
   {
    "duration": 54,
    "start_time": "2022-02-09T18:59:17.091Z"
   },
   {
    "duration": 108,
    "start_time": "2022-02-09T19:02:03.786Z"
   },
   {
    "duration": 3,
    "start_time": "2022-02-09T19:02:38.532Z"
   },
   {
    "duration": 16,
    "start_time": "2022-02-09T19:02:53.425Z"
   },
   {
    "duration": 11,
    "start_time": "2022-02-09T19:03:05.980Z"
   },
   {
    "duration": 15,
    "start_time": "2022-02-09T19:03:15.312Z"
   },
   {
    "duration": 10,
    "start_time": "2022-02-09T19:03:23.089Z"
   },
   {
    "duration": 14,
    "start_time": "2022-02-09T19:03:26.202Z"
   },
   {
    "duration": 297,
    "start_time": "2022-02-09T19:05:17.051Z"
   },
   {
    "duration": 67,
    "start_time": "2022-02-09T19:05:47.106Z"
   },
   {
    "duration": 7,
    "start_time": "2022-02-09T19:06:12.568Z"
   },
   {
    "duration": 8,
    "start_time": "2022-02-09T19:08:12.112Z"
   },
   {
    "duration": 10,
    "start_time": "2022-02-09T19:08:20.224Z"
   },
   {
    "duration": 291,
    "start_time": "2022-02-09T19:09:57.345Z"
   },
   {
    "duration": 12,
    "start_time": "2022-02-09T19:10:02.295Z"
   },
   {
    "duration": 11,
    "start_time": "2022-02-09T19:19:24.272Z"
   },
   {
    "duration": 10,
    "start_time": "2022-02-09T19:19:28.035Z"
   },
   {
    "duration": 11,
    "start_time": "2022-02-09T19:19:40.047Z"
   },
   {
    "duration": 12,
    "start_time": "2022-02-09T19:19:58.512Z"
   },
   {
    "duration": 12,
    "start_time": "2022-02-09T19:20:45.729Z"
   },
   {
    "duration": 309,
    "start_time": "2022-02-09T19:21:24.932Z"
   },
   {
    "duration": 11,
    "start_time": "2022-02-09T19:21:32.301Z"
   },
   {
    "duration": 11,
    "start_time": "2022-02-09T19:22:31.311Z"
   },
   {
    "duration": 295,
    "start_time": "2022-02-09T19:22:49.344Z"
   },
   {
    "duration": 11,
    "start_time": "2022-02-09T19:22:58.806Z"
   },
   {
    "duration": 10,
    "start_time": "2022-02-09T19:23:25.193Z"
   },
   {
    "duration": 38,
    "start_time": "2022-02-09T19:23:42.232Z"
   },
   {
    "duration": 24,
    "start_time": "2022-02-09T19:24:10.733Z"
   },
   {
    "duration": 24,
    "start_time": "2022-02-09T19:24:32.018Z"
   },
   {
    "duration": 24,
    "start_time": "2022-02-09T19:25:51.475Z"
   },
   {
    "duration": 30,
    "start_time": "2022-02-09T19:28:59.475Z"
   },
   {
    "duration": 25,
    "start_time": "2022-02-09T19:30:27.547Z"
   },
   {
    "duration": 8,
    "start_time": "2022-02-09T19:32:06.409Z"
   },
   {
    "duration": 10,
    "start_time": "2022-02-09T19:32:24.699Z"
   },
   {
    "duration": 6,
    "start_time": "2022-02-09T19:32:59.516Z"
   },
   {
    "duration": 5,
    "start_time": "2022-02-09T19:33:14.619Z"
   },
   {
    "duration": 5,
    "start_time": "2022-02-09T19:33:41.515Z"
   },
   {
    "duration": 5,
    "start_time": "2022-02-09T19:33:45.706Z"
   },
   {
    "duration": 6,
    "start_time": "2022-02-09T19:36:42.308Z"
   },
   {
    "duration": 30,
    "start_time": "2022-02-09T19:47:52.289Z"
   },
   {
    "duration": 5,
    "start_time": "2022-02-09T19:47:54.624Z"
   },
   {
    "duration": 320,
    "start_time": "2022-02-09T19:47:56.457Z"
   },
   {
    "duration": 303,
    "start_time": "2022-02-09T19:48:40.569Z"
   },
   {
    "duration": 29,
    "start_time": "2022-02-09T19:49:53.697Z"
   },
   {
    "duration": 26,
    "start_time": "2022-02-09T19:50:09.082Z"
   },
   {
    "duration": 27,
    "start_time": "2022-02-09T19:50:15.849Z"
   },
   {
    "duration": 27,
    "start_time": "2022-02-09T19:55:03.432Z"
   },
   {
    "duration": 293,
    "start_time": "2022-02-09T19:57:03.476Z"
   },
   {
    "duration": 25,
    "start_time": "2022-02-09T19:58:12.427Z"
   },
   {
    "duration": 26,
    "start_time": "2022-02-09T19:58:27.171Z"
   },
   {
    "duration": 23,
    "start_time": "2022-02-09T20:01:37.001Z"
   },
   {
    "duration": 3,
    "start_time": "2022-02-09T20:31:58.754Z"
   },
   {
    "duration": 41,
    "start_time": "2022-02-09T20:31:59.171Z"
   },
   {
    "duration": 13,
    "start_time": "2022-02-09T20:31:59.955Z"
   },
   {
    "duration": 10,
    "start_time": "2022-02-09T20:32:00.691Z"
   },
   {
    "duration": 9,
    "start_time": "2022-02-09T20:32:08.888Z"
   },
   {
    "duration": 13,
    "start_time": "2022-02-09T20:32:09.405Z"
   },
   {
    "duration": 10,
    "start_time": "2022-02-09T20:32:11.939Z"
   },
   {
    "duration": 8,
    "start_time": "2022-02-09T20:32:16.366Z"
   },
   {
    "duration": 10,
    "start_time": "2022-02-09T20:32:18.553Z"
   },
   {
    "duration": 15,
    "start_time": "2022-02-09T20:32:22.707Z"
   },
   {
    "duration": 11,
    "start_time": "2022-02-09T20:32:26.306Z"
   },
   {
    "duration": 13,
    "start_time": "2022-02-09T20:32:27.988Z"
   },
   {
    "duration": 16,
    "start_time": "2022-02-09T20:32:28.537Z"
   },
   {
    "duration": 17,
    "start_time": "2022-02-09T20:32:30.241Z"
   },
   {
    "duration": 10,
    "start_time": "2022-02-09T20:32:32.501Z"
   },
   {
    "duration": 21,
    "start_time": "2022-02-09T20:32:35.277Z"
   },
   {
    "duration": 5,
    "start_time": "2022-02-09T20:32:38.179Z"
   },
   {
    "duration": 9,
    "start_time": "2022-02-09T20:32:39.288Z"
   },
   {
    "duration": 8,
    "start_time": "2022-02-09T20:32:40.319Z"
   },
   {
    "duration": 20,
    "start_time": "2022-02-09T20:32:41.583Z"
   },
   {
    "duration": 7,
    "start_time": "2022-02-09T20:32:43.406Z"
   },
   {
    "duration": 24,
    "start_time": "2022-02-09T20:32:50.788Z"
   },
   {
    "duration": 8,
    "start_time": "2022-02-09T20:32:53.584Z"
   },
   {
    "duration": 7,
    "start_time": "2022-02-09T20:33:01.411Z"
   },
   {
    "duration": 17,
    "start_time": "2022-02-09T20:33:02.379Z"
   },
   {
    "duration": 6,
    "start_time": "2022-02-09T20:33:09.214Z"
   },
   {
    "duration": 7,
    "start_time": "2022-02-09T20:33:13.468Z"
   },
   {
    "duration": 19,
    "start_time": "2022-02-09T20:33:17.075Z"
   },
   {
    "duration": 6,
    "start_time": "2022-02-09T20:33:21.576Z"
   },
   {
    "duration": 7,
    "start_time": "2022-02-09T20:33:22.928Z"
   },
   {
    "duration": 12,
    "start_time": "2022-02-09T20:33:25.992Z"
   },
   {
    "duration": 6,
    "start_time": "2022-02-09T20:33:28.459Z"
   },
   {
    "duration": 5,
    "start_time": "2022-02-09T20:33:29.516Z"
   },
   {
    "duration": 4,
    "start_time": "2022-02-09T20:33:35.167Z"
   },
   {
    "duration": 6,
    "start_time": "2022-02-09T20:33:36.295Z"
   },
   {
    "duration": 24,
    "start_time": "2022-02-09T20:33:40.747Z"
   },
   {
    "duration": 14,
    "start_time": "2022-02-09T20:33:47.565Z"
   },
   {
    "duration": 11,
    "start_time": "2022-02-09T20:33:53.008Z"
   },
   {
    "duration": 14,
    "start_time": "2022-02-09T20:33:53.627Z"
   },
   {
    "duration": 11,
    "start_time": "2022-02-09T20:34:01.233Z"
   },
   {
    "duration": 15,
    "start_time": "2022-02-09T20:34:02.970Z"
   },
   {
    "duration": 26,
    "start_time": "2022-02-09T20:34:32.244Z"
   },
   {
    "duration": 6,
    "start_time": "2022-02-09T20:34:38.932Z"
   },
   {
    "duration": 27,
    "start_time": "2022-02-09T20:34:59.624Z"
   },
   {
    "duration": 24,
    "start_time": "2022-02-09T20:35:09.296Z"
   },
   {
    "duration": 23,
    "start_time": "2022-02-09T20:35:19.500Z"
   },
   {
    "duration": 573,
    "start_time": "2022-02-15T15:07:48.318Z"
   },
   {
    "duration": 51,
    "start_time": "2022-02-15T15:07:48.892Z"
   },
   {
    "duration": 20,
    "start_time": "2022-02-15T15:07:48.945Z"
   },
   {
    "duration": 24,
    "start_time": "2022-02-15T15:07:48.966Z"
   },
   {
    "duration": 10,
    "start_time": "2022-02-15T15:07:48.992Z"
   },
   {
    "duration": 25,
    "start_time": "2022-02-15T15:07:49.003Z"
   },
   {
    "duration": 13,
    "start_time": "2022-02-15T15:07:49.029Z"
   },
   {
    "duration": 24,
    "start_time": "2022-02-15T15:07:49.044Z"
   },
   {
    "duration": 23,
    "start_time": "2022-02-15T15:07:49.071Z"
   },
   {
    "duration": 24,
    "start_time": "2022-02-15T15:07:49.096Z"
   },
   {
    "duration": 16,
    "start_time": "2022-02-15T15:08:00.174Z"
   },
   {
    "duration": 3,
    "start_time": "2022-02-15T15:08:13.109Z"
   },
   {
    "duration": 56,
    "start_time": "2022-02-15T15:08:13.114Z"
   },
   {
    "duration": 14,
    "start_time": "2022-02-15T15:08:13.172Z"
   },
   {
    "duration": 12,
    "start_time": "2022-02-15T15:08:13.189Z"
   },
   {
    "duration": 10,
    "start_time": "2022-02-15T15:08:13.202Z"
   },
   {
    "duration": 15,
    "start_time": "2022-02-15T15:08:13.214Z"
   },
   {
    "duration": 8,
    "start_time": "2022-02-15T15:08:13.231Z"
   },
   {
    "duration": 33,
    "start_time": "2022-02-15T15:08:13.241Z"
   },
   {
    "duration": 14,
    "start_time": "2022-02-15T15:08:13.276Z"
   },
   {
    "duration": 15,
    "start_time": "2022-02-15T15:08:13.292Z"
   },
   {
    "duration": 6997,
    "start_time": "2022-02-15T15:08:14.990Z"
   },
   {
    "duration": 116,
    "start_time": "2022-02-15T15:08:29.891Z"
   },
   {
    "duration": 6669,
    "start_time": "2022-02-15T15:08:33.585Z"
   },
   {
    "duration": 16,
    "start_time": "2022-02-15T15:08:56.736Z"
   },
   {
    "duration": 3,
    "start_time": "2022-02-15T15:12:31.249Z"
   },
   {
    "duration": 73,
    "start_time": "2022-02-15T15:12:31.254Z"
   },
   {
    "duration": 15,
    "start_time": "2022-02-15T15:12:31.330Z"
   },
   {
    "duration": 33,
    "start_time": "2022-02-15T15:12:31.347Z"
   },
   {
    "duration": 34,
    "start_time": "2022-02-15T15:12:31.382Z"
   },
   {
    "duration": 18,
    "start_time": "2022-02-15T15:12:31.418Z"
   },
   {
    "duration": 16,
    "start_time": "2022-02-15T15:12:31.438Z"
   },
   {
    "duration": 25,
    "start_time": "2022-02-15T15:12:31.456Z"
   },
   {
    "duration": 40,
    "start_time": "2022-02-15T15:12:31.483Z"
   },
   {
    "duration": 22,
    "start_time": "2022-02-15T15:12:31.525Z"
   },
   {
    "duration": 33,
    "start_time": "2022-02-15T15:12:31.549Z"
   },
   {
    "duration": 3,
    "start_time": "2022-02-15T15:12:34.305Z"
   },
   {
    "duration": 3,
    "start_time": "2022-02-15T15:12:34.811Z"
   },
   {
    "duration": 3,
    "start_time": "2022-02-15T15:12:35.224Z"
   },
   {
    "duration": 14,
    "start_time": "2022-02-15T15:12:37.051Z"
   },
   {
    "duration": 28,
    "start_time": "2022-02-15T15:12:40.284Z"
   },
   {
    "duration": 5,
    "start_time": "2022-02-15T15:12:43.697Z"
   },
   {
    "duration": 10,
    "start_time": "2022-02-15T15:12:46.620Z"
   },
   {
    "duration": 8,
    "start_time": "2022-02-15T15:12:48.849Z"
   },
   {
    "duration": 22,
    "start_time": "2022-02-15T15:12:50.242Z"
   },
   {
    "duration": 7,
    "start_time": "2022-02-15T15:12:54.986Z"
   },
   {
    "duration": 23,
    "start_time": "2022-02-15T15:13:09.558Z"
   },
   {
    "duration": 8,
    "start_time": "2022-02-15T15:13:16.161Z"
   },
   {
    "duration": 7,
    "start_time": "2022-02-15T15:13:18.758Z"
   },
   {
    "duration": 19,
    "start_time": "2022-02-15T15:13:19.999Z"
   },
   {
    "duration": 6,
    "start_time": "2022-02-15T15:13:22.325Z"
   },
   {
    "duration": 7,
    "start_time": "2022-02-15T15:13:23.220Z"
   },
   {
    "duration": 19,
    "start_time": "2022-02-15T15:13:24.410Z"
   },
   {
    "duration": 5,
    "start_time": "2022-02-15T15:13:24.816Z"
   },
   {
    "duration": 7,
    "start_time": "2022-02-15T15:13:26.295Z"
   },
   {
    "duration": 11,
    "start_time": "2022-02-15T15:13:28.635Z"
   },
   {
    "duration": 7,
    "start_time": "2022-02-15T15:13:40.420Z"
   },
   {
    "duration": 5,
    "start_time": "2022-02-15T15:13:41.599Z"
   },
   {
    "duration": 5,
    "start_time": "2022-02-15T15:13:44.320Z"
   },
   {
    "duration": 7,
    "start_time": "2022-02-15T15:13:46.303Z"
   },
   {
    "duration": 20,
    "start_time": "2022-02-15T15:13:48.654Z"
   },
   {
    "duration": 17,
    "start_time": "2022-02-15T15:13:49.571Z"
   },
   {
    "duration": 16,
    "start_time": "2022-02-15T15:13:50.530Z"
   },
   {
    "duration": 6968,
    "start_time": "2022-02-15T15:18:30.727Z"
   },
   {
    "duration": 2,
    "start_time": "2022-02-15T15:23:23.898Z"
   },
   {
    "duration": 62,
    "start_time": "2022-02-15T15:23:23.903Z"
   },
   {
    "duration": 13,
    "start_time": "2022-02-15T15:23:23.968Z"
   },
   {
    "duration": 12,
    "start_time": "2022-02-15T15:23:23.983Z"
   },
   {
    "duration": 13,
    "start_time": "2022-02-15T15:23:23.997Z"
   },
   {
    "duration": 19,
    "start_time": "2022-02-15T15:23:24.011Z"
   },
   {
    "duration": 7,
    "start_time": "2022-02-15T15:23:24.032Z"
   },
   {
    "duration": 37,
    "start_time": "2022-02-15T15:23:24.041Z"
   },
   {
    "duration": 10,
    "start_time": "2022-02-15T15:23:24.081Z"
   },
   {
    "duration": 15,
    "start_time": "2022-02-15T15:23:24.093Z"
   },
   {
    "duration": 18,
    "start_time": "2022-02-15T15:23:24.109Z"
   },
   {
    "duration": 2,
    "start_time": "2022-02-15T15:23:24.129Z"
   },
   {
    "duration": 12,
    "start_time": "2022-02-15T15:23:24.133Z"
   },
   {
    "duration": 2,
    "start_time": "2022-02-15T15:23:24.169Z"
   },
   {
    "duration": 14,
    "start_time": "2022-02-15T15:23:24.172Z"
   },
   {
    "duration": 21,
    "start_time": "2022-02-15T15:23:24.188Z"
   },
   {
    "duration": 14,
    "start_time": "2022-02-15T15:23:24.210Z"
   },
   {
    "duration": 16,
    "start_time": "2022-02-15T15:23:24.225Z"
   },
   {
    "duration": 7,
    "start_time": "2022-02-15T15:23:24.243Z"
   },
   {
    "duration": 21,
    "start_time": "2022-02-15T15:23:24.269Z"
   },
   {
    "duration": 10,
    "start_time": "2022-02-15T15:23:24.292Z"
   },
   {
    "duration": 24,
    "start_time": "2022-02-15T15:23:24.303Z"
   },
   {
    "duration": 7,
    "start_time": "2022-02-15T15:23:24.329Z"
   },
   {
    "duration": 32,
    "start_time": "2022-02-15T15:23:24.338Z"
   },
   {
    "duration": 18,
    "start_time": "2022-02-15T15:23:24.372Z"
   },
   {
    "duration": 9,
    "start_time": "2022-02-15T15:23:24.392Z"
   },
   {
    "duration": 9,
    "start_time": "2022-02-15T15:23:24.405Z"
   },
   {
    "duration": 19,
    "start_time": "2022-02-15T15:23:24.417Z"
   },
   {
    "duration": 5,
    "start_time": "2022-02-15T15:23:24.438Z"
   },
   {
    "duration": 30,
    "start_time": "2022-02-15T15:23:24.444Z"
   },
   {
    "duration": 13,
    "start_time": "2022-02-15T15:23:24.476Z"
   },
   {
    "duration": 7,
    "start_time": "2022-02-15T15:23:24.491Z"
   },
   {
    "duration": 8,
    "start_time": "2022-02-15T15:23:24.500Z"
   },
   {
    "duration": 4,
    "start_time": "2022-02-15T15:23:24.510Z"
   },
   {
    "duration": 8,
    "start_time": "2022-02-15T15:23:24.515Z"
   },
   {
    "duration": 53,
    "start_time": "2022-02-15T15:23:24.525Z"
   },
   {
    "duration": 17,
    "start_time": "2022-02-15T15:23:24.580Z"
   },
   {
    "duration": 16,
    "start_time": "2022-02-15T15:23:24.598Z"
   },
   {
    "duration": 20,
    "start_time": "2022-02-15T15:23:24.616Z"
   },
   {
    "duration": 38,
    "start_time": "2022-02-15T15:23:24.638Z"
   },
   {
    "duration": 12,
    "start_time": "2022-02-15T15:23:24.678Z"
   },
   {
    "duration": 17,
    "start_time": "2022-02-15T15:23:24.692Z"
   },
   {
    "duration": 20,
    "start_time": "2022-02-15T15:23:24.711Z"
   },
   {
    "duration": 38,
    "start_time": "2022-02-15T15:23:24.732Z"
   },
   {
    "duration": 46,
    "start_time": "2022-02-15T15:23:24.771Z"
   },
   {
    "duration": 4,
    "start_time": "2022-02-15T15:23:24.819Z"
   },
   {
    "duration": 36,
    "start_time": "2022-02-15T15:23:24.825Z"
   },
   {
    "duration": 30,
    "start_time": "2022-02-15T15:23:24.862Z"
   },
   {
    "duration": 24,
    "start_time": "2022-02-15T15:23:32.917Z"
   },
   {
    "duration": 14,
    "start_time": "2022-02-15T15:26:02.167Z"
   },
   {
    "duration": 347,
    "start_time": "2022-02-15T15:27:28.923Z"
   },
   {
    "duration": 303,
    "start_time": "2022-02-15T15:28:49.697Z"
   },
   {
    "duration": 14,
    "start_time": "2022-02-15T15:29:15.955Z"
   },
   {
    "duration": 12,
    "start_time": "2022-02-15T15:30:20.712Z"
   },
   {
    "duration": 15,
    "start_time": "2022-02-15T15:30:26.327Z"
   },
   {
    "duration": 10,
    "start_time": "2022-02-15T15:30:42.577Z"
   },
   {
    "duration": 288,
    "start_time": "2022-02-15T15:30:49.786Z"
   },
   {
    "duration": 12,
    "start_time": "2022-02-15T15:31:00.055Z"
   },
   {
    "duration": 13,
    "start_time": "2022-02-15T15:31:20.414Z"
   },
   {
    "duration": 14,
    "start_time": "2022-02-15T15:33:28.077Z"
   },
   {
    "duration": 15,
    "start_time": "2022-02-15T15:35:22.350Z"
   },
   {
    "duration": 15,
    "start_time": "2022-02-15T15:36:15.302Z"
   },
   {
    "duration": 16,
    "start_time": "2022-02-15T15:36:36.662Z"
   },
   {
    "duration": 299,
    "start_time": "2022-02-15T15:36:47.506Z"
   },
   {
    "duration": 16,
    "start_time": "2022-02-15T15:36:50.530Z"
   },
   {
    "duration": 17,
    "start_time": "2022-02-15T15:40:25.883Z"
   },
   {
    "duration": 15,
    "start_time": "2022-02-15T15:41:31.962Z"
   },
   {
    "duration": 16,
    "start_time": "2022-02-15T15:42:33.721Z"
   },
   {
    "duration": 16,
    "start_time": "2022-02-15T15:42:38.704Z"
   },
   {
    "duration": 17,
    "start_time": "2022-02-15T15:42:56.116Z"
   },
   {
    "duration": 283,
    "start_time": "2022-02-15T15:43:19.048Z"
   },
   {
    "duration": 293,
    "start_time": "2022-02-15T15:43:29.868Z"
   },
   {
    "duration": 15,
    "start_time": "2022-02-15T15:43:36.714Z"
   },
   {
    "duration": 15,
    "start_time": "2022-02-15T15:44:55.189Z"
   },
   {
    "duration": 15,
    "start_time": "2022-02-15T15:45:05.379Z"
   },
   {
    "duration": 2,
    "start_time": "2022-02-15T15:45:09.448Z"
   },
   {
    "duration": 56,
    "start_time": "2022-02-15T15:45:09.452Z"
   },
   {
    "duration": 14,
    "start_time": "2022-02-15T15:45:09.510Z"
   },
   {
    "duration": 12,
    "start_time": "2022-02-15T15:45:09.526Z"
   },
   {
    "duration": 33,
    "start_time": "2022-02-15T15:45:09.540Z"
   },
   {
    "duration": 16,
    "start_time": "2022-02-15T15:45:09.575Z"
   },
   {
    "duration": 7,
    "start_time": "2022-02-15T15:45:09.593Z"
   },
   {
    "duration": 8,
    "start_time": "2022-02-15T15:45:09.602Z"
   },
   {
    "duration": 13,
    "start_time": "2022-02-15T15:45:09.613Z"
   },
   {
    "duration": 50,
    "start_time": "2022-02-15T15:45:09.629Z"
   },
   {
    "duration": 17,
    "start_time": "2022-02-15T15:45:09.681Z"
   },
   {
    "duration": 2,
    "start_time": "2022-02-15T15:45:09.700Z"
   },
   {
    "duration": 6,
    "start_time": "2022-02-15T15:45:09.704Z"
   },
   {
    "duration": 5,
    "start_time": "2022-02-15T15:45:09.712Z"
   },
   {
    "duration": 22,
    "start_time": "2022-02-15T15:45:09.719Z"
   },
   {
    "duration": 40,
    "start_time": "2022-02-15T15:45:09.742Z"
   },
   {
    "duration": 5,
    "start_time": "2022-02-15T15:45:09.783Z"
   },
   {
    "duration": 26,
    "start_time": "2022-02-15T15:45:09.789Z"
   },
   {
    "duration": 7,
    "start_time": "2022-02-15T15:45:09.817Z"
   },
   {
    "duration": 23,
    "start_time": "2022-02-15T15:45:09.825Z"
   },
   {
    "duration": 25,
    "start_time": "2022-02-15T15:45:09.849Z"
   },
   {
    "duration": 25,
    "start_time": "2022-02-15T15:45:09.875Z"
   },
   {
    "duration": 7,
    "start_time": "2022-02-15T15:45:09.901Z"
   },
   {
    "duration": 5,
    "start_time": "2022-02-15T15:45:09.910Z"
   },
   {
    "duration": 20,
    "start_time": "2022-02-15T15:45:09.917Z"
   },
   {
    "duration": 31,
    "start_time": "2022-02-15T15:45:09.938Z"
   },
   {
    "duration": 7,
    "start_time": "2022-02-15T15:45:09.973Z"
   },
   {
    "duration": 21,
    "start_time": "2022-02-15T15:45:09.982Z"
   },
   {
    "duration": 14,
    "start_time": "2022-02-15T15:45:10.005Z"
   },
   {
    "duration": 10,
    "start_time": "2022-02-15T15:45:10.021Z"
   },
   {
    "duration": 16,
    "start_time": "2022-02-15T15:45:10.033Z"
   },
   {
    "duration": 24,
    "start_time": "2022-02-15T15:45:10.050Z"
   },
   {
    "duration": 7,
    "start_time": "2022-02-15T15:45:10.076Z"
   },
   {
    "duration": 11,
    "start_time": "2022-02-15T15:45:10.084Z"
   },
   {
    "duration": 9,
    "start_time": "2022-02-15T15:45:10.096Z"
   },
   {
    "duration": 21,
    "start_time": "2022-02-15T15:45:10.107Z"
   },
   {
    "duration": 45,
    "start_time": "2022-02-15T15:45:10.129Z"
   },
   {
    "duration": 16,
    "start_time": "2022-02-15T15:45:10.176Z"
   },
   {
    "duration": 22,
    "start_time": "2022-02-15T15:45:10.193Z"
   },
   {
    "duration": 14,
    "start_time": "2022-02-15T15:45:10.216Z"
   },
   {
    "duration": 39,
    "start_time": "2022-02-15T15:45:10.231Z"
   },
   {
    "duration": 15,
    "start_time": "2022-02-15T15:45:10.272Z"
   },
   {
    "duration": 14,
    "start_time": "2022-02-15T15:45:10.289Z"
   },
   {
    "duration": 27,
    "start_time": "2022-02-15T15:45:10.304Z"
   },
   {
    "duration": 53,
    "start_time": "2022-02-15T15:45:10.333Z"
   },
   {
    "duration": 6,
    "start_time": "2022-02-15T15:45:10.387Z"
   },
   {
    "duration": 30,
    "start_time": "2022-02-15T15:45:10.395Z"
   },
   {
    "duration": 44,
    "start_time": "2022-02-15T15:45:10.428Z"
   },
   {
    "duration": 25,
    "start_time": "2022-02-15T15:45:10.474Z"
   },
   {
    "duration": 16,
    "start_time": "2022-02-15T15:45:17.504Z"
   },
   {
    "duration": 16,
    "start_time": "2022-02-15T15:45:32.295Z"
   },
   {
    "duration": 15,
    "start_time": "2022-02-15T15:45:41.829Z"
   },
   {
    "duration": 16,
    "start_time": "2022-02-15T15:45:50.627Z"
   },
   {
    "duration": 16,
    "start_time": "2022-02-15T15:46:15.899Z"
   },
   {
    "duration": 16,
    "start_time": "2022-02-15T15:46:28.463Z"
   },
   {
    "duration": 17,
    "start_time": "2022-02-15T15:46:33.370Z"
   },
   {
    "duration": 18,
    "start_time": "2022-02-15T15:47:51.159Z"
   },
   {
    "duration": 16,
    "start_time": "2022-02-15T15:48:12.055Z"
   },
   {
    "duration": 16,
    "start_time": "2022-02-15T15:48:39.864Z"
   },
   {
    "duration": 19,
    "start_time": "2022-02-15T15:49:06.094Z"
   },
   {
    "duration": 17,
    "start_time": "2022-02-15T15:49:50.139Z"
   },
   {
    "duration": 17,
    "start_time": "2022-02-15T15:50:01.034Z"
   },
   {
    "duration": 17,
    "start_time": "2022-02-15T15:50:24.199Z"
   },
   {
    "duration": 20,
    "start_time": "2022-02-15T15:50:59.712Z"
   },
   {
    "duration": 17,
    "start_time": "2022-02-15T15:51:04.322Z"
   },
   {
    "duration": 18,
    "start_time": "2022-02-15T15:51:52.340Z"
   },
   {
    "duration": 17,
    "start_time": "2022-02-15T15:51:57.083Z"
   },
   {
    "duration": 15,
    "start_time": "2022-02-15T15:52:40.893Z"
   }
  ],
  "kernelspec": {
   "display_name": "Python 3",
   "language": "python",
   "name": "python3"
  },
  "language_info": {
   "codemirror_mode": {
    "name": "ipython",
    "version": 3
   },
   "file_extension": ".py",
   "mimetype": "text/x-python",
   "name": "python",
   "nbconvert_exporter": "python",
   "pygments_lexer": "ipython3",
   "version": "3.7.8"
  },
  "toc": {
   "base_numbering": 1,
   "nav_menu": {},
   "number_sections": true,
   "sideBar": true,
   "skip_h1_title": true,
   "title_cell": "Table of Contents",
   "title_sidebar": "Contents",
   "toc_cell": false,
   "toc_position": {},
   "toc_section_display": true,
   "toc_window_display": false
  }
 },
 "nbformat": 4,
 "nbformat_minor": 5
}
