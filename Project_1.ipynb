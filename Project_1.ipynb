{
 "cells": [
  {
   "cell_type": "markdown",
   "metadata": {},
   "source": [
    "<div class=\"alert alert-success\">\n",
    "<b> Комментарий от ревьюера 2 ✔️</b>\n",
    "\n",
    "Привет еще раз. Оформление комментариев по работе сохраняется. Только обозначим, что это вторая итерация. \n",
    "\n",
    "</div>"
   ]
  },
  {
   "cell_type": "markdown",
   "metadata": {},
   "source": [
    "<b>Комментарий от ревьюера</b>\n",
    "\n",
    "Привет! Меня зовут Ярослав Кальманов, я буду делать ревью твоего проекта. Давай будем общаться на «ты».\n",
    "\n",
    "Мои комментарии будут в ячейках \"Комментарий от ревьюера\".\n",
    "\n",
    "<div class=\"alert alert-danger\"> \n",
    "\n",
    "<b> Комментарий от ревьюера ❗</b>\n",
    "\n",
    "Красным цветом обозначены комментарии, на которые тебе нужно обратить внимание в первую очередь, чтобы я принял проект. \n",
    "</div>\n",
    "<div class=\"alert alert-warning\">\n",
    "\n",
    "<b> Комментарий от ревьюера ⚠️</b>\n",
    "\n",
    "Желтым цветом отмечено то, что ты можешь сделать немного по-другому. Ты можешь учесть эти комментарии при выполнении следующих проектов.\n",
    "</div>\n",
    "<div class=\"alert alert-success\">\n",
    "\n",
    "<b> Комментарий от ревьюера ✔️</b>\n",
    "\n",
    "Зелёным цветом обозначены твои удачные решения, которые ты без сомнения можешь применять в будущих проектах.  \n",
    "</div>\n",
    "\n",
    "Если ты вносишь изменения в проект по моим рекомендациям, указывай, пожалуйста, это в своих комментариях. Будет удобно, если обозначишь свои комментарии заметным цветом или поместишь \n",
    "\n",
    "<div class=\"alert alert-info\">\n",
    "    \n",
    "в такую ячейку\n",
    "</div>\n",
    "\n",
    "Давай при работе с проектом мы будем общаться с тобой в диалоге, поэтому не удаляй и не перемещай мои комментарии, это поможет мне сделать повторную  проверку проекта быстрее.\n",
    "___\n",
    "\n",
    "<div class=\"alert alert-info\">\n",
    "    \n",
    "Привет, Ярослав. Рад знакомству. Замечания посмотрел, после внесенных изменений буду добавлять синий блок с моими ответными комменатриями.\n",
    "</div>"
   ]
  },
  {
   "cell_type": "markdown",
   "metadata": {},
   "source": [
    "<div class=\"alert alert-success\">\n",
    "    \n",
    "<b> Комментарий от ревьюера 2 ✔️</b>\n",
    "\n",
    "👍\n",
    "\n",
    "</div>\n"
   ]
  },
  {
   "cell_type": "markdown",
   "metadata": {
    "id": "E0vqbgi9ay0H"
   },
   "source": [
    "# Яндекс.Музыка"
   ]
  },
  {
   "cell_type": "markdown",
   "metadata": {
    "id": "VUC88oWjTJw2"
   },
   "source": [
    "Сравнение Москвы и Петербурга окружено мифами. Например:\n",
    " * Москва — мегаполис, подчинённый жёсткому ритму рабочей недели;\n",
    " * Петербург — культурная столица, со своими вкусами.\n",
    "\n",
    "На данных Яндекс.Музыки вы сравните поведение пользователей двух столиц.\n",
    "\n",
    "**Цель исследования** — проверьте три гипотезы:\n",
    "1. Активность пользователей зависит от дня недели. Причём в Москве и Петербурге это проявляется по-разному.\n",
    "2. В понедельник утром в Москве преобладают одни жанры, а в Петербурге — другие. Так же и вечером пятницы преобладают разные жанры — в зависимости от города. \n",
    "3. Москва и Петербург предпочитают разные жанры музыки. В Москве чаще слушают поп-музыку, в Петербурге — русский рэп.\n",
    "\n",
    "**Ход исследования**\n",
    "\n",
    "Данные о поведении пользователей вы получите из файла `yandex_music_project.csv`. О качестве данных ничего не известно. Поэтому перед проверкой гипотез понадобится обзор данных. \n",
    "\n",
    "Вы проверите данные на ошибки и оцените их влияние на исследование. Затем, на этапе предобработки вы поищете возможность исправить самые критичные ошибки данных.\n",
    " \n",
    "Таким образом, исследование пройдёт в три этапа:\n",
    " 1. Обзор данных.\n",
    " 2. Предобработка данных.\n",
    " 3. Проверка гипотез.\n",
    "\n"
   ]
  },
  {
   "cell_type": "markdown",
   "metadata": {
    "id": "Ml1hmfXC_Zcs"
   },
   "source": [
    "## Обзор данных\n",
    "\n",
    "Составьте первое представление о данных Яндекс.Музыки.\n",
    "\n",
    "\n"
   ]
  },
  {
   "cell_type": "markdown",
   "metadata": {
    "id": "57eAOGIz_Zcs"
   },
   "source": [
    "Основной инструмент аналитика — `pandas`. Импортируйте эту библиотеку."
   ]
  },
  {
   "cell_type": "code",
   "execution_count": 1,
   "metadata": {
    "id": "AXN7PHPN_Zcs"
   },
   "outputs": [],
   "source": [
    "# импорт библиотеки pandas\n",
    "\n",
    "import pandas as pd"
   ]
  },
  {
   "cell_type": "markdown",
   "metadata": {},
   "source": [
    "<div class=\"alert alert-success\">\n",
    "    \n",
    "<b> Комментарий от ревьюера ✔️</b>\n",
    "    \n",
    "Очень здорово, что ты используешь сокращение pd для Pandas, это общепринятое сокращение для этой библиотеки для удобной дальнейшей работы.\n",
    "</div>"
   ]
  },
  {
   "cell_type": "markdown",
   "metadata": {
    "id": "SG23P8tt_Zcs"
   },
   "source": [
    "Прочитайте файл `yandex_music_project.csv` из папки `/datasets` и сохраните его в переменной `df`:"
   ]
  },
  {
   "cell_type": "code",
   "execution_count": 2,
   "metadata": {
    "id": "fFVu7vqh_Zct"
   },
   "outputs": [],
   "source": [
    "# чтение файла с данными и сохранение в df\n",
    "\n",
    "df = pd.read_csv('/datasets/yandex_music_project.csv')"
   ]
  },
  {
   "cell_type": "markdown",
   "metadata": {
    "id": "rDoOMd3uTqnZ"
   },
   "source": [
    "Выведите на экран первые десять строк таблицы:"
   ]
  },
  {
   "cell_type": "code",
   "execution_count": 3,
   "metadata": {
    "id": "oWTVX3gW_Zct"
   },
   "outputs": [
    {
     "data": {
      "text/html": [
       "<div>\n",
       "<style scoped>\n",
       "    .dataframe tbody tr th:only-of-type {\n",
       "        vertical-align: middle;\n",
       "    }\n",
       "\n",
       "    .dataframe tbody tr th {\n",
       "        vertical-align: top;\n",
       "    }\n",
       "\n",
       "    .dataframe thead th {\n",
       "        text-align: right;\n",
       "    }\n",
       "</style>\n",
       "<table border=\"1\" class=\"dataframe\">\n",
       "  <thead>\n",
       "    <tr style=\"text-align: right;\">\n",
       "      <th></th>\n",
       "      <th>userID</th>\n",
       "      <th>Track</th>\n",
       "      <th>artist</th>\n",
       "      <th>genre</th>\n",
       "      <th>City</th>\n",
       "      <th>time</th>\n",
       "      <th>Day</th>\n",
       "    </tr>\n",
       "  </thead>\n",
       "  <tbody>\n",
       "    <tr>\n",
       "      <td>0</td>\n",
       "      <td>FFB692EC</td>\n",
       "      <td>Kamigata To Boots</td>\n",
       "      <td>The Mass Missile</td>\n",
       "      <td>rock</td>\n",
       "      <td>Saint-Petersburg</td>\n",
       "      <td>20:28:33</td>\n",
       "      <td>Wednesday</td>\n",
       "    </tr>\n",
       "    <tr>\n",
       "      <td>1</td>\n",
       "      <td>55204538</td>\n",
       "      <td>Delayed Because of Accident</td>\n",
       "      <td>Andreas Rönnberg</td>\n",
       "      <td>rock</td>\n",
       "      <td>Moscow</td>\n",
       "      <td>14:07:09</td>\n",
       "      <td>Friday</td>\n",
       "    </tr>\n",
       "    <tr>\n",
       "      <td>2</td>\n",
       "      <td>20EC38</td>\n",
       "      <td>Funiculì funiculà</td>\n",
       "      <td>Mario Lanza</td>\n",
       "      <td>pop</td>\n",
       "      <td>Saint-Petersburg</td>\n",
       "      <td>20:58:07</td>\n",
       "      <td>Wednesday</td>\n",
       "    </tr>\n",
       "    <tr>\n",
       "      <td>3</td>\n",
       "      <td>A3DD03C9</td>\n",
       "      <td>Dragons in the Sunset</td>\n",
       "      <td>Fire + Ice</td>\n",
       "      <td>folk</td>\n",
       "      <td>Saint-Petersburg</td>\n",
       "      <td>08:37:09</td>\n",
       "      <td>Monday</td>\n",
       "    </tr>\n",
       "    <tr>\n",
       "      <td>4</td>\n",
       "      <td>E2DC1FAE</td>\n",
       "      <td>Soul People</td>\n",
       "      <td>Space Echo</td>\n",
       "      <td>dance</td>\n",
       "      <td>Moscow</td>\n",
       "      <td>08:34:34</td>\n",
       "      <td>Monday</td>\n",
       "    </tr>\n",
       "    <tr>\n",
       "      <td>5</td>\n",
       "      <td>842029A1</td>\n",
       "      <td>Преданная</td>\n",
       "      <td>IMPERVTOR</td>\n",
       "      <td>rusrap</td>\n",
       "      <td>Saint-Petersburg</td>\n",
       "      <td>13:09:41</td>\n",
       "      <td>Friday</td>\n",
       "    </tr>\n",
       "    <tr>\n",
       "      <td>6</td>\n",
       "      <td>4CB90AA5</td>\n",
       "      <td>True</td>\n",
       "      <td>Roman Messer</td>\n",
       "      <td>dance</td>\n",
       "      <td>Moscow</td>\n",
       "      <td>13:00:07</td>\n",
       "      <td>Wednesday</td>\n",
       "    </tr>\n",
       "    <tr>\n",
       "      <td>7</td>\n",
       "      <td>F03E1C1F</td>\n",
       "      <td>Feeling This Way</td>\n",
       "      <td>Polina Griffith</td>\n",
       "      <td>dance</td>\n",
       "      <td>Moscow</td>\n",
       "      <td>20:47:49</td>\n",
       "      <td>Wednesday</td>\n",
       "    </tr>\n",
       "    <tr>\n",
       "      <td>8</td>\n",
       "      <td>8FA1D3BE</td>\n",
       "      <td>И вновь продолжается бой</td>\n",
       "      <td>NaN</td>\n",
       "      <td>ruspop</td>\n",
       "      <td>Moscow</td>\n",
       "      <td>09:17:40</td>\n",
       "      <td>Friday</td>\n",
       "    </tr>\n",
       "    <tr>\n",
       "      <td>9</td>\n",
       "      <td>E772D5C0</td>\n",
       "      <td>Pessimist</td>\n",
       "      <td>NaN</td>\n",
       "      <td>dance</td>\n",
       "      <td>Saint-Petersburg</td>\n",
       "      <td>21:20:49</td>\n",
       "      <td>Wednesday</td>\n",
       "    </tr>\n",
       "  </tbody>\n",
       "</table>\n",
       "</div>"
      ],
      "text/plain": [
       "     userID                        Track            artist   genre  \\\n",
       "0  FFB692EC            Kamigata To Boots  The Mass Missile    rock   \n",
       "1  55204538  Delayed Because of Accident  Andreas Rönnberg    rock   \n",
       "2    20EC38            Funiculì funiculà       Mario Lanza     pop   \n",
       "3  A3DD03C9        Dragons in the Sunset        Fire + Ice    folk   \n",
       "4  E2DC1FAE                  Soul People        Space Echo   dance   \n",
       "5  842029A1                    Преданная         IMPERVTOR  rusrap   \n",
       "6  4CB90AA5                         True      Roman Messer   dance   \n",
       "7  F03E1C1F             Feeling This Way   Polina Griffith   dance   \n",
       "8  8FA1D3BE     И вновь продолжается бой               NaN  ruspop   \n",
       "9  E772D5C0                    Pessimist               NaN   dance   \n",
       "\n",
       "             City        time        Day  \n",
       "0  Saint-Petersburg  20:28:33  Wednesday  \n",
       "1            Moscow  14:07:09     Friday  \n",
       "2  Saint-Petersburg  20:58:07  Wednesday  \n",
       "3  Saint-Petersburg  08:37:09     Monday  \n",
       "4            Moscow  08:34:34     Monday  \n",
       "5  Saint-Petersburg  13:09:41     Friday  \n",
       "6            Moscow  13:00:07  Wednesday  \n",
       "7            Moscow  20:47:49  Wednesday  \n",
       "8            Moscow  09:17:40     Friday  \n",
       "9  Saint-Petersburg  21:20:49  Wednesday  "
      ]
     },
     "execution_count": 3,
     "metadata": {},
     "output_type": "execute_result"
    }
   ],
   "source": [
    "# получение первых 10 строк таблицы df\n",
    "\n",
    "df.head(10)"
   ]
  },
  {
   "cell_type": "markdown",
   "metadata": {
    "id": "EO73Kwic_Zct"
   },
   "source": [
    "Одной командой получить общую информацию о таблице:"
   ]
  },
  {
   "cell_type": "code",
   "execution_count": 4,
   "metadata": {
    "id": "DSf2kIb-_Zct"
   },
   "outputs": [
    {
     "name": "stdout",
     "output_type": "stream",
     "text": [
      "<class 'pandas.core.frame.DataFrame'>\n",
      "RangeIndex: 65079 entries, 0 to 65078\n",
      "Data columns (total 7 columns):\n",
      "  userID    65079 non-null object\n",
      "Track       63848 non-null object\n",
      "artist      57876 non-null object\n",
      "genre       63881 non-null object\n",
      "  City      65079 non-null object\n",
      "time        65079 non-null object\n",
      "Day         65079 non-null object\n",
      "dtypes: object(7)\n",
      "memory usage: 3.5+ MB\n"
     ]
    }
   ],
   "source": [
    "# получение общей информации о данных в таблице df\n",
    "\n",
    "df.info()"
   ]
  },
  {
   "cell_type": "markdown",
   "metadata": {},
   "source": [
    "<div class=\"alert alert-success\">\n",
    "    \n",
    "<b> Комментарий от ревьюера ✔️</b>\n",
    "    \n",
    "Отличный выбор метода - info действительно показывает много информации о датафрейме.\n",
    "</div>"
   ]
  },
  {
   "cell_type": "markdown",
   "metadata": {
    "id": "TaQ2Iwbr_Zct"
   },
   "source": [
    "Итак, в таблице семь столбцов. Тип данных во всех столбцах — `object`.\n",
    "\n",
    "Согласно документации к данным:\n",
    "* `userID` — идентификатор пользователя;\n",
    "* `Track` — название трека;  \n",
    "* `artist` — имя исполнителя;\n",
    "* `genre` — название жанра;\n",
    "* `City` — город пользователя;\n",
    "* `time` — время начала прослушивания;\n",
    "* `Day` — день недели.\n",
    "\n",
    "В названиях колонок видны три нарушения стиля:\n",
    "1. Строчные буквы сочетаются с прописными.\n",
    "2. Встречаются пробелы.\n",
    "3. Отсутствует змеиный регистр.\n",
    "\n",
    "\n",
    "\n",
    "Количество значений в столбцах различается. Значит, в данных есть пропущенные значения.\n"
   ]
  },
  {
   "cell_type": "markdown",
   "metadata": {},
   "source": [
    "<div class=\"alert alert-success\">\n",
    "    \n",
    "<b> Комментарий от ревьюера ✔️</b>\n",
    "    \n",
    "Абсолютно правильный ответ на вопрос задания! Отличная работа!\n",
    "</div>"
   ]
  },
  {
   "cell_type": "markdown",
   "metadata": {
    "id": "MCB6-dXG_Zct"
   },
   "source": [
    "**Выводы**\n",
    "\n",
    "В каждой строке таблицы — данные о прослушанном треке. Часть колонок описывает саму композицию: название, исполнителя и жанр. Остальные данные рассказывают о пользователе: из какого он города, когда он слушал музыку. \n",
    "\n",
    "Предварительно можно утверждать, что, данных достаточно для проверки гипотез. Но встречаются пропуски в данных, а в названиях колонок — расхождения с хорошим стилем.\n",
    "\n",
    "Чтобы двигаться дальше, нужно устранить проблемы в данных."
   ]
  },
  {
   "cell_type": "markdown",
   "metadata": {
    "id": "SjYF6Ub9_Zct"
   },
   "source": [
    "## Предобработка данных\n",
    "Исправьте стиль в заголовках столбцов, исключите пропуски. Затем проверьте данные на дубликаты."
   ]
  },
  {
   "cell_type": "markdown",
   "metadata": {
    "id": "dIaKXr29_Zct"
   },
   "source": [
    "### Стиль заголовков\n",
    "Выведите на экран названия столбцов:"
   ]
  },
  {
   "cell_type": "code",
   "execution_count": 5,
   "metadata": {
    "id": "oKOTdF_Q_Zct"
   },
   "outputs": [
    {
     "data": {
      "text/plain": [
       "Index(['  userID', 'Track', 'artist', 'genre', '  City  ', 'time', 'Day'], dtype='object')"
      ]
     },
     "execution_count": 5,
     "metadata": {},
     "output_type": "execute_result"
    }
   ],
   "source": [
    "# перечень названий столбцов таблицы df\n",
    "\n",
    "df.columns"
   ]
  },
  {
   "cell_type": "markdown",
   "metadata": {
    "id": "zj5534cv_Zct"
   },
   "source": [
    "Приведите названия в соответствие с хорошим стилем:\n",
    "* несколько слов в названии запишите в «змеином_регистре»,\n",
    "* все символы сделайте строчными,\n",
    "* устраните пробелы.\n",
    "\n",
    "Для этого переименуйте колонки так:\n",
    "* `'  userID'` → `'user_id'`;\n",
    "* `'Track'` → `'track'`;\n",
    "* `'  City  '` → `'city'`;\n",
    "* `'Day'` → `'day'`."
   ]
  },
  {
   "cell_type": "code",
   "execution_count": 6,
   "metadata": {
    "id": "ISlFqs5y_Zct"
   },
   "outputs": [],
   "source": [
    "# переименование столбцов\n",
    "\n",
    "df = df.rename(columns={'  userID': 'user_id', 'Track': 'track', '  City  ': 'city', 'Day': 'day'})"
   ]
  },
  {
   "cell_type": "markdown",
   "metadata": {},
   "source": [
    "<div class=\"alert alert-success\">\n",
    "    \n",
    "<b> Комментарий от ревьюера ✔️</b>\n",
    "    \n",
    "Хороший выбор метода - rename сработает без ошибок, даже если изменится порядок столбцов.\n",
    "</div>"
   ]
  },
  {
   "cell_type": "markdown",
   "metadata": {
    "id": "1dqbh00J_Zct"
   },
   "source": [
    "Проверьте результат. Для этого ещё раз выведите на экран названия столбцов:"
   ]
  },
  {
   "cell_type": "code",
   "execution_count": 7,
   "metadata": {
    "id": "d4NOAmTW_Zct"
   },
   "outputs": [
    {
     "data": {
      "text/plain": [
       "Index(['user_id', 'track', 'artist', 'genre', 'city', 'time', 'day'], dtype='object')"
      ]
     },
     "execution_count": 7,
     "metadata": {},
     "output_type": "execute_result"
    }
   ],
   "source": [
    "# проверка результатов - перечень названий столбцов\n",
    "\n",
    "df.columns"
   ]
  },
  {
   "cell_type": "markdown",
   "metadata": {
    "id": "5ISfbcfY_Zct"
   },
   "source": [
    "### Пропуски значений\n",
    "Сначала посчитайте, сколько в таблице пропущенных значений. Для этого достаточно двух методов `pandas`:"
   ]
  },
  {
   "cell_type": "code",
   "execution_count": 8,
   "metadata": {
    "id": "RskX29qr_Zct"
   },
   "outputs": [
    {
     "data": {
      "text/plain": [
       "user_id       0\n",
       "track      1231\n",
       "artist     7203\n",
       "genre      1198\n",
       "city          0\n",
       "time          0\n",
       "day           0\n",
       "dtype: int64"
      ]
     },
     "execution_count": 8,
     "metadata": {},
     "output_type": "execute_result"
    }
   ],
   "source": [
    "# подсчёт пропусков\n",
    "\n",
    "df.isna().sum()"
   ]
  },
  {
   "cell_type": "markdown",
   "metadata": {
    "id": "qubhgnlO_Zct"
   },
   "source": [
    "Не все пропущенные значения влияют на исследование. Так в `track` и `artist` пропуски не важны для вашей работы. Достаточно заменить их явными обозначениями.\n",
    "\n",
    "Но пропуски в `genre` могут помешать сравнению музыкальных вкусов в Москве и Санкт-Петербурге. На практике было бы правильно установить причину пропусков и восстановить данные. Такой возможности нет в учебном проекте. Придётся:\n",
    "* заполнить и эти пропуски явными обозначениями,\n",
    "* оценить, насколько они повредят расчётам. "
   ]
  },
  {
   "cell_type": "markdown",
   "metadata": {
    "id": "fSv2laPA_Zct"
   },
   "source": [
    "Замените пропущенные значения в столбцах `track`, `artist` и `genre` на строку `'unknown'`. Для этого создайте список `columns_to_replace`, переберите его элементы циклом `for` и для каждого столбца выполните замену пропущенных значений:"
   ]
  },
  {
   "cell_type": "code",
   "execution_count": 9,
   "metadata": {
    "id": "KplB5qWs_Zct"
   },
   "outputs": [],
   "source": [
    "# перебор названий столбцов в цикле и замена пропущенных значений на 'unknown'\n",
    "\n",
    "columns_to_replace = ['track', 'artist', 'genre']\n",
    "\n",
    "for column in columns_to_replace:\n",
    "    df[column] = df[column].fillna('unknown')"
   ]
  },
  {
   "cell_type": "markdown",
   "metadata": {
    "id": "Ilsm-MZo_Zct"
   },
   "source": [
    "Убедитесь, что в таблице не осталось пропусков. Для этого ещё раз посчитайте пропущенные значения."
   ]
  },
  {
   "cell_type": "code",
   "execution_count": 10,
   "metadata": {
    "id": "Tq4nYRX4_Zct"
   },
   "outputs": [
    {
     "data": {
      "text/plain": [
       "user_id    0\n",
       "track      0\n",
       "artist     0\n",
       "genre      0\n",
       "city       0\n",
       "time       0\n",
       "day        0\n",
       "dtype: int64"
      ]
     },
     "execution_count": 10,
     "metadata": {},
     "output_type": "execute_result"
    }
   ],
   "source": [
    "# подсчёт пропусков\n",
    "\n",
    "df.isna().sum()"
   ]
  },
  {
   "cell_type": "markdown",
   "metadata": {},
   "source": [
    "<div class=\"alert alert-success\">\n",
    "    \n",
    "<b> Комментарий от ревьюера ✔️</b>\n",
    "    \n",
    "С обработкой пропусков все отлично\n",
    "</div>"
   ]
  },
  {
   "cell_type": "markdown",
   "metadata": {
    "id": "BWKRtBJ3_Zct"
   },
   "source": [
    "### Дубликаты\n",
    "Посчитайте явные дубликаты в таблице одной командой:"
   ]
  },
  {
   "cell_type": "code",
   "execution_count": 11,
   "metadata": {
    "id": "36eES_S0_Zct"
   },
   "outputs": [
    {
     "data": {
      "text/plain": [
       "3826"
      ]
     },
     "execution_count": 11,
     "metadata": {},
     "output_type": "execute_result"
    }
   ],
   "source": [
    "# подсчёт явных дубликатов\n",
    "\n",
    "df.duplicated().sum() "
   ]
  },
  {
   "cell_type": "markdown",
   "metadata": {},
   "source": [
    "<div class=\"alert alert-success\">\n",
    "    \n",
    "<b> Комментарий от ревьюера ✔️</b>\n",
    "    \n",
    "Дубликаты верно найдены и посчитаны оптимальными методами.\n",
    "</div>\n"
   ]
  },
  {
   "cell_type": "markdown",
   "metadata": {
    "id": "Ot25h6XR_Zct"
   },
   "source": [
    "Вызовите специальный метод `pandas`, чтобы удалить явные дубликаты:"
   ]
  },
  {
   "cell_type": "code",
   "execution_count": 12,
   "metadata": {
    "id": "exFHq6tt_Zct"
   },
   "outputs": [],
   "source": [
    "# удаление явных дубликатов (с удалением старых индексов и формированием новых)\n",
    "\n",
    "df = df.drop_duplicates().reset_index(drop=True) "
   ]
  },
  {
   "cell_type": "markdown",
   "metadata": {
    "id": "Im2YwBEG_Zct"
   },
   "source": [
    "Ещё раз посчитайте явные дубликаты в таблице — убедитесь, что полностью от них избавились:"
   ]
  },
  {
   "cell_type": "code",
   "execution_count": 13,
   "metadata": {
    "id": "-8PuNWQ0_Zct"
   },
   "outputs": [
    {
     "data": {
      "text/plain": [
       "0"
      ]
     },
     "execution_count": 13,
     "metadata": {},
     "output_type": "execute_result"
    }
   ],
   "source": [
    "# проверка на отсутствие дубликатов\n",
    "\n",
    "df.duplicated().sum() "
   ]
  },
  {
   "cell_type": "markdown",
   "metadata": {
    "id": "QlFBsxAr_Zct"
   },
   "source": [
    "Теперь избавьтесь от неявных дубликатов в колонке `genre`. Например, название одного и того же жанра может быть записано немного по-разному. Такие ошибки тоже повлияют на результат исследования."
   ]
  },
  {
   "cell_type": "markdown",
   "metadata": {
    "id": "eSjWwsOh_Zct"
   },
   "source": [
    "Выведите на экран список уникальных названий жанров, отсортированный в алфавитном порядке. Для этого:\n",
    "* извлеките нужный столбец датафрейма, \n",
    "* примените к нему метод сортировки,\n",
    "* для отсортированного столбца вызовите метод, который вернёт уникальные значения из столбца."
   ]
  },
  {
   "cell_type": "code",
   "execution_count": 14,
   "metadata": {
    "id": "JIUcqzZN_Zct"
   },
   "outputs": [
    {
     "data": {
      "text/plain": [
       "array(['acid', 'acoustic', 'action', 'adult', 'africa', 'afrikaans',\n",
       "       'alternative', 'alternativepunk', 'ambient', 'americana',\n",
       "       'animated', 'anime', 'arabesk', 'arabic', 'arena',\n",
       "       'argentinetango', 'art', 'audiobook', 'author', 'avantgarde',\n",
       "       'axé', 'baile', 'balkan', 'beats', 'bigroom', 'black', 'bluegrass',\n",
       "       'blues', 'bollywood', 'bossa', 'brazilian', 'breakbeat', 'breaks',\n",
       "       'broadway', 'cantautori', 'cantopop', 'canzone', 'caribbean',\n",
       "       'caucasian', 'celtic', 'chamber', 'chanson', 'children', 'chill',\n",
       "       'chinese', 'choral', 'christian', 'christmas', 'classical',\n",
       "       'classicmetal', 'club', 'colombian', 'comedy', 'conjazz',\n",
       "       'contemporary', 'country', 'cuban', 'dance', 'dancehall',\n",
       "       'dancepop', 'dark', 'death', 'deep', 'deutschrock', 'deutschspr',\n",
       "       'dirty', 'disco', 'dnb', 'documentary', 'downbeat', 'downtempo',\n",
       "       'drum', 'dub', 'dubstep', 'eastern', 'easy', 'electronic',\n",
       "       'electropop', 'emo', 'entehno', 'epicmetal', 'estrada', 'ethnic',\n",
       "       'eurofolk', 'european', 'experimental', 'extrememetal', 'fado',\n",
       "       'fairytail', 'film', 'fitness', 'flamenco', 'folk', 'folklore',\n",
       "       'folkmetal', 'folkrock', 'folktronica', 'forró', 'frankreich',\n",
       "       'französisch', 'french', 'funk', 'future', 'gangsta', 'garage',\n",
       "       'german', 'ghazal', 'gitarre', 'glitch', 'gospel', 'gothic',\n",
       "       'grime', 'grunge', 'gypsy', 'handsup', \"hard'n'heavy\", 'hardcore',\n",
       "       'hardstyle', 'hardtechno', 'hip', 'hip-hop', 'hiphop',\n",
       "       'historisch', 'holiday', 'hop', 'horror', 'house', 'hymn', 'idm',\n",
       "       'independent', 'indian', 'indie', 'indipop', 'industrial',\n",
       "       'inspirational', 'instrumental', 'international', 'irish', 'jam',\n",
       "       'japanese', 'jazz', 'jewish', 'jpop', 'jungle', 'k-pop',\n",
       "       'karadeniz', 'karaoke', 'kayokyoku', 'korean', 'laiko', 'latin',\n",
       "       'latino', 'leftfield', 'local', 'lounge', 'loungeelectronic',\n",
       "       'lovers', 'malaysian', 'mandopop', 'marschmusik', 'meditative',\n",
       "       'mediterranean', 'melodic', 'metal', 'metalcore', 'mexican',\n",
       "       'middle', 'minimal', 'miscellaneous', 'modern', 'mood', 'mpb',\n",
       "       'muslim', 'native', 'neoklassik', 'neue', 'new', 'newage',\n",
       "       'newwave', 'nu', 'nujazz', 'numetal', 'oceania', 'old', 'opera',\n",
       "       'orchestral', 'other', 'piano', 'podcasts', 'pop', 'popdance',\n",
       "       'popelectronic', 'popeurodance', 'poprussian', 'post',\n",
       "       'posthardcore', 'postrock', 'power', 'progmetal', 'progressive',\n",
       "       'psychedelic', 'punjabi', 'punk', 'quebecois', 'ragga', 'ram',\n",
       "       'rancheras', 'rap', 'rave', 'reggae', 'reggaeton', 'regional',\n",
       "       'relax', 'religious', 'retro', 'rhythm', 'rnb', 'rnr', 'rock',\n",
       "       'rockabilly', 'rockalternative', 'rockindie', 'rockother',\n",
       "       'romance', 'roots', 'ruspop', 'rusrap', 'rusrock', 'russian',\n",
       "       'salsa', 'samba', 'scenic', 'schlager', 'self', 'sertanejo',\n",
       "       'shanson', 'shoegazing', 'showtunes', 'singer', 'ska', 'skarock',\n",
       "       'slow', 'smooth', 'soft', 'soul', 'soulful', 'sound', 'soundtrack',\n",
       "       'southern', 'specialty', 'speech', 'spiritual', 'sport',\n",
       "       'stonerrock', 'surf', 'swing', 'synthpop', 'synthrock',\n",
       "       'sängerportrait', 'tango', 'tanzorchester', 'taraftar', 'tatar',\n",
       "       'tech', 'techno', 'teen', 'thrash', 'top', 'traditional',\n",
       "       'tradjazz', 'trance', 'tribal', 'trip', 'triphop', 'tropical',\n",
       "       'türk', 'türkçe', 'ukrrock', 'unknown', 'urban', 'uzbek',\n",
       "       'variété', 'vi', 'videogame', 'vocal', 'western', 'world',\n",
       "       'worldbeat', 'ïîï', 'электроника'], dtype=object)"
      ]
     },
     "execution_count": 14,
     "metadata": {},
     "output_type": "execute_result"
    }
   ],
   "source": [
    "# Просмотр уникальных названий жанров\n",
    "\n",
    "df_sorted = df.sort_values(by='genre')\n",
    "df_sorted['genre'].unique()"
   ]
  },
  {
   "cell_type": "markdown",
   "metadata": {
    "id": "qej-Qmuo_Zct"
   },
   "source": [
    "Просмотрите список и найдите неявные дубликаты названия `hiphop`. Это могут быть названия с ошибками или альтернативные названия того же жанра.\n",
    "\n",
    "Вы увидите следующие неявные дубликаты:\n",
    "* *hip*,\n",
    "* *hop*,\n",
    "* *hip-hop*.\n",
    "\n",
    "Чтобы очистить от них таблицу, напишите функцию `replace_wrong_genres()` с двумя параметрами: \n",
    "* `wrong_genres` — список дубликатов,\n",
    "* `correct_genre` — строка с правильным значением.\n",
    "\n",
    "Функция должна исправить колонку `genre` в таблице `df`: заменить каждое значение из списка `wrong_genres` на значение из `correct_genre`."
   ]
  },
  {
   "cell_type": "code",
   "execution_count": 15,
   "metadata": {
    "id": "ErNDkmns_Zct"
   },
   "outputs": [],
   "source": [
    "# Функция для замены неявных дубликатов\n",
    "\n",
    "def replace_wrong_genres(wrong_genres, correct_genre):\n",
    "    df['genre'] = df['genre'].replace(wrong_genres, correct_genre)"
   ]
  },
  {
   "cell_type": "markdown",
   "metadata": {
    "id": "aDoBJxbA_Zct"
   },
   "source": [
    "Вызовите `replace_wrong_genres()` и передайте ей такие аргументы, чтобы она устранила неявные дубликаты: вместо `hip`, `hop` и `hip-hop` в таблице должно быть значение `hiphop`:"
   ]
  },
  {
   "cell_type": "code",
   "execution_count": 16,
   "metadata": {
    "id": "YN5i2hpmSo09"
   },
   "outputs": [],
   "source": [
    "# Устранение неявных дубликатов\n",
    "\n",
    "wrong_list = ['hip', 'hop', 'hip-hop']\n",
    "\n",
    "for wrong in wrong_list:\n",
    "    replace_wrong_genres(wrong, 'hiphop')"
   ]
  },
  {
   "cell_type": "markdown",
   "metadata": {
    "id": "zQKF16_RG15m"
   },
   "source": [
    "Проверьте, что заменили неправильные названия:\n",
    "\n",
    "*   hip\n",
    "*   hop\n",
    "*   hip-hop\n",
    "\n",
    "Выведите отсортированный список уникальных значений столбца `genre`:"
   ]
  },
  {
   "cell_type": "code",
   "execution_count": 17,
   "metadata": {
    "id": "wvixALnFG15m"
   },
   "outputs": [
    {
     "data": {
      "text/plain": [
       "array(['acid', 'acoustic', 'action', 'adult', 'africa', 'afrikaans',\n",
       "       'alternative', 'alternativepunk', 'ambient', 'americana',\n",
       "       'animated', 'anime', 'arabesk', 'arabic', 'arena',\n",
       "       'argentinetango', 'art', 'audiobook', 'author', 'avantgarde',\n",
       "       'axé', 'baile', 'balkan', 'beats', 'bigroom', 'black', 'bluegrass',\n",
       "       'blues', 'bollywood', 'bossa', 'brazilian', 'breakbeat', 'breaks',\n",
       "       'broadway', 'cantautori', 'cantopop', 'canzone', 'caribbean',\n",
       "       'caucasian', 'celtic', 'chamber', 'chanson', 'children', 'chill',\n",
       "       'chinese', 'choral', 'christian', 'christmas', 'classical',\n",
       "       'classicmetal', 'club', 'colombian', 'comedy', 'conjazz',\n",
       "       'contemporary', 'country', 'cuban', 'dance', 'dancehall',\n",
       "       'dancepop', 'dark', 'death', 'deep', 'deutschrock', 'deutschspr',\n",
       "       'dirty', 'disco', 'dnb', 'documentary', 'downbeat', 'downtempo',\n",
       "       'drum', 'dub', 'dubstep', 'eastern', 'easy', 'electronic',\n",
       "       'electropop', 'emo', 'entehno', 'epicmetal', 'estrada', 'ethnic',\n",
       "       'eurofolk', 'european', 'experimental', 'extrememetal', 'fado',\n",
       "       'fairytail', 'film', 'fitness', 'flamenco', 'folk', 'folklore',\n",
       "       'folkmetal', 'folkrock', 'folktronica', 'forró', 'frankreich',\n",
       "       'französisch', 'french', 'funk', 'future', 'gangsta', 'garage',\n",
       "       'german', 'ghazal', 'gitarre', 'glitch', 'gospel', 'gothic',\n",
       "       'grime', 'grunge', 'gypsy', 'handsup', \"hard'n'heavy\", 'hardcore',\n",
       "       'hardstyle', 'hardtechno', 'hiphop', 'historisch', 'holiday',\n",
       "       'horror', 'house', 'hymn', 'idm', 'independent', 'indian', 'indie',\n",
       "       'indipop', 'industrial', 'inspirational', 'instrumental',\n",
       "       'international', 'irish', 'jam', 'japanese', 'jazz', 'jewish',\n",
       "       'jpop', 'jungle', 'k-pop', 'karadeniz', 'karaoke', 'kayokyoku',\n",
       "       'korean', 'laiko', 'latin', 'latino', 'leftfield', 'local',\n",
       "       'lounge', 'loungeelectronic', 'lovers', 'malaysian', 'mandopop',\n",
       "       'marschmusik', 'meditative', 'mediterranean', 'melodic', 'metal',\n",
       "       'metalcore', 'mexican', 'middle', 'minimal', 'miscellaneous',\n",
       "       'modern', 'mood', 'mpb', 'muslim', 'native', 'neoklassik', 'neue',\n",
       "       'new', 'newage', 'newwave', 'nu', 'nujazz', 'numetal', 'oceania',\n",
       "       'old', 'opera', 'orchestral', 'other', 'piano', 'podcasts', 'pop',\n",
       "       'popdance', 'popelectronic', 'popeurodance', 'poprussian', 'post',\n",
       "       'posthardcore', 'postrock', 'power', 'progmetal', 'progressive',\n",
       "       'psychedelic', 'punjabi', 'punk', 'quebecois', 'ragga', 'ram',\n",
       "       'rancheras', 'rap', 'rave', 'reggae', 'reggaeton', 'regional',\n",
       "       'relax', 'religious', 'retro', 'rhythm', 'rnb', 'rnr', 'rock',\n",
       "       'rockabilly', 'rockalternative', 'rockindie', 'rockother',\n",
       "       'romance', 'roots', 'ruspop', 'rusrap', 'rusrock', 'russian',\n",
       "       'salsa', 'samba', 'scenic', 'schlager', 'self', 'sertanejo',\n",
       "       'shanson', 'shoegazing', 'showtunes', 'singer', 'ska', 'skarock',\n",
       "       'slow', 'smooth', 'soft', 'soul', 'soulful', 'sound', 'soundtrack',\n",
       "       'southern', 'specialty', 'speech', 'spiritual', 'sport',\n",
       "       'stonerrock', 'surf', 'swing', 'synthpop', 'synthrock',\n",
       "       'sängerportrait', 'tango', 'tanzorchester', 'taraftar', 'tatar',\n",
       "       'tech', 'techno', 'teen', 'thrash', 'top', 'traditional',\n",
       "       'tradjazz', 'trance', 'tribal', 'trip', 'triphop', 'tropical',\n",
       "       'türk', 'türkçe', 'ukrrock', 'unknown', 'urban', 'uzbek',\n",
       "       'variété', 'vi', 'videogame', 'vocal', 'western', 'world',\n",
       "       'worldbeat', 'ïîï', 'электроника'], dtype=object)"
      ]
     },
     "execution_count": 17,
     "metadata": {},
     "output_type": "execute_result"
    }
   ],
   "source": [
    "# Проверка на неявные дубликаты\n",
    "\n",
    "df_sorted = df.sort_values(by='genre')\n",
    "df_sorted['genre'].unique()"
   ]
  },
  {
   "cell_type": "markdown",
   "metadata": {
    "id": "jz6a9-7HQUDd"
   },
   "source": [
    "**Выводы**\n",
    "\n",
    "Предобработка обнаружила три проблемы в данных:\n",
    "\n",
    "- нарушения в стиле заголовков,\n",
    "- пропущенные значения,\n",
    "- дубликаты — явные и неявные.\n",
    "\n",
    "Вы исправили заголовки, чтобы упростить работу с таблицей. Без дубликатов исследование станет более точным.\n",
    "\n",
    "Пропущенные значения вы заменили на `'unknown'`. Ещё предстоит увидеть, не повредят ли исследованию пропуски в колонке `genre`.\n",
    "\n",
    "Теперь можно перейти к проверке гипотез. "
   ]
  },
  {
   "cell_type": "markdown",
   "metadata": {
    "id": "WttZHXH0SqKk"
   },
   "source": [
    "## Проверка гипотез"
   ]
  },
  {
   "cell_type": "markdown",
   "metadata": {
    "id": "Im936VVi_Zcu"
   },
   "source": [
    "### Сравнение поведения пользователей двух столиц"
   ]
  },
  {
   "cell_type": "markdown",
   "metadata": {
    "id": "nwt_MuaL_Zcu"
   },
   "source": [
    "Первая гипотеза утверждает, что пользователи по-разному слушают музыку в Москве и Санкт-Петербурге. Проверьте это предположение по данным о трёх днях недели — понедельнике, среде и пятнице. Для этого:\n",
    "\n",
    "* Разделите пользователей Москвы и Санкт-Петербурга\n",
    "* Сравните, сколько треков послушала каждая группа пользователей в понедельник, среду и пятницу.\n"
   ]
  },
  {
   "cell_type": "markdown",
   "metadata": {
    "id": "8Dw_YMmT_Zcu"
   },
   "source": [
    "Для тренировки сначала выполните каждый из расчётов по отдельности. \n",
    "\n",
    "Оцените активность пользователей в каждом городе. Сгруппируйте данные по городу и посчитайте прослушивания в каждой группе.\n",
    "\n"
   ]
  },
  {
   "cell_type": "code",
   "execution_count": 18,
   "metadata": {
    "id": "0_Qs96oh_Zcu"
   },
   "outputs": [
    {
     "data": {
      "text/plain": [
       "city\n",
       "Moscow              42741\n",
       "Saint-Petersburg    18512\n",
       "Name: user_id, dtype: int64"
      ]
     },
     "execution_count": 18,
     "metadata": {},
     "output_type": "execute_result"
    }
   ],
   "source": [
    "# Подсчёт прослушиваний в каждом городе\n",
    "\n",
    "df.groupby('city')['user_id'].count()"
   ]
  },
  {
   "cell_type": "markdown",
   "metadata": {},
   "source": [
    "<div class=\"alert alert-warning\">\n",
    "    \n",
    "<b> Комментарий от ревьюера ⚠️</b>\n",
    "    \n",
    "Между группировкой по столбцу city и вызовом метода count() нужно выбрать какой-нибудь из столбцов получившегося сгруппированного объекта, иначе в итоговой таблице будет несколько одинаковых столбцов.\n",
    "\n",
    "Это касается и остальных вопросов про группировку данных в проекте\n",
    "</div>\n",
    "\n",
    "<div class=\"alert alert-info\">\n",
    "    \n",
    "Добавил выбор стобца user_id\n",
    "</div>\n"
   ]
  },
  {
   "cell_type": "markdown",
   "metadata": {},
   "source": [
    "<div class=\"alert alert-success\">\n",
    "    \n",
    "<b> Комментарий от ревьюера 2 ✔️</b>\n",
    "\n",
    "Отлично!\n",
    "\n",
    "</div>"
   ]
  },
  {
   "cell_type": "markdown",
   "metadata": {
    "id": "dzli3w8o_Zcu"
   },
   "source": [
    "В Москве прослушиваний больше, чем в Петербурге. Из этого не следует, что московские пользователи чаще слушают музыку. Просто самих пользователей в Москве больше.\n",
    "\n",
    "Теперь сгруппируйте данные по дню недели и подсчитайте прослушивания в понедельник, среду и пятницу. Учтите, что в данных есть информация только о прослушиваниях только за эти дни.\n"
   ]
  },
  {
   "cell_type": "code",
   "execution_count": 19,
   "metadata": {
    "id": "uZMKjiJz_Zcu"
   },
   "outputs": [
    {
     "data": {
      "text/plain": [
       "day\n",
       "Friday       21840\n",
       "Monday       21354\n",
       "Wednesday    18059\n",
       "Name: user_id, dtype: int64"
      ]
     },
     "execution_count": 19,
     "metadata": {},
     "output_type": "execute_result"
    }
   ],
   "source": [
    "# Подсчёт прослушиваний в каждый из трёх дней\n",
    "\n",
    "df.groupby('day')['user_id'].count()"
   ]
  },
  {
   "cell_type": "markdown",
   "metadata": {
    "id": "cC2tNrlL_Zcu"
   },
   "source": [
    "<div class=\"alert alert-info\">\n",
    "    \n",
    "Внес аналогичные изменения, добавил выбор столбца.\n",
    "</div>\n",
    "\n",
    "В среднем пользователи из двух городов менее активны по средам. Но картина может измениться, если рассмотреть каждый город в отдельности."
   ]
  },
  {
   "cell_type": "markdown",
   "metadata": {
    "id": "POzs8bGa_Zcu"
   },
   "source": [
    "Вы видели, как работает группировка по городу и по дням недели. Теперь напишите функцию, которая объединит два эти расчёта.\n",
    "\n",
    "Создайте функцию `number_tracks()`, которая посчитает прослушивания для заданного дня и города. Ей понадобятся два параметра:\n",
    "* день недели,\n",
    "* название города.\n",
    "\n",
    "В функции сохраните в переменную строки исходной таблицы, у которых значение:\n",
    "  * в колонке `day` равно параметру `day`,\n",
    "  * в колонке `city` равно параметру `city`.\n",
    "\n",
    "Для этого примените последовательную фильтрацию с логической индексацией.\n",
    "\n",
    "Затем посчитайте значения в столбце `user_id` получившейся таблицы. Результат сохраните в новую переменную. Верните эту переменную из функции."
   ]
  },
  {
   "cell_type": "code",
   "execution_count": 21,
   "metadata": {
    "id": "Nz3GdQB1_Zcu"
   },
   "outputs": [],
   "source": [
    "# <создание функции number_tracks()>\n",
    "# Объявляется функция с двумя параметрами: day, city.\n",
    "# В переменной track_list сохраняются те строки таблицы df, для которых \n",
    "# значение в столбце 'day' равно параметру day и одновременно значение\n",
    "# в столбце 'city' равно параметру city (используйте последовательную фильтрацию\n",
    "# с помощью логической индексации).\n",
    "# В переменной track_list_count сохраняется число значений столбца 'user_id',\n",
    "# рассчитанное методом count() для таблицы track_list.\n",
    "# Функция возвращает число - значение track_list_count.\n",
    "\n",
    "def number_tracks(day, city): \n",
    "    track_list = df.loc[df.loc[:,'day'] == day]\n",
    "    track_list = track_list.loc[track_list.loc[:,'city'] == city]\n",
    "    track_list_count = track_list.groupby('day')['city'].count()\n",
    "    return track_list_count\n",
    "\n",
    "# Функция для подсчёта прослушиваний для конкретного города и дня.\n",
    "# С помощью последовательной фильтрации с логической индексацией она \n",
    "# сначала получит из исходной таблицы строки с нужным днём,\n",
    "# затем из результата отфильтрует строки с нужным городом,\n",
    "# методом count() посчитает количество значений в колонке user_id. \n",
    "# Это количество функция вернёт в качестве результата"
   ]
  },
  {
   "cell_type": "markdown",
   "metadata": {},
   "source": [
    "<div class=\"alert alert-success\">\n",
    "    \n",
    "<b> Комментарий от ревьюера ✔️</b>\n",
    "    \n",
    "Кстати, можно фильтровать сразу по нескольким условиям:  \n",
    "`df[(df['col1'] > 1) & (df['col2'] < 2)]`\n",
    "</div>\n"
   ]
  },
  {
   "cell_type": "markdown",
   "metadata": {},
   "source": [
    "<div class=\"alert alert-danger\">\n",
    "    \n",
    "<b> Комментарий от ревьюера ❗</b>\n",
    "    \n",
    "Поправь, пожалуйста, функцию\n",
    "    \n",
    "Сейчас мы считаем сколько треков прослушал каждый пользователь с конкретный период времени, а нужно найти количество прослушиваний, например, в Москве в понедельник. Ответом будет одно число\n",
    "</div>\n",
    "\n",
    "<div class=\"alert alert-info\">\n",
    "    \n",
    "Свою ошибку понял, исправился. Теперь вывод функции правильный.\n",
    "</div>"
   ]
  },
  {
   "cell_type": "markdown",
   "metadata": {},
   "source": [
    "<div class=\"alert alert-success\">\n",
    "    \n",
    "<b> Комментарий от ревьюера 2 ✔️</b>\n",
    "\n",
    "Здорово, что поправил код!\n",
    "\n",
    "</div>"
   ]
  },
  {
   "cell_type": "markdown",
   "metadata": {
    "id": "ytf7xFrFJQ2r"
   },
   "source": [
    "Вызовите `number_tracks()` шесть раз, меняя значение параметров — так, чтобы получить данные для каждого города в каждый из трёх дней."
   ]
  },
  {
   "cell_type": "code",
   "execution_count": 22,
   "metadata": {
    "id": "rJcRATNQ_Zcu"
   },
   "outputs": [
    {
     "data": {
      "text/plain": [
       "day\n",
       "Monday    15740\n",
       "Name: city, dtype: int64"
      ]
     },
     "execution_count": 22,
     "metadata": {},
     "output_type": "execute_result"
    }
   ],
   "source": [
    "# количество прослушиваний в Москве по понедельникам\n",
    "\n",
    "number_tracks('Monday', 'Moscow')"
   ]
  },
  {
   "cell_type": "code",
   "execution_count": 22,
   "metadata": {
    "id": "hq_ncZ5T_Zcu"
   },
   "outputs": [
    {
     "data": {
      "text/plain": [
       "day\n",
       "Monday    5614\n",
       "Name: city, dtype: int64"
      ]
     },
     "execution_count": 22,
     "metadata": {},
     "output_type": "execute_result"
    }
   ],
   "source": [
    "# количество прослушиваний в Санкт-Петербурге по понедельникам\n",
    "\n",
    "number_tracks('Monday', 'Saint-Petersburg')"
   ]
  },
  {
   "cell_type": "code",
   "execution_count": 23,
   "metadata": {
    "id": "_NTy2VPU_Zcu"
   },
   "outputs": [
    {
     "data": {
      "text/plain": [
       "day\n",
       "Wednesday    11056\n",
       "Name: city, dtype: int64"
      ]
     },
     "execution_count": 23,
     "metadata": {},
     "output_type": "execute_result"
    }
   ],
   "source": [
    "# количество прослушиваний в Москве по средам\n",
    "\n",
    "number_tracks('Wednesday', 'Moscow')"
   ]
  },
  {
   "cell_type": "code",
   "execution_count": 24,
   "metadata": {
    "id": "j2y3TAwo_Zcu"
   },
   "outputs": [
    {
     "data": {
      "text/plain": [
       "day\n",
       "Wednesday    7003\n",
       "Name: city, dtype: int64"
      ]
     },
     "execution_count": 24,
     "metadata": {},
     "output_type": "execute_result"
    }
   ],
   "source": [
    "# количество прослушиваний в Санкт-Петербурге по средам\n",
    "\n",
    "number_tracks('Wednesday', 'Saint-Petersburg')"
   ]
  },
  {
   "cell_type": "code",
   "execution_count": 25,
   "metadata": {
    "id": "vYDw5u_K_Zcu"
   },
   "outputs": [
    {
     "data": {
      "text/plain": [
       "day\n",
       "Friday    15945\n",
       "Name: city, dtype: int64"
      ]
     },
     "execution_count": 25,
     "metadata": {},
     "output_type": "execute_result"
    }
   ],
   "source": [
    "# количество прослушиваний в Москве по пятницам\n",
    "\n",
    "number_tracks('Friday', 'Moscow')"
   ]
  },
  {
   "cell_type": "code",
   "execution_count": 26,
   "metadata": {
    "id": "8_yzFtW3_Zcu"
   },
   "outputs": [
    {
     "data": {
      "text/plain": [
       "day\n",
       "Friday    5895\n",
       "Name: city, dtype: int64"
      ]
     },
     "execution_count": 26,
     "metadata": {},
     "output_type": "execute_result"
    }
   ],
   "source": [
    "# количество прослушиваний в Санкт-Петербурге по пятницам\n",
    "\n",
    "number_tracks('Friday', 'Saint-Petersburg')"
   ]
  },
  {
   "cell_type": "markdown",
   "metadata": {
    "id": "7QXffbO-_Zcu"
   },
   "source": [
    "Создайте c помощью конструктора `pd.DataFrame` таблицу, где\n",
    "* названия колонок — `['city', 'monday', 'wednesday', 'friday']`;\n",
    "* данные — результаты, которые вы получили с помощью `number_tracks`."
   ]
  },
  {
   "cell_type": "code",
   "execution_count": 27,
   "metadata": {
    "id": "APAcLpOr_Zcu"
   },
   "outputs": [
    {
     "data": {
      "text/html": [
       "<div>\n",
       "<style scoped>\n",
       "    .dataframe tbody tr th:only-of-type {\n",
       "        vertical-align: middle;\n",
       "    }\n",
       "\n",
       "    .dataframe tbody tr th {\n",
       "        vertical-align: top;\n",
       "    }\n",
       "\n",
       "    .dataframe thead th {\n",
       "        text-align: right;\n",
       "    }\n",
       "</style>\n",
       "<table border=\"1\" class=\"dataframe\">\n",
       "  <thead>\n",
       "    <tr style=\"text-align: right;\">\n",
       "      <th></th>\n",
       "      <th>city</th>\n",
       "      <th>monday</th>\n",
       "      <th>wednesday</th>\n",
       "      <th>friday</th>\n",
       "    </tr>\n",
       "  </thead>\n",
       "  <tbody>\n",
       "    <tr>\n",
       "      <td>0</td>\n",
       "      <td>Moscow</td>\n",
       "      <td>15740</td>\n",
       "      <td>11056</td>\n",
       "      <td>15945</td>\n",
       "    </tr>\n",
       "    <tr>\n",
       "      <td>1</td>\n",
       "      <td>Saint-Petersburg</td>\n",
       "      <td>5614</td>\n",
       "      <td>7003</td>\n",
       "      <td>5895</td>\n",
       "    </tr>\n",
       "  </tbody>\n",
       "</table>\n",
       "</div>"
      ],
      "text/plain": [
       "               city  monday  wednesday  friday\n",
       "0            Moscow   15740      11056   15945\n",
       "1  Saint-Petersburg    5614       7003    5895"
      ]
     },
     "metadata": {},
     "output_type": "display_data"
    }
   ],
   "source": [
    "# Таблица с результатами\n",
    "\n",
    "columns = ['city', 'monday', 'wednesday', 'friday']\n",
    "data = [['Moscow', 15740, 11056, 15945],\n",
    "       ['Saint-Petersburg', 5614, 7003, 5895]]\n",
    "\n",
    "research_result = pd.DataFrame(data=data,columns=columns)\n",
    "display(research_result)"
   ]
  },
  {
   "cell_type": "markdown",
   "metadata": {
    "id": "-EgPIHYu_Zcu"
   },
   "source": [
    "**Выводы**\n",
    "\n",
    "Данные показывают разницу поведения пользователей:\n",
    "\n",
    "- В Москве пик прослушиваний приходится на понедельник и пятницу, а в среду заметен спад.\n",
    "- В Петербурге, наоборот, больше слушают музыку по средам. Активность в понедельник и пятницу здесь почти в равной мере уступает среде.\n",
    "\n",
    "Значит, данные говорят в пользу первой гипотезы."
   ]
  },
  {
   "cell_type": "markdown",
   "metadata": {
    "id": "atZAxtq4_Zcu"
   },
   "source": [
    "### Музыка в начале и в конце недели"
   ]
  },
  {
   "cell_type": "markdown",
   "metadata": {
    "id": "eXrQqXFH_Zcu"
   },
   "source": [
    "Согласно второй гипотезе, утром в понедельник в Москве преобладают одни жанры, а в Петербурге — другие. Так же и вечером пятницы преобладают разные жанры — в зависимости от города."
   ]
  },
  {
   "cell_type": "markdown",
   "metadata": {
    "id": "S8UcW6Hw_Zcu"
   },
   "source": [
    "Сохраните таблицы с данными в две переменные:\n",
    "* по Москве — в `moscow_general`;\n",
    "* по Санкт-Петербургу — в `spb_general`."
   ]
  },
  {
   "cell_type": "code",
   "execution_count": 28,
   "metadata": {
    "id": "qeaFfM_P_Zcu"
   },
   "outputs": [],
   "source": [
    "# получение таблицы moscow_general из тех строк таблицы df, \n",
    "# для которых значение в столбце 'city' равно 'Moscow'\n",
    "\n",
    "moscow_general = df.loc[df.loc[:,'city'] == 'Moscow']"
   ]
  },
  {
   "cell_type": "code",
   "execution_count": 29,
   "metadata": {
    "id": "ORaVRKto_Zcu"
   },
   "outputs": [],
   "source": [
    "# получение таблицы spb_general из тех строк таблицы df,\n",
    "# для которых значение в столбце 'city' равно 'Saint-Petersburg'\n",
    "\n",
    "spb_general = df.loc[df.loc[:,'city'] == 'Saint-Petersburg']"
   ]
  },
  {
   "cell_type": "markdown",
   "metadata": {
    "id": "MEJV-CX2_Zcu"
   },
   "source": [
    "Создайте функцию `genre_weekday()` с четырьмя параметрами:\n",
    "* таблица (датафрейм) с данными,\n",
    "* день недели,\n",
    "* начальная временная метка в формате 'hh:mm', \n",
    "* последняя временная метка в формате 'hh:mm'.\n",
    "\n",
    "Функция должна вернуть информацию о топ-10 жанров тех треков, которые прослушивали в указанный день, в промежутке между двумя отметками времени."
   ]
  },
  {
   "cell_type": "code",
   "execution_count": 30,
   "metadata": {
    "id": "laJT9BYl_Zcu"
   },
   "outputs": [],
   "source": [
    "# Объявление функции genre_weekday() с параметрами table, day, time1, time2,\n",
    "# которая возвращает информацию о самых популярных жанрах в указанный день в\n",
    "# заданное время:\n",
    "# 1) в переменную genre_df сохраняются те строки переданного датафрейма table, для\n",
    "#    которых одновременно:\n",
    "#    - значение в столбце day равно значению аргумента day\n",
    "#    - значение в столбце time больше значения аргумента time1\n",
    "#    - значение в столбце time меньше значения аргумента time2\n",
    "#    Используйте последовательную фильтрацию с помощью логической индексации.\n",
    "# 2) сгруппировать датафрейм genre_df по столбцу genre, взять один из его\n",
    "#    столбцов и посчитать методом count() количество записей для каждого из\n",
    "#    присутствующих жанров, получившийся Series записать в переменную\n",
    "#    genre_df_count\n",
    "# 3) отсортировать genre_df_count по убыванию встречаемости и сохранить\n",
    "#    в переменную genre_df_sorted\n",
    "# 4) вернуть Series из 10 первых значений genre_df_sorted, это будут топ-10\n",
    "#    популярных жанров (в указанный день, в заданное время)\n",
    "\n",
    "def genre_weekday(table, day, time1, time2):\n",
    "    genre_df = table.loc[table.loc[:,'day'] == day]\n",
    "    genre_df = genre_df.loc[genre_df.loc[:,'time'] > time1]\n",
    "    genre_df = genre_df.loc[genre_df.loc[:,'time'] < time2]\n",
    "    \n",
    "    genre_df_count = genre_df.groupby('genre')['user_id'].count()\n",
    "    \n",
    "    genre_df_sorted = genre_df_count.sort_values(ascending=False)\n",
    "    \n",
    "    return genre_df_sorted.head(10)\n"
   ]
  },
  {
   "cell_type": "markdown",
   "metadata": {
    "id": "la2s2_PF_Zcu"
   },
   "source": [
    "Cравните результаты функции `genre_weekday()` для Москвы и Санкт-Петербурга в понедельник утром (с 7:00 до 11:00) и в пятницу вечером (с 17:00 до 23:00):"
   ]
  },
  {
   "cell_type": "code",
   "execution_count": 31,
   "metadata": {
    "id": "yz7itPUQ_Zcu"
   },
   "outputs": [
    {
     "data": {
      "text/plain": [
       "genre\n",
       "pop            781\n",
       "dance          549\n",
       "electronic     480\n",
       "rock           474\n",
       "hiphop         286\n",
       "ruspop         186\n",
       "world          181\n",
       "rusrap         175\n",
       "alternative    164\n",
       "unknown        161\n",
       "Name: user_id, dtype: int64"
      ]
     },
     "execution_count": 31,
     "metadata": {},
     "output_type": "execute_result"
    }
   ],
   "source": [
    "# вызов функции для утра понедельника в Москве (вместо df — таблица moscow_general)\n",
    "# объекты, хранящие время, являются строками и сравниваются как строки\n",
    "# пример вызова: genre_weekday(moscow_general, 'Monday', '07:00', '11:00')\n",
    "\n",
    "genre_weekday(moscow_general, 'Monday', '07:00', '11:00')"
   ]
  },
  {
   "cell_type": "code",
   "execution_count": 32,
   "metadata": {
    "id": "kwUcHPdy_Zcu"
   },
   "outputs": [
    {
     "data": {
      "text/plain": [
       "genre\n",
       "pop            218\n",
       "dance          182\n",
       "rock           162\n",
       "electronic     147\n",
       "hiphop          80\n",
       "ruspop          64\n",
       "alternative     58\n",
       "rusrap          55\n",
       "jazz            44\n",
       "classical       40\n",
       "Name: user_id, dtype: int64"
      ]
     },
     "execution_count": 32,
     "metadata": {},
     "output_type": "execute_result"
    }
   ],
   "source": [
    "# вызов функции для утра понедельника в Петербурге (вместо df — таблица spb_general)\n",
    "\n",
    "genre_weekday(spb_general, 'Monday', '07:00', '11:00')"
   ]
  },
  {
   "cell_type": "code",
   "execution_count": 33,
   "metadata": {
    "id": "EzXVRE1o_Zcu"
   },
   "outputs": [
    {
     "data": {
      "text/plain": [
       "genre\n",
       "pop            713\n",
       "rock           517\n",
       "dance          495\n",
       "electronic     482\n",
       "hiphop         273\n",
       "world          208\n",
       "ruspop         170\n",
       "alternative    163\n",
       "classical      163\n",
       "rusrap         142\n",
       "Name: user_id, dtype: int64"
      ]
     },
     "execution_count": 33,
     "metadata": {},
     "output_type": "execute_result"
    }
   ],
   "source": [
    "# вызов функции для вечера пятницы в Москве\n",
    "\n",
    "genre_weekday(moscow_general, 'Friday', '17:00', '23:00')"
   ]
  },
  {
   "cell_type": "code",
   "execution_count": 34,
   "metadata": {
    "id": "JZaEKu5v_Zcu"
   },
   "outputs": [
    {
     "data": {
      "text/plain": [
       "genre\n",
       "pop            256\n",
       "rock           216\n",
       "electronic     216\n",
       "dance          210\n",
       "hiphop          97\n",
       "alternative     63\n",
       "jazz            61\n",
       "classical       60\n",
       "rusrap          59\n",
       "world           54\n",
       "Name: user_id, dtype: int64"
      ]
     },
     "execution_count": 34,
     "metadata": {},
     "output_type": "execute_result"
    }
   ],
   "source": [
    "# вызов функции для вечера пятницы в Петербурге\n",
    "\n",
    "genre_weekday(spb_general, 'Friday', '17:00', '23:00')"
   ]
  },
  {
   "cell_type": "markdown",
   "metadata": {},
   "source": [
    "<div class=\"alert alert-success\">\n",
    "    \n",
    "<b> Комментарий от ревьюера ✔️</b>\n",
    "    \n",
    "С помощью функции мы получили всю нужную информацию!\n",
    "</div>\n"
   ]
  },
  {
   "cell_type": "markdown",
   "metadata": {
    "id": "wrCe4MNX_Zcu"
   },
   "source": [
    "**Выводы**\n",
    "\n",
    "Если сравнить топ-10 жанров в понедельник утром, можно сделать такие выводы:\n",
    "\n",
    "1. В Москве и Петербурге слушают похожую музыку. Единственное отличие — в московский рейтинг вошёл жанр “world”, а в петербургский — джаз и классика.\n",
    "\n",
    "2. В Москве пропущенных значений оказалось так много, что значение `'unknown'` заняло десятое место среди самых популярных жанров. Значит, пропущенные значения занимают существенную долю в данных и угрожают достоверности исследования.\n",
    "\n",
    "Вечер пятницы не меняет эту картину. Некоторые жанры поднимаются немного выше, другие спускаются, но в целом топ-10 остаётся тем же самым.\n",
    "\n",
    "Таким образом, вторая гипотеза подтвердилась лишь частично:\n",
    "* Пользователи слушают похожую музыку в начале недели и в конце.\n",
    "* Разница между Москвой и Петербургом не слишком выражена. В Москве чаще слушают русскую популярную музыку, в Петербурге — джаз.\n",
    "\n",
    "Однако пропуски в данных ставят под сомнение этот результат. В Москве их так много, что рейтинг топ-10 мог бы выглядеть иначе, если бы не утерянные  данные о жанрах."
   ]
  },
  {
   "cell_type": "markdown",
   "metadata": {
    "id": "JolODAqr_Zcu"
   },
   "source": [
    "### Жанровые предпочтения в Москве и Петербурге\n",
    "\n",
    "Гипотеза: Петербург — столица рэпа, музыку этого жанра там слушают чаще, чем в Москве.  А Москва — город контрастов, в котором, тем не менее, преобладает поп-музыка."
   ]
  },
  {
   "cell_type": "markdown",
   "metadata": {
    "id": "DlegSvaT_Zcu"
   },
   "source": [
    "Сгруппируйте таблицу `moscow_general` по жанру и посчитайте прослушивания треков каждого жанра методом `count()`. Затем отсортируйте результат в порядке убывания и сохраните его в таблице `moscow_genres`."
   ]
  },
  {
   "cell_type": "code",
   "execution_count": 35,
   "metadata": {
    "id": "r19lIPke_Zcu"
   },
   "outputs": [],
   "source": [
    "# одной строкой: группировка таблицы moscow_general по столбцу 'genre', \n",
    "# подсчёт числа значений 'genre' в этой группировке методом count(), \n",
    "# сортировка получившегося Series в порядке убывания и сохранение в moscow_genres\n",
    "\n",
    "moscow_genres = moscow_general.groupby('genre')['user_id'].count().sort_values(ascending=False)"
   ]
  },
  {
   "cell_type": "markdown",
   "metadata": {
    "id": "6kMuomxTiIr8"
   },
   "source": [
    "Выведите на экран первые десять строк `moscow_genres`:"
   ]
  },
  {
   "cell_type": "code",
   "execution_count": 36,
   "metadata": {
    "id": "WhCSooF8_Zcv"
   },
   "outputs": [
    {
     "data": {
      "text/plain": [
       "genre\n",
       "pop            5892\n",
       "dance          4435\n",
       "rock           3965\n",
       "electronic     3786\n",
       "hiphop         2096\n",
       "classical      1616\n",
       "world          1432\n",
       "alternative    1379\n",
       "ruspop         1372\n",
       "rusrap         1161\n",
       "Name: user_id, dtype: int64"
      ]
     },
     "execution_count": 36,
     "metadata": {},
     "output_type": "execute_result"
    }
   ],
   "source": [
    "# просмотр первых 10 строк moscow_genres\n",
    "\n",
    "moscow_genres.head(10)"
   ]
  },
  {
   "cell_type": "markdown",
   "metadata": {
    "id": "cnPG2vnN_Zcv"
   },
   "source": [
    "Теперь повторите то же и для Петербурга.\n",
    "\n",
    "Сгруппируйте таблицу `spb_general` по жанру. Посчитайте прослушивания треков каждого жанра. Результат отсортируйте в порядке убывания и сохраните в таблице `spb_genres`:\n"
   ]
  },
  {
   "cell_type": "code",
   "execution_count": 37,
   "metadata": {
    "id": "gluLIpE7_Zcv"
   },
   "outputs": [],
   "source": [
    "# одной строкой: группировка таблицы spb_general по столбцу 'genre', \n",
    "# подсчёт числа значений 'genre' в этой группировке методом count(), \n",
    "# сортировка получившегося Series в порядке убывания и сохранение в spb_genres\n",
    "\n",
    "spb_genres = spb_general.groupby('genre')['user_id'].count().sort_values(ascending=False)"
   ]
  },
  {
   "cell_type": "markdown",
   "metadata": {
    "id": "5Doha_ODgyQ8"
   },
   "source": [
    "Выведите на экран первые десять строк `spb_genres`:"
   ]
  },
  {
   "cell_type": "code",
   "execution_count": 38,
   "metadata": {
    "id": "uaGJHjVU_Zcv"
   },
   "outputs": [
    {
     "data": {
      "text/plain": [
       "genre\n",
       "pop            2431\n",
       "dance          1932\n",
       "rock           1879\n",
       "electronic     1736\n",
       "hiphop          960\n",
       "alternative     649\n",
       "classical       646\n",
       "rusrap          564\n",
       "ruspop          538\n",
       "world           515\n",
       "Name: user_id, dtype: int64"
      ]
     },
     "execution_count": 38,
     "metadata": {},
     "output_type": "execute_result"
    }
   ],
   "source": [
    "# просмотр первых 10 строк spb_genres\n",
    "\n",
    "spb_genres.head(10)"
   ]
  },
  {
   "cell_type": "markdown",
   "metadata": {},
   "source": [
    "\n",
    "<div class=\"alert alert-success\">\n",
    "    \n",
    "<b> Комментарий от ревьюера ✔️</b>\n",
    "    \n",
    "Супер! Теперь мы знаем список популярных жанров для каждого города\n",
    "</div>\n"
   ]
  },
  {
   "cell_type": "markdown",
   "metadata": {},
   "source": [
    "<div class=\"alert alert-success\">\n",
    "<b> Комментарий от ревьюера ✔️</b>\n",
    "\n",
    "Спасибо за твою работу. Вижу, ты хорошо освоил материал первого спринта и без проблем применяешь методы pandas'а для обработки данных.\n",
    "    \n",
    "Поправь, пожалуйста, функцию number_tracks\n",
    "    \n",
    "Задавай вопросы к моим комментриям, если есть. Жду твои исправления\n",
    "</div>\n"
   ]
  },
  {
   "cell_type": "markdown",
   "metadata": {},
   "source": [
    "<div class=\"alert alert-success\">\n",
    "<b> Комментарий от ревьюера 2 ✔️</b>\n",
    "\n",
    "Спасибо, что учел мои комментарии. Надеюсь, эта работа была полезна для тебя. Я принимаю проект и желаю удачи в прохождении курса!\n",
    "\n",
    "</div>"
   ]
  },
  {
   "cell_type": "markdown",
   "metadata": {
    "id": "RY51YJYu_Zcv"
   },
   "source": [
    "**Выводы**"
   ]
  },
  {
   "cell_type": "markdown",
   "metadata": {
    "id": "nVhnJEm__Zcv"
   },
   "source": [
    "Гипотеза частично подтвердилась:\n",
    "* Поп-музыка — самый популярный жанр в Москве, как и предполагала гипотеза. Более того, в топ-10 жанров встречается близкий жанр — русская популярная музыка.\n",
    "* Вопреки ожиданиям, рэп одинаково популярен в Москве и Петербурге. \n"
   ]
  },
  {
   "cell_type": "markdown",
   "metadata": {
    "id": "ykKQ0N65_Zcv"
   },
   "source": [
    "## Итоги исследования"
   ]
  },
  {
   "cell_type": "markdown",
   "metadata": {
    "id": "tjUwbHb3_Zcv"
   },
   "source": [
    "Вы проверили три гипотезы и установили:\n",
    "\n",
    "1. День недели по-разному влияет на активность пользователей в Москве и Петербурге. \n",
    "\n",
    "Первая гипотеза полностью подтвердилась.\n",
    "\n",
    "2. Музыкальные предпочтения не сильно меняются в течение недели — будь то Москва или Петербург. Небольшие различия заметны в начале недели, по понедельникам:\n",
    "* в Москве слушают музыку жанра “world”,\n",
    "* в Петербурге — джаз и классику.\n",
    "\n",
    "Таким образом, вторая гипотеза подтвердилась лишь отчасти. Этот результат мог оказаться иным, если бы не пропуски в данных.\n",
    "\n",
    "3. Во вкусах пользователей Москвы и Петербурга больше общего чем различий. Вопреки ожиданиям, предпочтения жанров в Петербурге напоминают московские.\n",
    "\n",
    "Третья гипотеза не подтвердилась. Если различия в предпочтениях и существуют, на основной массе пользователей они незаметны.\n",
    "\n",
    "**На практике исследования содержат проверки статистических гипотез.**\n",
    "Из данных одного сервиса не всегда можно сделать вывод о всех жителях города.\n",
    "Проверки статистических гипотез покажут, насколько они достоверны, исходя из имеющихся данных. \n",
    "С методами проверок гипотез вы ещё познакомитесь в следующих темах."
   ]
  }
 ],
 "metadata": {
  "ExecuteTimeLog": [
   {
    "duration": 515,
    "start_time": "2022-01-22T10:18:33.692Z"
   },
   {
    "duration": 149,
    "start_time": "2022-01-22T10:19:12.099Z"
   },
   {
    "duration": 16,
    "start_time": "2022-01-22T10:19:13.920Z"
   },
   {
    "duration": 26,
    "start_time": "2022-01-22T10:19:31.004Z"
   },
   {
    "duration": 280,
    "start_time": "2022-01-22T10:24:20.203Z"
   },
   {
    "duration": 4,
    "start_time": "2022-01-22T10:24:23.883Z"
   },
   {
    "duration": 4,
    "start_time": "2022-01-22T10:24:29.155Z"
   },
   {
    "duration": 4,
    "start_time": "2022-01-22T10:24:31.086Z"
   },
   {
    "duration": 3,
    "start_time": "2022-01-22T10:24:36.346Z"
   },
   {
    "duration": 3,
    "start_time": "2022-01-22T10:29:12.262Z"
   },
   {
    "duration": 4,
    "start_time": "2022-01-22T10:29:17.956Z"
   },
   {
    "duration": 10,
    "start_time": "2022-01-22T10:30:23.211Z"
   },
   {
    "duration": 24,
    "start_time": "2022-01-22T10:30:32.548Z"
   },
   {
    "duration": 1236,
    "start_time": "2022-01-22T10:31:14.326Z"
   },
   {
    "duration": 19,
    "start_time": "2022-01-22T10:31:21.387Z"
   },
   {
    "duration": 4,
    "start_time": "2022-01-22T10:31:23.297Z"
   },
   {
    "duration": 22,
    "start_time": "2022-01-22T10:32:30.583Z"
   },
   {
    "duration": 22,
    "start_time": "2022-01-22T10:32:41.590Z"
   },
   {
    "duration": 22,
    "start_time": "2022-01-22T10:33:05.691Z"
   },
   {
    "duration": 3,
    "start_time": "2022-01-22T10:43:53.302Z"
   },
   {
    "duration": 21,
    "start_time": "2022-01-22T10:43:57.101Z"
   },
   {
    "duration": 15,
    "start_time": "2022-01-22T10:45:22.812Z"
   },
   {
    "duration": 22,
    "start_time": "2022-01-22T10:45:25.139Z"
   },
   {
    "duration": 2,
    "start_time": "2022-01-22T10:46:29.139Z"
   },
   {
    "duration": 140,
    "start_time": "2022-01-22T10:46:31.088Z"
   },
   {
    "duration": 10,
    "start_time": "2022-01-22T10:46:32.574Z"
   },
   {
    "duration": 25,
    "start_time": "2022-01-22T10:46:35.637Z"
   },
   {
    "duration": 4,
    "start_time": "2022-01-22T10:46:41.989Z"
   },
   {
    "duration": 18,
    "start_time": "2022-01-22T10:46:44.311Z"
   },
   {
    "duration": 4,
    "start_time": "2022-01-22T10:46:46.316Z"
   },
   {
    "duration": 21,
    "start_time": "2022-01-22T10:46:48.663Z"
   },
   {
    "duration": 15,
    "start_time": "2022-01-22T10:46:55.691Z"
   },
   {
    "duration": 22,
    "start_time": "2022-01-22T10:46:57.538Z"
   },
   {
    "duration": 55,
    "start_time": "2022-01-22T11:01:54.029Z"
   },
   {
    "duration": 2,
    "start_time": "2022-01-22T11:02:27.241Z"
   },
   {
    "duration": 64,
    "start_time": "2022-01-22T11:02:29.986Z"
   },
   {
    "duration": 52,
    "start_time": "2022-01-22T11:02:36.513Z"
   },
   {
    "duration": 348,
    "start_time": "2022-01-22T13:34:49.166Z"
   },
   {
    "duration": 282,
    "start_time": "2022-01-22T13:35:33.142Z"
   },
   {
    "duration": 534,
    "start_time": "2022-01-22T13:36:02.626Z"
   },
   {
    "duration": 782,
    "start_time": "2022-01-22T13:36:11.072Z"
   },
   {
    "duration": 177,
    "start_time": "2022-01-22T13:36:13.508Z"
   },
   {
    "duration": 25,
    "start_time": "2022-01-22T13:36:16.251Z"
   },
   {
    "duration": 6,
    "start_time": "2022-01-22T13:36:19.610Z"
   },
   {
    "duration": 25,
    "start_time": "2022-01-22T13:36:24.445Z"
   },
   {
    "duration": 6,
    "start_time": "2022-01-22T13:36:25.739Z"
   },
   {
    "duration": 32,
    "start_time": "2022-01-22T13:36:27.203Z"
   },
   {
    "duration": 22,
    "start_time": "2022-01-22T13:36:29.713Z"
   },
   {
    "duration": 29,
    "start_time": "2022-01-22T13:36:30.867Z"
   },
   {
    "duration": 81,
    "start_time": "2022-01-22T13:36:33.594Z"
   },
   {
    "duration": 96,
    "start_time": "2022-01-22T13:36:35.920Z"
   },
   {
    "duration": 76,
    "start_time": "2022-01-22T13:36:37.440Z"
   },
   {
    "duration": 10,
    "start_time": "2022-01-22T13:36:40.041Z"
   },
   {
    "duration": 7,
    "start_time": "2022-01-22T13:38:53.354Z"
   },
   {
    "duration": 416,
    "start_time": "2022-01-22T13:39:59.413Z"
   },
   {
    "duration": 300,
    "start_time": "2022-01-22T13:40:43.001Z"
   },
   {
    "duration": 80,
    "start_time": "2022-01-22T13:41:55.370Z"
   },
   {
    "duration": 72,
    "start_time": "2022-01-22T13:42:31.072Z"
   },
   {
    "duration": 4,
    "start_time": "2022-01-22T13:49:38.254Z"
   },
   {
    "duration": 14,
    "start_time": "2022-01-22T13:49:42.070Z"
   },
   {
    "duration": 4,
    "start_time": "2022-01-22T13:49:53.054Z"
   },
   {
    "duration": 76,
    "start_time": "2022-01-22T13:49:55.842Z"
   },
   {
    "duration": 4,
    "start_time": "2022-01-22T13:51:13.699Z"
   },
   {
    "duration": 14,
    "start_time": "2022-01-22T13:51:15.270Z"
   },
   {
    "duration": 72,
    "start_time": "2022-01-22T13:51:16.878Z"
   },
   {
    "duration": 71,
    "start_time": "2022-01-22T13:54:34.264Z"
   },
   {
    "duration": 4,
    "start_time": "2022-01-22T13:54:48.629Z"
   },
   {
    "duration": 13,
    "start_time": "2022-01-22T13:54:50.030Z"
   },
   {
    "duration": 72,
    "start_time": "2022-01-22T13:54:53.273Z"
   },
   {
    "duration": 78,
    "start_time": "2022-01-22T13:55:10.420Z"
   },
   {
    "duration": 4,
    "start_time": "2022-01-22T13:55:19.321Z"
   },
   {
    "duration": 181,
    "start_time": "2022-01-22T13:55:19.328Z"
   },
   {
    "duration": 16,
    "start_time": "2022-01-22T13:55:19.512Z"
   },
   {
    "duration": 58,
    "start_time": "2022-01-22T13:55:19.531Z"
   },
   {
    "duration": 5,
    "start_time": "2022-01-22T13:55:19.592Z"
   },
   {
    "duration": 26,
    "start_time": "2022-01-22T13:55:19.600Z"
   },
   {
    "duration": 5,
    "start_time": "2022-01-22T13:55:19.629Z"
   },
   {
    "duration": 56,
    "start_time": "2022-01-22T13:55:19.637Z"
   },
   {
    "duration": 28,
    "start_time": "2022-01-22T13:55:19.696Z"
   },
   {
    "duration": 45,
    "start_time": "2022-01-22T13:55:19.727Z"
   },
   {
    "duration": 98,
    "start_time": "2022-01-22T13:55:19.775Z"
   },
   {
    "duration": 104,
    "start_time": "2022-01-22T13:55:19.876Z"
   },
   {
    "duration": 83,
    "start_time": "2022-01-22T13:55:19.983Z"
   },
   {
    "duration": 78,
    "start_time": "2022-01-22T13:55:20.068Z"
   },
   {
    "duration": 4,
    "start_time": "2022-01-22T13:55:32.679Z"
   },
   {
    "duration": 15,
    "start_time": "2022-01-22T13:55:35.813Z"
   },
   {
    "duration": 81,
    "start_time": "2022-01-22T13:55:42.534Z"
   },
   {
    "duration": 4,
    "start_time": "2022-01-22T14:00:22.695Z"
   },
   {
    "duration": 42,
    "start_time": "2022-01-22T14:02:05.409Z"
   },
   {
    "duration": 21,
    "start_time": "2022-01-22T14:02:55.382Z"
   },
   {
    "duration": 3,
    "start_time": "2022-01-22T14:04:03.279Z"
   },
   {
    "duration": 16,
    "start_time": "2022-01-22T14:04:26.443Z"
   },
   {
    "duration": 20,
    "start_time": "2022-01-22T14:06:25.257Z"
   },
   {
    "duration": 293,
    "start_time": "2022-01-22T14:06:38.330Z"
   },
   {
    "duration": 15,
    "start_time": "2022-01-22T14:06:43.538Z"
   },
   {
    "duration": 22,
    "start_time": "2022-01-22T14:07:00.181Z"
   },
   {
    "duration": 14,
    "start_time": "2022-01-22T14:07:20.906Z"
   },
   {
    "duration": 13,
    "start_time": "2022-01-22T14:07:32.455Z"
   },
   {
    "duration": 46,
    "start_time": "2022-01-22T14:08:20.068Z"
   },
   {
    "duration": 42,
    "start_time": "2022-01-22T14:08:38.744Z"
   },
   {
    "duration": 334,
    "start_time": "2022-01-22T14:18:06.182Z"
   },
   {
    "duration": 299,
    "start_time": "2022-01-22T14:18:12.754Z"
   },
   {
    "duration": 286,
    "start_time": "2022-01-22T14:18:18.612Z"
   },
   {
    "duration": 5,
    "start_time": "2022-01-22T14:19:00.606Z"
   },
   {
    "duration": 335,
    "start_time": "2022-01-22T14:19:30.270Z"
   },
   {
    "duration": 92,
    "start_time": "2022-01-22T14:19:44.483Z"
   },
   {
    "duration": 90,
    "start_time": "2022-01-22T14:20:13.640Z"
   },
   {
    "duration": 92,
    "start_time": "2022-01-22T14:20:18.470Z"
   },
   {
    "duration": 95,
    "start_time": "2022-01-22T14:20:33.007Z"
   },
   {
    "duration": 59,
    "start_time": "2022-01-22T14:21:40.846Z"
   },
   {
    "duration": 61,
    "start_time": "2022-01-22T14:21:47.436Z"
   },
   {
    "duration": 57,
    "start_time": "2022-01-22T14:21:55.735Z"
   },
   {
    "duration": 100,
    "start_time": "2022-01-22T14:22:19.135Z"
   },
   {
    "duration": 58,
    "start_time": "2022-01-22T14:22:24.246Z"
   },
   {
    "duration": 50,
    "start_time": "2022-01-22T14:26:45.158Z"
   },
   {
    "duration": 63,
    "start_time": "2022-01-22T14:26:55.882Z"
   },
   {
    "duration": 99,
    "start_time": "2022-01-22T14:27:18.740Z"
   },
   {
    "duration": 293,
    "start_time": "2022-01-22T14:27:39.493Z"
   },
   {
    "duration": 69,
    "start_time": "2022-01-22T14:27:47.802Z"
   },
   {
    "duration": 62,
    "start_time": "2022-01-22T14:27:55.469Z"
   },
   {
    "duration": 62,
    "start_time": "2022-01-22T14:28:01.738Z"
   },
   {
    "duration": 37,
    "start_time": "2022-01-22T14:28:35.946Z"
   },
   {
    "duration": 42,
    "start_time": "2022-01-22T14:28:49.681Z"
   },
   {
    "duration": 29,
    "start_time": "2022-01-22T14:29:06.706Z"
   },
   {
    "duration": 59,
    "start_time": "2022-01-22T14:32:04.657Z"
   },
   {
    "duration": 53,
    "start_time": "2022-01-22T14:32:16.530Z"
   },
   {
    "duration": 70,
    "start_time": "2022-01-22T14:32:22.001Z"
   },
   {
    "duration": 58,
    "start_time": "2022-01-22T14:32:24.894Z"
   },
   {
    "duration": 62,
    "start_time": "2022-01-22T14:32:37.652Z"
   },
   {
    "duration": 58,
    "start_time": "2022-01-22T14:32:45.498Z"
   },
   {
    "duration": 47,
    "start_time": "2022-01-22T14:32:51.751Z"
   },
   {
    "duration": 5,
    "start_time": "2022-01-22T14:33:45.846Z"
   },
   {
    "duration": 51,
    "start_time": "2022-01-22T14:36:11.585Z"
   },
   {
    "duration": 58,
    "start_time": "2022-01-22T14:36:25.107Z"
   },
   {
    "duration": 54,
    "start_time": "2022-01-22T14:36:29.797Z"
   },
   {
    "duration": 36,
    "start_time": "2022-01-22T14:36:32.118Z"
   },
   {
    "duration": 62,
    "start_time": "2022-01-22T14:36:35.019Z"
   },
   {
    "duration": 39,
    "start_time": "2022-01-22T14:36:37.272Z"
   },
   {
    "duration": 4,
    "start_time": "2022-01-22T14:37:44.692Z"
   },
   {
    "duration": 6,
    "start_time": "2022-01-22T14:41:18.820Z"
   },
   {
    "duration": 12,
    "start_time": "2022-01-22T14:41:29.110Z"
   },
   {
    "duration": 15,
    "start_time": "2022-01-22T14:46:14.041Z"
   },
   {
    "duration": 46,
    "start_time": "2022-01-22T14:46:19.846Z"
   },
   {
    "duration": 12,
    "start_time": "2022-01-22T14:46:40.749Z"
   },
   {
    "duration": 315,
    "start_time": "2022-01-22T14:50:05.954Z"
   },
   {
    "duration": 299,
    "start_time": "2022-01-22T14:50:16.250Z"
   },
   {
    "duration": 29,
    "start_time": "2022-01-22T14:50:28.440Z"
   },
   {
    "duration": 19,
    "start_time": "2022-01-22T14:50:44.659Z"
   },
   {
    "duration": 26,
    "start_time": "2022-01-22T14:51:16.149Z"
   },
   {
    "duration": 12,
    "start_time": "2022-01-22T14:51:24.611Z"
   },
   {
    "duration": 746,
    "start_time": "2022-01-22T17:38:22.530Z"
   },
   {
    "duration": 213,
    "start_time": "2022-01-22T17:38:23.280Z"
   },
   {
    "duration": 38,
    "start_time": "2022-01-22T17:38:23.497Z"
   },
   {
    "duration": 44,
    "start_time": "2022-01-22T17:38:23.538Z"
   },
   {
    "duration": 6,
    "start_time": "2022-01-22T17:38:23.585Z"
   },
   {
    "duration": 51,
    "start_time": "2022-01-22T17:38:23.595Z"
   },
   {
    "duration": 8,
    "start_time": "2022-01-22T17:38:23.648Z"
   },
   {
    "duration": 30,
    "start_time": "2022-01-22T17:38:23.661Z"
   },
   {
    "duration": 47,
    "start_time": "2022-01-22T17:38:23.694Z"
   },
   {
    "duration": 26,
    "start_time": "2022-01-22T17:38:23.744Z"
   },
   {
    "duration": 95,
    "start_time": "2022-01-22T17:38:23.773Z"
   },
   {
    "duration": 101,
    "start_time": "2022-01-22T17:38:23.871Z"
   },
   {
    "duration": 84,
    "start_time": "2022-01-22T17:38:23.974Z"
   },
   {
    "duration": 79,
    "start_time": "2022-01-22T17:38:24.060Z"
   },
   {
    "duration": 3,
    "start_time": "2022-01-22T17:38:24.142Z"
   },
   {
    "duration": 14,
    "start_time": "2022-01-22T17:38:24.147Z"
   },
   {
    "duration": 96,
    "start_time": "2022-01-22T17:38:24.164Z"
   },
   {
    "duration": 38,
    "start_time": "2022-01-22T17:38:24.262Z"
   },
   {
    "duration": 59,
    "start_time": "2022-01-22T17:38:24.302Z"
   },
   {
    "duration": 6,
    "start_time": "2022-01-22T17:38:24.364Z"
   },
   {
    "duration": 76,
    "start_time": "2022-01-22T17:38:24.373Z"
   },
   {
    "duration": 34,
    "start_time": "2022-01-22T17:38:24.452Z"
   },
   {
    "duration": 59,
    "start_time": "2022-01-22T17:38:24.491Z"
   },
   {
    "duration": 32,
    "start_time": "2022-01-22T17:38:24.553Z"
   },
   {
    "duration": 72,
    "start_time": "2022-01-22T17:38:24.588Z"
   },
   {
    "duration": 32,
    "start_time": "2022-01-22T17:38:24.663Z"
   },
   {
    "duration": 33,
    "start_time": "2022-01-22T17:38:24.698Z"
   },
   {
    "duration": 19,
    "start_time": "2022-01-22T17:38:24.734Z"
   },
   {
    "duration": 11,
    "start_time": "2022-01-22T17:38:24.756Z"
   },
   {
    "duration": 26,
    "start_time": "2022-01-22T17:44:11.818Z"
   },
   {
    "duration": 47,
    "start_time": "2022-01-22T17:46:30.691Z"
   },
   {
    "duration": 555,
    "start_time": "2022-01-22T17:47:07.787Z"
   },
   {
    "duration": 483,
    "start_time": "2022-01-22T17:47:20.022Z"
   },
   {
    "duration": 28,
    "start_time": "2022-01-22T17:47:34.474Z"
   },
   {
    "duration": 30,
    "start_time": "2022-01-22T17:47:46.594Z"
   },
   {
    "duration": 28,
    "start_time": "2022-01-22T17:47:53.291Z"
   },
   {
    "duration": 28,
    "start_time": "2022-01-22T17:48:39.533Z"
   },
   {
    "duration": 26,
    "start_time": "2022-01-22T17:48:58.372Z"
   },
   {
    "duration": 6,
    "start_time": "2022-01-22T17:49:35.306Z"
   },
   {
    "duration": 24,
    "start_time": "2022-01-22T17:50:30.877Z"
   },
   {
    "duration": 17,
    "start_time": "2022-01-22T17:50:33.585Z"
   },
   {
    "duration": 21,
    "start_time": "2022-01-22T17:51:00.268Z"
   },
   {
    "duration": 17,
    "start_time": "2022-01-22T17:51:12.722Z"
   },
   {
    "duration": 291,
    "start_time": "2022-01-22T17:54:24.211Z"
   },
   {
    "duration": 27,
    "start_time": "2022-01-22T17:54:39.411Z"
   },
   {
    "duration": 38,
    "start_time": "2022-01-22T17:54:43.739Z"
   },
   {
    "duration": 304,
    "start_time": "2022-01-22T17:54:59.688Z"
   },
   {
    "duration": 36,
    "start_time": "2022-01-22T17:55:14.539Z"
   },
   {
    "duration": 39,
    "start_time": "2022-01-22T17:55:45.476Z"
   },
   {
    "duration": 36,
    "start_time": "2022-01-22T17:55:54.926Z"
   },
   {
    "duration": 38,
    "start_time": "2022-01-22T17:56:18.899Z"
   },
   {
    "duration": 14,
    "start_time": "2022-01-22T17:56:41.667Z"
   },
   {
    "duration": 365,
    "start_time": "2022-01-22T17:56:50.293Z"
   },
   {
    "duration": 288,
    "start_time": "2022-01-22T17:57:13.772Z"
   },
   {
    "duration": 14,
    "start_time": "2022-01-22T17:57:17.707Z"
   },
   {
    "duration": 307,
    "start_time": "2022-01-22T17:57:24.572Z"
   },
   {
    "duration": 14,
    "start_time": "2022-01-22T17:57:37.609Z"
   },
   {
    "duration": 11,
    "start_time": "2022-01-22T17:57:52.523Z"
   },
   {
    "duration": 7,
    "start_time": "2022-01-22T17:58:07.483Z"
   },
   {
    "duration": 6,
    "start_time": "2022-01-22T17:58:14.731Z"
   },
   {
    "duration": 7,
    "start_time": "2022-01-22T17:58:18.962Z"
   },
   {
    "duration": 3,
    "start_time": "2022-01-22T17:58:31.171Z"
   },
   {
    "duration": 9,
    "start_time": "2022-01-22T17:58:51.179Z"
   },
   {
    "duration": 6,
    "start_time": "2022-01-22T17:58:59.507Z"
   },
   {
    "duration": 3,
    "start_time": "2022-01-22T18:00:36.228Z"
   },
   {
    "duration": 159,
    "start_time": "2022-01-22T18:00:37.643Z"
   },
   {
    "duration": 15,
    "start_time": "2022-01-22T18:00:40.427Z"
   },
   {
    "duration": 29,
    "start_time": "2022-01-22T18:00:47.852Z"
   },
   {
    "duration": 6,
    "start_time": "2022-01-22T18:00:59.556Z"
   },
   {
    "duration": 21,
    "start_time": "2022-01-22T18:01:03.508Z"
   },
   {
    "duration": 5,
    "start_time": "2022-01-22T18:01:07.756Z"
   },
   {
    "duration": 28,
    "start_time": "2022-01-22T18:01:10.292Z"
   },
   {
    "duration": 20,
    "start_time": "2022-01-22T18:01:13.475Z"
   },
   {
    "duration": 27,
    "start_time": "2022-01-22T18:01:44.599Z"
   },
   {
    "duration": 94,
    "start_time": "2022-01-22T18:01:48.076Z"
   },
   {
    "duration": 80,
    "start_time": "2022-01-22T18:01:50.660Z"
   },
   {
    "duration": 73,
    "start_time": "2022-01-22T18:01:53.004Z"
   },
   {
    "duration": 72,
    "start_time": "2022-01-22T18:01:56.004Z"
   },
   {
    "duration": 3,
    "start_time": "2022-01-22T18:02:00.076Z"
   },
   {
    "duration": 13,
    "start_time": "2022-01-22T18:02:02.685Z"
   },
   {
    "duration": 69,
    "start_time": "2022-01-22T18:02:05.420Z"
   },
   {
    "duration": 39,
    "start_time": "2022-01-22T18:02:17.988Z"
   },
   {
    "duration": 43,
    "start_time": "2022-01-22T18:02:20.877Z"
   },
   {
    "duration": 45,
    "start_time": "2022-01-22T18:02:40.027Z"
   },
   {
    "duration": 5,
    "start_time": "2022-01-22T18:02:42.500Z"
   },
   {
    "duration": 47,
    "start_time": "2022-01-22T18:02:44.484Z"
   },
   {
    "duration": 36,
    "start_time": "2022-01-22T18:02:50.344Z"
   },
   {
    "duration": 39,
    "start_time": "2022-01-22T18:02:52.460Z"
   },
   {
    "duration": 33,
    "start_time": "2022-01-22T18:02:54.908Z"
   },
   {
    "duration": 49,
    "start_time": "2022-01-22T18:02:56.997Z"
   },
   {
    "duration": 33,
    "start_time": "2022-01-22T18:02:59.189Z"
   },
   {
    "duration": 12,
    "start_time": "2022-01-22T18:03:02.294Z"
   },
   {
    "duration": 14,
    "start_time": "2022-01-22T18:03:09.531Z"
   },
   {
    "duration": 14,
    "start_time": "2022-01-22T18:03:10.507Z"
   },
   {
    "duration": 5,
    "start_time": "2022-01-22T18:03:23.980Z"
   },
   {
    "duration": 23,
    "start_time": "2022-01-22T18:03:26.260Z"
   },
   {
    "duration": 16,
    "start_time": "2022-01-22T18:03:27.947Z"
   },
   {
    "duration": 22,
    "start_time": "2022-01-22T18:03:28.324Z"
   },
   {
    "duration": 16,
    "start_time": "2022-01-22T18:03:29.891Z"
   },
   {
    "duration": 17,
    "start_time": "2022-01-22T18:03:33.220Z"
   },
   {
    "duration": 7,
    "start_time": "2022-01-22T18:03:34.803Z"
   },
   {
    "duration": 9,
    "start_time": "2022-01-22T18:03:38.171Z"
   },
   {
    "duration": 6,
    "start_time": "2022-01-22T18:03:39.723Z"
   },
   {
    "duration": 10,
    "start_time": "2022-01-22T18:04:30.356Z"
   },
   {
    "duration": 7,
    "start_time": "2022-01-22T18:04:34.589Z"
   },
   {
    "duration": 787,
    "start_time": "2022-01-28T13:59:09.277Z"
   },
   {
    "duration": 183,
    "start_time": "2022-01-28T13:59:10.067Z"
   },
   {
    "duration": 33,
    "start_time": "2022-01-28T13:59:10.253Z"
   },
   {
    "duration": 33,
    "start_time": "2022-01-28T13:59:10.288Z"
   },
   {
    "duration": 5,
    "start_time": "2022-01-28T13:59:10.324Z"
   },
   {
    "duration": 51,
    "start_time": "2022-01-28T13:59:10.332Z"
   },
   {
    "duration": 5,
    "start_time": "2022-01-28T13:59:10.385Z"
   },
   {
    "duration": 31,
    "start_time": "2022-01-28T13:59:10.394Z"
   },
   {
    "duration": 57,
    "start_time": "2022-01-28T13:59:10.428Z"
   },
   {
    "duration": 30,
    "start_time": "2022-01-28T13:59:10.488Z"
   },
   {
    "duration": 105,
    "start_time": "2022-01-28T13:59:10.521Z"
   },
   {
    "duration": 106,
    "start_time": "2022-01-28T13:59:10.628Z"
   },
   {
    "duration": 91,
    "start_time": "2022-01-28T13:59:10.736Z"
   },
   {
    "duration": 79,
    "start_time": "2022-01-28T13:59:10.829Z"
   },
   {
    "duration": 4,
    "start_time": "2022-01-28T13:59:10.910Z"
   },
   {
    "duration": 18,
    "start_time": "2022-01-28T13:59:10.917Z"
   },
   {
    "duration": 100,
    "start_time": "2022-01-28T13:59:10.937Z"
   },
   {
    "duration": 55,
    "start_time": "2022-01-28T13:59:11.039Z"
   },
   {
    "duration": 45,
    "start_time": "2022-01-28T13:59:11.097Z"
   },
   {
    "duration": 24,
    "start_time": "2022-01-28T13:59:11.145Z"
   },
   {
    "duration": 65,
    "start_time": "2022-01-28T13:59:11.172Z"
   },
   {
    "duration": 45,
    "start_time": "2022-01-28T13:59:11.240Z"
   },
   {
    "duration": 43,
    "start_time": "2022-01-28T13:59:11.290Z"
   },
   {
    "duration": 62,
    "start_time": "2022-01-28T13:59:11.336Z"
   },
   {
    "duration": 68,
    "start_time": "2022-01-28T13:59:11.400Z"
   },
   {
    "duration": 38,
    "start_time": "2022-01-28T13:59:11.471Z"
   },
   {
    "duration": 13,
    "start_time": "2022-01-28T13:59:11.512Z"
   },
   {
    "duration": 49,
    "start_time": "2022-01-28T13:59:11.528Z"
   },
   {
    "duration": 14,
    "start_time": "2022-01-28T13:59:11.580Z"
   },
   {
    "duration": 8,
    "start_time": "2022-01-28T13:59:11.597Z"
   },
   {
    "duration": 36,
    "start_time": "2022-01-28T13:59:11.608Z"
   },
   {
    "duration": 20,
    "start_time": "2022-01-28T13:59:11.670Z"
   },
   {
    "duration": 25,
    "start_time": "2022-01-28T13:59:11.693Z"
   },
   {
    "duration": 60,
    "start_time": "2022-01-28T13:59:11.721Z"
   },
   {
    "duration": 14,
    "start_time": "2022-01-28T13:59:11.784Z"
   },
   {
    "duration": 7,
    "start_time": "2022-01-28T13:59:11.801Z"
   },
   {
    "duration": 17,
    "start_time": "2022-01-28T13:59:11.811Z"
   },
   {
    "duration": 40,
    "start_time": "2022-01-28T13:59:11.830Z"
   },
   {
    "duration": 538,
    "start_time": "2022-01-30T15:09:23.948Z"
   },
   {
    "duration": 127,
    "start_time": "2022-01-30T15:09:24.488Z"
   },
   {
    "duration": 16,
    "start_time": "2022-01-30T15:09:24.617Z"
   },
   {
    "duration": 21,
    "start_time": "2022-01-30T15:09:24.635Z"
   },
   {
    "duration": 3,
    "start_time": "2022-01-30T15:09:24.658Z"
   },
   {
    "duration": 21,
    "start_time": "2022-01-30T15:09:24.662Z"
   },
   {
    "duration": 28,
    "start_time": "2022-01-30T15:09:24.684Z"
   },
   {
    "duration": 24,
    "start_time": "2022-01-30T15:09:24.714Z"
   },
   {
    "duration": 15,
    "start_time": "2022-01-30T15:09:24.740Z"
   },
   {
    "duration": 21,
    "start_time": "2022-01-30T15:09:24.757Z"
   },
   {
    "duration": 78,
    "start_time": "2022-01-30T15:09:24.779Z"
   },
   {
    "duration": 74,
    "start_time": "2022-01-30T15:09:24.859Z"
   },
   {
    "duration": 49,
    "start_time": "2022-01-30T15:09:24.934Z"
   },
   {
    "duration": 58,
    "start_time": "2022-01-30T15:09:24.985Z"
   },
   {
    "duration": 3,
    "start_time": "2022-01-30T15:09:25.044Z"
   },
   {
    "duration": 13,
    "start_time": "2022-01-30T15:09:25.048Z"
   },
   {
    "duration": 60,
    "start_time": "2022-01-30T15:09:25.062Z"
   },
   {
    "duration": 12,
    "start_time": "2022-01-30T15:09:30.118Z"
   },
   {
    "duration": 30,
    "start_time": "2022-01-30T15:12:15.823Z"
   },
   {
    "duration": 10,
    "start_time": "2022-01-30T15:12:37.523Z"
   },
   {
    "duration": 655,
    "start_time": "2022-02-03T10:13:41.196Z"
   },
   {
    "duration": 210,
    "start_time": "2022-02-03T10:13:41.853Z"
   },
   {
    "duration": 25,
    "start_time": "2022-02-03T10:13:42.066Z"
   },
   {
    "duration": 41,
    "start_time": "2022-02-03T10:13:42.093Z"
   },
   {
    "duration": 5,
    "start_time": "2022-02-03T10:13:42.136Z"
   },
   {
    "duration": 28,
    "start_time": "2022-02-03T10:13:42.160Z"
   },
   {
    "duration": 19,
    "start_time": "2022-02-03T10:13:42.190Z"
   },
   {
    "duration": 27,
    "start_time": "2022-02-03T10:13:42.212Z"
   },
   {
    "duration": 40,
    "start_time": "2022-02-03T10:13:42.241Z"
   },
   {
    "duration": 23,
    "start_time": "2022-02-03T10:13:42.284Z"
   },
   {
    "duration": 87,
    "start_time": "2022-02-03T10:13:42.309Z"
   },
   {
    "duration": 87,
    "start_time": "2022-02-03T10:13:42.397Z"
   },
   {
    "duration": 53,
    "start_time": "2022-02-03T10:13:42.486Z"
   },
   {
    "duration": 68,
    "start_time": "2022-02-03T10:13:42.540Z"
   },
   {
    "duration": 2,
    "start_time": "2022-02-03T10:13:42.610Z"
   },
   {
    "duration": 18,
    "start_time": "2022-02-03T10:13:42.614Z"
   },
   {
    "duration": 58,
    "start_time": "2022-02-03T10:13:42.634Z"
   },
   {
    "duration": 11,
    "start_time": "2022-02-03T10:13:42.693Z"
   },
   {
    "duration": 10,
    "start_time": "2022-02-03T10:13:42.706Z"
   },
   {
    "duration": 7,
    "start_time": "2022-02-03T10:13:45.069Z"
   },
   {
    "duration": 56,
    "start_time": "2022-02-03T10:13:51.940Z"
   },
   {
    "duration": 4,
    "start_time": "2022-02-03T10:14:24.410Z"
   },
   {
    "duration": 19,
    "start_time": "2022-02-03T10:14:27.534Z"
   },
   {
    "duration": 17,
    "start_time": "2022-02-03T10:14:41.289Z"
   },
   {
    "duration": 18,
    "start_time": "2022-02-03T10:14:45.025Z"
   },
   {
    "duration": 16,
    "start_time": "2022-02-03T10:14:46.009Z"
   },
   {
    "duration": 18,
    "start_time": "2022-02-03T10:14:46.628Z"
   },
   {
    "duration": 22,
    "start_time": "2022-02-03T10:14:47.371Z"
   },
   {
    "duration": 12,
    "start_time": "2022-02-03T10:16:02.107Z"
   },
   {
    "duration": 8,
    "start_time": "2022-02-03T10:16:16.131Z"
   },
   {
    "duration": 12,
    "start_time": "2022-02-03T10:16:18.388Z"
   },
   {
    "duration": 10,
    "start_time": "2022-02-03T10:16:18.843Z"
   },
   {
    "duration": 5,
    "start_time": "2022-02-03T10:16:21.011Z"
   },
   {
    "duration": 20,
    "start_time": "2022-02-03T10:16:24.977Z"
   },
   {
    "duration": 14,
    "start_time": "2022-02-03T10:16:25.315Z"
   },
   {
    "duration": 18,
    "start_time": "2022-02-03T10:16:25.718Z"
   },
   {
    "duration": 14,
    "start_time": "2022-02-03T10:16:25.999Z"
   },
   {
    "duration": 13,
    "start_time": "2022-02-03T10:16:31.458Z"
   },
   {
    "duration": 6,
    "start_time": "2022-02-03T10:16:32.182Z"
   },
   {
    "duration": 7,
    "start_time": "2022-02-03T10:16:34.337Z"
   },
   {
    "duration": 5,
    "start_time": "2022-02-03T10:16:34.897Z"
   },
   {
    "duration": 585,
    "start_time": "2022-02-04T06:52:13.929Z"
   },
   {
    "duration": 137,
    "start_time": "2022-02-04T06:52:14.516Z"
   },
   {
    "duration": 16,
    "start_time": "2022-02-04T06:52:14.655Z"
   },
   {
    "duration": 23,
    "start_time": "2022-02-04T06:52:14.673Z"
   },
   {
    "duration": 4,
    "start_time": "2022-02-04T06:52:14.713Z"
   },
   {
    "duration": 21,
    "start_time": "2022-02-04T06:52:14.719Z"
   },
   {
    "duration": 3,
    "start_time": "2022-02-04T06:52:14.742Z"
   },
   {
    "duration": 24,
    "start_time": "2022-02-04T06:52:14.748Z"
   },
   {
    "duration": 38,
    "start_time": "2022-02-04T06:52:14.774Z"
   },
   {
    "duration": 22,
    "start_time": "2022-02-04T06:52:14.814Z"
   },
   {
    "duration": 54,
    "start_time": "2022-02-04T06:52:14.837Z"
   },
   {
    "duration": 83,
    "start_time": "2022-02-04T06:52:14.892Z"
   },
   {
    "duration": 60,
    "start_time": "2022-02-04T06:52:14.977Z"
   },
   {
    "duration": 47,
    "start_time": "2022-02-04T06:52:15.038Z"
   },
   {
    "duration": 2,
    "start_time": "2022-02-04T06:52:15.087Z"
   },
   {
    "duration": 28,
    "start_time": "2022-02-04T06:52:15.091Z"
   },
   {
    "duration": 50,
    "start_time": "2022-02-04T06:52:15.121Z"
   },
   {
    "duration": 10,
    "start_time": "2022-02-04T06:52:15.172Z"
   },
   {
    "duration": 30,
    "start_time": "2022-02-04T06:52:15.183Z"
   },
   {
    "duration": 3,
    "start_time": "2022-02-04T06:52:15.215Z"
   },
   {
    "duration": 23,
    "start_time": "2022-02-04T06:52:15.219Z"
   },
   {
    "duration": 14,
    "start_time": "2022-02-04T06:52:15.244Z"
   },
   {
    "duration": 15,
    "start_time": "2022-02-04T06:52:15.260Z"
   },
   {
    "duration": 36,
    "start_time": "2022-02-04T06:52:15.277Z"
   },
   {
    "duration": 17,
    "start_time": "2022-02-04T06:52:15.314Z"
   },
   {
    "duration": 14,
    "start_time": "2022-02-04T06:52:15.333Z"
   },
   {
    "duration": 8,
    "start_time": "2022-02-04T06:52:15.348Z"
   },
   {
    "duration": 17,
    "start_time": "2022-02-04T06:52:15.357Z"
   },
   {
    "duration": 36,
    "start_time": "2022-02-04T06:52:15.376Z"
   },
   {
    "duration": 4,
    "start_time": "2022-02-04T06:52:15.414Z"
   },
   {
    "duration": 22,
    "start_time": "2022-02-04T06:52:15.419Z"
   },
   {
    "duration": 11,
    "start_time": "2022-02-04T06:52:15.443Z"
   },
   {
    "duration": 15,
    "start_time": "2022-02-04T06:52:15.456Z"
   },
   {
    "duration": 44,
    "start_time": "2022-02-04T06:52:15.473Z"
   },
   {
    "duration": 7,
    "start_time": "2022-02-04T06:52:15.519Z"
   },
   {
    "duration": 4,
    "start_time": "2022-02-04T06:52:15.528Z"
   },
   {
    "duration": 8,
    "start_time": "2022-02-04T06:52:15.533Z"
   },
   {
    "duration": 4,
    "start_time": "2022-02-04T06:52:15.542Z"
   },
   {
    "duration": 624,
    "start_time": "2022-02-09T15:13:58.752Z"
   },
   {
    "duration": 158,
    "start_time": "2022-02-09T15:13:59.378Z"
   },
   {
    "duration": 18,
    "start_time": "2022-02-09T15:13:59.539Z"
   },
   {
    "duration": 30,
    "start_time": "2022-02-09T15:13:59.560Z"
   },
   {
    "duration": 17,
    "start_time": "2022-02-09T15:13:59.592Z"
   },
   {
    "duration": 21,
    "start_time": "2022-02-09T15:13:59.611Z"
   },
   {
    "duration": 5,
    "start_time": "2022-02-09T15:13:59.634Z"
   },
   {
    "duration": 26,
    "start_time": "2022-02-09T15:13:59.642Z"
   },
   {
    "duration": 45,
    "start_time": "2022-02-09T15:13:59.670Z"
   },
   {
    "duration": 27,
    "start_time": "2022-02-09T15:13:59.717Z"
   },
   {
    "duration": 79,
    "start_time": "2022-02-09T15:13:59.746Z"
   },
   {
    "duration": 89,
    "start_time": "2022-02-09T15:13:59.827Z"
   },
   {
    "duration": 58,
    "start_time": "2022-02-09T15:13:59.918Z"
   },
   {
    "duration": 65,
    "start_time": "2022-02-09T15:13:59.978Z"
   },
   {
    "duration": 3,
    "start_time": "2022-02-09T15:14:00.045Z"
   },
   {
    "duration": 34,
    "start_time": "2022-02-09T15:14:00.050Z"
   },
   {
    "duration": 75,
    "start_time": "2022-02-09T15:14:00.086Z"
   },
   {
    "duration": 12,
    "start_time": "2022-02-09T15:14:00.163Z"
   },
   {
    "duration": 35,
    "start_time": "2022-02-09T15:14:00.177Z"
   },
   {
    "duration": 4,
    "start_time": "2022-02-09T15:14:00.846Z"
   },
   {
    "duration": 4,
    "start_time": "2022-02-09T15:14:06.720Z"
   },
   {
    "duration": 25,
    "start_time": "2022-02-09T15:14:14.726Z"
   }
  ],
  "colab": {
   "collapsed_sections": [
    "E0vqbgi9ay0H",
    "VUC88oWjTJw2"
   ],
   "name": "yandex_music_project_2021.2.ipynb",
   "provenance": []
  },
  "kernelspec": {
   "display_name": "Python 3",
   "language": "python",
   "name": "python3"
  },
  "language_info": {
   "codemirror_mode": {
    "name": "ipython",
    "version": 3
   },
   "file_extension": ".py",
   "mimetype": "text/x-python",
   "name": "python",
   "nbconvert_exporter": "python",
   "pygments_lexer": "ipython3",
   "version": "3.7.8"
  },
  "toc": {
   "base_numbering": 1,
   "nav_menu": {},
   "number_sections": true,
   "sideBar": true,
   "skip_h1_title": true,
   "title_cell": "Table of Contents",
   "title_sidebar": "Contents",
   "toc_cell": false,
   "toc_position": {
    "height": "calc(100% - 180px)",
    "left": "10px",
    "top": "150px",
    "width": "270.391px"
   },
   "toc_section_display": true,
   "toc_window_display": false
  }
 },
 "nbformat": 4,
 "nbformat_minor": 1
}
